{
 "cells": [
  {
   "cell_type": "markdown",
   "id": "0b3cd123",
   "metadata": {},
   "source": [
    "# libraries"
   ]
  },
  {
   "cell_type": "code",
   "execution_count": 1,
   "id": "506c4427",
   "metadata": {},
   "outputs": [],
   "source": [
    "import pandas as pd"
   ]
  },
  {
   "cell_type": "code",
   "execution_count": 2,
   "id": "a10133f9",
   "metadata": {},
   "outputs": [],
   "source": [
    "import requests"
   ]
  },
  {
   "cell_type": "markdown",
   "id": "cb3f8234",
   "metadata": {},
   "source": [
    "# data path"
   ]
  },
  {
   "cell_type": "code",
   "execution_count": 3,
   "id": "85b8ae07",
   "metadata": {},
   "outputs": [],
   "source": [
    "data_path = \"../data/\""
   ]
  },
  {
   "cell_type": "code",
   "execution_count": 4,
   "id": "f6b892d6",
   "metadata": {},
   "outputs": [],
   "source": [
    "media_link_dat_filename = \"media_government.xlsx\""
   ]
  },
  {
   "cell_type": "code",
   "execution_count": 5,
   "id": "2c2d01ef",
   "metadata": {},
   "outputs": [
    {
     "data": {
      "text/plain": [
       "Index(['Title', 'Source', 'Data', 'Link', 'Unnamed: 4', 'Unnamed: 5',\n",
       "       'Unnamed: 6', 'Unnamed: 7', 'Unnamed: 8', 'Unnamed: 9', 'Unnamed: 10',\n",
       "       'Unnamed: 11', 'Unnamed: 12'],\n",
       "      dtype='object')"
      ]
     },
     "execution_count": 5,
     "metadata": {},
     "output_type": "execute_result"
    }
   ],
   "source": [
    "media_link_dat = pd.read_excel(data_path+media_link_dat_filename)\n",
    "media_link_dat.columns = [label.strip() for label in media_link_dat.columns]\n",
    "media_link_dat.columns"
   ]
  },
  {
   "cell_type": "code",
   "execution_count": 6,
   "id": "f89e56dd",
   "metadata": {},
   "outputs": [
    {
     "data": {
      "text/html": [
       "<div>\n",
       "<style scoped>\n",
       "    .dataframe tbody tr th:only-of-type {\n",
       "        vertical-align: middle;\n",
       "    }\n",
       "\n",
       "    .dataframe tbody tr th {\n",
       "        vertical-align: top;\n",
       "    }\n",
       "\n",
       "    .dataframe thead th {\n",
       "        text-align: right;\n",
       "    }\n",
       "</style>\n",
       "<table border=\"1\" class=\"dataframe\">\n",
       "  <thead>\n",
       "    <tr style=\"text-align: right;\">\n",
       "      <th></th>\n",
       "      <th>Source</th>\n",
       "      <th>Link</th>\n",
       "    </tr>\n",
       "  </thead>\n",
       "  <tbody>\n",
       "    <tr>\n",
       "      <th>0</th>\n",
       "      <td>Хабар</td>\n",
       "      <td>https://khabar.kz/ru/news/obshchestvo/item/137...</td>\n",
       "    </tr>\n",
       "    <tr>\n",
       "      <th>1</th>\n",
       "      <td>Хабар</td>\n",
       "      <td>https://khabar.kz/ru/news/politika/item/137784...</td>\n",
       "    </tr>\n",
       "    <tr>\n",
       "      <th>2</th>\n",
       "      <td>Хабар</td>\n",
       "      <td>https://khabar.kz/ru/news/politika/item/137785...</td>\n",
       "    </tr>\n",
       "    <tr>\n",
       "      <th>3</th>\n",
       "      <td>Хабар</td>\n",
       "      <td>https://khabar.kz/ru/news/politika/item/137786...</td>\n",
       "    </tr>\n",
       "    <tr>\n",
       "      <th>4</th>\n",
       "      <td>Хабар</td>\n",
       "      <td>https://khabar.kz/ru/news/obshchestvo/item/137...</td>\n",
       "    </tr>\n",
       "  </tbody>\n",
       "</table>\n",
       "</div>"
      ],
      "text/plain": [
       "  Source                                               Link\n",
       "0  Хабар  https://khabar.kz/ru/news/obshchestvo/item/137...\n",
       "1  Хабар  https://khabar.kz/ru/news/politika/item/137784...\n",
       "2  Хабар  https://khabar.kz/ru/news/politika/item/137785...\n",
       "3  Хабар  https://khabar.kz/ru/news/politika/item/137786...\n",
       "4  Хабар  https://khabar.kz/ru/news/obshchestvo/item/137..."
      ]
     },
     "execution_count": 6,
     "metadata": {},
     "output_type": "execute_result"
    }
   ],
   "source": [
    "select_columns = [\"Source\",\"Link\"]\n",
    "media_link_dat = media_link_dat[select_columns]\n",
    "media_link_dat.head()"
   ]
  },
  {
   "cell_type": "code",
   "execution_count": 7,
   "id": "ea371277",
   "metadata": {},
   "outputs": [
    {
     "data": {
      "text/plain": [
       "['akorda.kz', 'zakon.kz', 'tengrinews.kz', 'nur.kz', 'sputnik.kz', 'Хабар']"
      ]
     },
     "execution_count": 7,
     "metadata": {},
     "output_type": "execute_result"
    }
   ],
   "source": [
    "list(set(media_link_dat.Source.to_list()))"
   ]
  },
  {
   "cell_type": "code",
   "execution_count": 8,
   "id": "c1ba6a8d",
   "metadata": {},
   "outputs": [],
   "source": [
    "cluster1_agencies = ['akorda.kz','Хабар','nur.kz']\n",
    "cluster2_agencies = ['sputnik.kz','zakon.kz','tengrinews.kz']"
   ]
  },
  {
   "cell_type": "code",
   "execution_count": 9,
   "id": "a5806f82",
   "metadata": {},
   "outputs": [
    {
     "data": {
      "text/plain": [
       "['https://khabar.kz/ru/news/obshchestvo/item/137781-khronologiya-protestov-v-mangistauskoj-oblasti',\n",
       " 'https://khabar.kz/ru/news/politika/item/137784-rezhim-chp-v-mangistauskoj-oblasti-i-almaty-prodlitsya-do-19-yanvarya',\n",
       " 'https://khabar.kz/ru/news/politika/item/137785-prezident-kazakhstana-nazval-vinovnykh-v-dopushchenii-protestnoj-situatsii',\n",
       " 'https://khabar.kz/ru/news/politika/item/137786-k-tokaev-odna-iz-glavnejshikh-zadach-ispolnitelnoj-vlasti-ostalas-nevypolnennoj',\n",
       " 'https://khabar.kz/ru/news/obshchestvo/item/137792-kakoj-ushcherb-nanesli-uchastniki-mitingov',\n",
       " 'https://khabar.kz/ru/news/obshchestvo/item/137801-190-postradavshikh-v-nochnykh-besporyadkakh-obratilis-za-medpomoshchyu-v-almaty',\n",
       " 'https://khabar.kz/ru/news/politika/item/137805-o-vvedenii-chrezvychajnogo-polozheniya-v-gorode-nur-sultane',\n",
       " 'https://khabar.kz/ru/news/obshchestvo/item/137818-khronologiya-protestov-v-kazakhstane',\n",
       " 'https://khabar.kz/ru/news/politika/item/137808-prezident-kazakhstana-provel-zasedanie-kontrterroristicheskogo-shtaba',\n",
       " 'https://khabar.kz/ru/news/obshchestvo/item/137820-odkb-obespechivaet-tyl-kazakhstanskim-voennym-i-politsejskim',\n",
       " 'https://khabar.kz/ru/news/obshchestvo/item/137828-genprokuratura-zavedeny-ugolovnye-dela',\n",
       " 'https://khabar.kz/ru/news/politika/item/137831-obrashchenie-glavy-gosudarstva-k-narodu-kazakhstana-7-yanvarya-2022-god',\n",
       " 'https://khabar.kz/ru/news/obshchestvo/item/137852-mvd-rk-sredi-zaderzhannykh-est-inostrannye-grazhdane',\n",
       " 'https://khabar.kz/ru/news/obshchestvo/item/137861-uchastnikov-protestov-v-almaty-zaderzhali-v-zko',\n",
       " 'https://khabar.kz/ru/news/obshchestvo/item/137848-10-yanvarya-den-traura-v-kazakhstane',\n",
       " 'https://khabar.kz/ru/news/obshchestvo/item/137869-pochti-700-chelovek-zaderzhali-v-kostanajskoj-oblasti',\n",
       " 'https://khabar.kz/ru/news/obshchestvo/item/137871-politsejskie-zaderzhali-vooruzhjonnykh-lyudej-v-zko',\n",
       " 'https://khabar.kz/ru/news/obshchestvo/item/137862-situatsiya-v-aktau-stabilnaya',\n",
       " 'https://khabar.kz/ru/news/obshchestvo/item/137859-predprinimatel-i-metsenat-prizyvaet-biznesmenov-podderzhat-stranu',\n",
       " 'https://khabar.kz/ru/news/obshchestvo/item/137866-sostoyalsya-telefonnyj-razgovor-s-prezidentom-rossii-vladimirom-putinym',\n",
       " 'https://khabar.kz/ru/news/obshchestvo/item/137874-ekspert-rasskazal-o-pervoj-mirotvorcheskoj-missii-kazakhstana',\n",
       " 'https://khabar.kz/ru/news/obshchestvo/item/137881-dvukh-chelovek-arestovali-v-aktobe-za-organizatsiyu-massovykh-besporyadkov',\n",
       " 'https://khabar.kz/ru/news/proisshestviya/item/137912-zaderzhaniya-uchastnikov-besporyadkov-v-regionakh-prodolzhayutsya',\n",
       " 'https://khabar.kz/ru/news/politika/item/137925-prezident-kazakhstana-provel-zasedanie-operativnogo-shtaba',\n",
       " 'https://khabar.kz/ru/news/proisshestviya/item/137933-na-territorii-kazakhstana-vveli-maksimalnyj-uroven-terroristicheskoj-opasnosti',\n",
       " 'https://khabar.kz/ru/news/obshchestvo/item/137948-v-kyzylorde-zaderzhali-27-terroristov',\n",
       " 'https://khabar.kz/ru/news/politika/item/137949-mo-rk-spetsoperatsiya-prodolzhitsya',\n",
       " 'https://khabar.kz/ru/news/obshchestvo/item/137964-den-obshchenatsionalnogo-traura-prokhodit-v-kazakhstane',\n",
       " 'https://khabar.kz/ru/news/proisshestviya/item/137975-v-rk-nejtralizovany-dve-ekstremistskie-yachejki',\n",
       " 'https://khabar.kz/ru/news/politika/item/137977-k-tokaev-konstitutsionnyj-poryadok-v-rk-vosstanovlen',\n",
       " 'https://khabar.kz/ru/news/politika/item/137986-k-tokaev-antiterroristicheskaya-operatsiya-zavershitsya-v-blizhajshee-vremya',\n",
       " 'https://khabar.kz/ru/news/politika/item/138006-poetapnyj-vyvod-vojsk-odkb-nachnjotsya-cherez-dva-dnya-k-tokaev',\n",
       " 'https://khabar.kz/ru/news/politika/item/138023-vystuplenie-glavy-gosudarstva-k-k-tokaeva-na-zasedanii-mazhilisa-parlamenta-rk',\n",
       " 'https://khabar.kz/ru/news/obshchestvo/item/138063-t-marmontova-mirotvortsy-odkb-nash-garant-bezopasnosti',\n",
       " 'https://khabar.kz/ru/news/obshchestvo/item/138118-v-almaty-nachalsya-vyvod-mirotvortsev-odkb',\n",
       " 'https://khabar.kz/ru/news/politika/item/138137-prezident-rk-provel-telefonnye-peregovory-s-glavami-gosudarstv-chlenov-odkb',\n",
       " 'https://khabar.kz/ru/news/politika/item/138138-po-faktu-zakhvata-vlasti-nachato-ugolovnoe-delo-v-otnoshenii-eks-rukovodstva-knb',\n",
       " 'https://khabar.kz/ru/news/obshchestvo/item/138139-veb-sajt-dlya-anonimnoj-zagruzki-foto-i-video-terroristicheskikh-aktov-zapushchen-v-rk',\n",
       " 'https://khabar.kz/ru/news/proisshestviya/item/138188-149-chelovek-pogibli-vo-vremya-terroristicheskikh-atak-v-almaty',\n",
       " 'https://khabar.kz/ru/news/politika/item/138237-elbasy-obratilsya-k-narodu-kazakhstana',\n",
       " 'https://khabar.kz/ru/news/obshchestvo/item/138248-rezhim-chp-prekrashchaetsya-v-kazakhstane',\n",
       " 'https://khabar.kz/ru/news/obshchestvo/item/138285-glava-politsii-almaty-rasskazal-kto-shturmoval-zdaniya-dp',\n",
       " 'https://khabar.kz/ru/news/obshchestvo/item/138439-krasnyj-uroven-terroristicheskoj-opasnosti-otmenyaetsya-v-almaty',\n",
       " 'https://khabar.kz/ru/news/obshchestvo/item/138618-35-chlenov-ekstremistskikh-organizatsij-arestovany-v-kazakhstane',\n",
       " 'https://khabar.kz/ru/news/politika/item/138720-prezident-pochtil-pamyat-zhertv-yanvarskoj-tragedii',\n",
       " 'https://khabar.kz/ru/news/politika/item/138801-ugroza-povtornogo-terroristicheskogo-napadeniya-eshchjo-ne-otstupila-zayavil-k-tokaev',\n",
       " 'https://khabar.kz/ru/news/obshchestvo/item/139062-yanvarskaya-tragediya-stala-rokovoj-dlya-mnogikh-pravookhranitelej',\n",
       " 'https://khabar.kz/ru/news/obshchestvo/item/139379-ministr-vnutrennikh-del-dolozhil-prezidentu-o-proizvodstve-ugolovnykh-del-po-yanvarskim-sobytiyam',\n",
       " 'https://khabar.kz/ru/news/politika/item/139312-poslanie-k-tokaeva-narodu-kazakhstana',\n",
       " 'https://khabar.kz/ru/news/politika/item/139310-k-tokaev-vinovnye-ponesut-nakazanie-kakie-by-dolzhnosti-oni-ni-zanimali',\n",
       " 'https://khabar.kz/ru/news/politika/item/142318-poslanie-glavy-gosudarstva-kasym-zhomarta-tokaeva-narodu-kazakhstana',\n",
       " 'https://khabar.kz/ru/news/politika/item/144103-glava-gosudarstva-prinyal-generalnogo-prokurora-berika-asylova',\n",
       " 'https://khabar.kz/ru/news/politika/item/144282-glava-gosudarstva-provel-vstrechu-s-obshchestvennostyu-goroda-almaty',\n",
       " 'https://khabar.kz/ru/news/proisshestviya/item/145451-vyyavlena-glavnaya-prichina-yanvarskikh-besporyadkov',\n",
       " 'https://khabar.kz/ru/news/proisshestviya/item/145452-yanvarskie-sobytiya-mediki-podelilis-vospominaniyami',\n",
       " 'https://khabar.kz/ru/news/obshchestvo/item/138185-protesty-2022-kak-kazakhstantsy-mogut-pomoch-sledstviyu',\n",
       " 'https://khabar.kz/ru/news/obshchestvo/item/138251-besporyadki-v-kazakhstane-utverzhden-mekhanizm-vozmeshcheniya-ushcherba-msb',\n",
       " 'https://khabar.kz/ru/news/obshchestvo/item/138402-v-almaty-nachaty-vyplaty-postradavshim-ot-besporyadkov-fizlitsam',\n",
       " 'https://khabar.kz/ru/news/kultura/item/138440-dokumentalnyj-film-o-sobytiyakh-tragicheskogo-yanvarya-prezentovali-v-nur-sultane',\n",
       " 'https://khabar.kz/ru/news/obshchestvo/item/138592-obshchaya-summa-ushcherba-ot-besporyadkov-prevysila-88-mlrd-tenge',\n",
       " 'https://khabar.kz/ru/news/obshchestvo/item/138615-arestovan-eks-zamestitel-glavy-knb-daulet-ergozhin',\n",
       " 'https://khabar.kz/ru/news/obshchestvo/item/138618-35-chlenov-ekstremistskikh-organizatsij-arestovany-v-kazakhstane',\n",
       " 'https://khabar.kz/ru/news/politika/item/138801-ugroza-povtornogo-terroristicheskogo-napadeniya-eshchjo-ne-otstupila-zayavil-k-tokaev',\n",
       " 'https://khabar.kz/ru/news/obshchestvo/item/139062-yanvarskaya-tragediya-stala-rokovoj-dlya-mnogikh-pravookhranitelej',\n",
       " 'https://khabar.kz/ru/news/novosti-o-deyatelnosti/item/139083-premera-filma-tragicheskij-yanvar-besporyadki-na-telekanale-khabar',\n",
       " 'https://khabar.kz/ru/news/politika/item/142318-poslanie-glavy-gosudarstva-kasym-zhomarta-tokaeva-narodu-kazakhstana',\n",
       " 'https://khabar.kz/ru/news/politika/item/144282-glava-gosudarstva-provel-vstrechu-s-obshchestvennostyu-goroda-almaty',\n",
       " 'https://khabar.kz/ru/news/politika/item/145236-prezident-prinyal-uchastie-v-otkrytii-memoriala-tagzym',\n",
       " 'https://khabar.kz/ru/news/obshchestvo/item/139062-yanvarskaya-tragediya-stala-rokovoj-dlya-mnogikh-pravookhranitelej',\n",
       " 'https://khabar.kz/ru/news/obshchestvo/item/139379-ministr-vnutrennikh-del-dolozhil-prezidentu-o-proizvodstve-ugolovnykh-del-po-yanvarskim-sobytiyam',\n",
       " 'https://khabar.kz/ru/news/politika/item/138237-elbasy-obratilsya-k-narodu-kazakhstana',\n",
       " 'https://khabar.kz/ru/arkhiv-otdel-zhurnalistskikh-rassledovanij/item/138392-chernyj-yanvar-otdel-zhurnalistskikh-rassledovanij',\n",
       " 'https://khabar.kz/ru/news/politika/item/138720-prezident-pochtil-pamyat-zhertv-yanvarskoj-tragedii',\n",
       " 'https://khabar.kz/ru/news/obshchestvo/item/138784-almatinskaya-rezidentsiya-glavy-gosudarstva-budet-vosstanovlena-do-kontsa-goda',\n",
       " 'https://khabar.kz/ru/news/obshchestvo/item/138858-yanvarskaya-tragediya-glazami-politsejskogo',\n",
       " 'https://khabar.kz/ru/news/obshchestvo/item/138999-m-kajsarov-nagrazhden-ordenom-ajbyn-posmertno',\n",
       " 'https://khabar.kz/ru/news/obshchestvo/item/139051-bojtsy-natsionalnoj-gvardii-blagodarili-segodnya-almatintsev',\n",
       " 'https://khabar.kz/ru/news/politika/item/137779-kasym-zhomart-tokaev-prinyal-otstavku-pravitelstva',\n",
       " 'https://khabar.kz/ru/news/obshchestvo/item/138738-almatinskie-predprinimateli-vynuzhdeny-vosstanavlivat-svoj-biznes-samostoyatelno',\n",
       " 'https://khabar.kz/ru/news/obshchestvo/item/138784-almatinskaya-rezidentsiya-glavy-gosudarstva-budet-vosstanovlena-do-kontsa-goda',\n",
       " 'https://khabar.kz/ru/news/obshchestvo/item/138947-mediki-almaty-vyderzhali-nedelnuyu-vakhtu-vo-vremya-yanvarskikh-sobytij',\n",
       " 'https://khabar.kz/ru/news/obshchestvo/item/139379-ministr-vnutrennikh-del-dolozhil-prezidentu-o-proizvodstve-ugolovnykh-del-po-yanvarskim-sobytiyam',\n",
       " 'https://khabar.kz/ru/news/obshchestvo/item/137979-zhiteli-petropavlovska-sdayut-krov-dlya-postradavshikh-v-almaty',\n",
       " 'https://khabar.kz/ru/news/obshchestvo/item/138122-kak-i-kogda-budet-vozmeshchen-ushcherb-postradavshim-obektam-biznesa-v-almaty',\n",
       " 'https://khabar.kz/ru/news/obshchestvo/item/138185-protesty-2022-kak-kazakhstantsy-mogut-pomoch-sledstviyu',\n",
       " 'https://khabar.kz/ru/news/obshchestvo/item/138251-besporyadki-v-kazakhstane-utverzhden-mekhanizm-vozmeshcheniya-ushcherba-msb',\n",
       " 'https://www.nur.kz/politics/kazakhstan/1975403-uchastnikov-massovyh-besporyadkov-v-kazahstane-budut-ugolovno-nakazyvat-za-nepovinovenie-vlastyam/',\n",
       " 'https://www.nur.kz/politics/kazakhstan/1973812-po-3-mln-tenge-vyplatili-voennym-i-politseyskim-tyazhelo-ranenym-vo-vremya-yanvarskih-sobytiy/',\n",
       " 'https://www.nur.kz/politics/kazakhstan/1973200-ugroza-vsegda-est-glava-mvd-o-vozmozhnosti-povtoreniya-yanvarskih-sobytiy-v-kazahstane/',\n",
       " 'https://www.nur.kz/politics/kazakhstan/1973183-otvetstvennost-pervyh-rukovoditeley-pri-chp-uzhestochat-v-kazahstane/',\n",
       " 'https://www.nur.kz/politics/kazakhstan/1972590-tokaev-o-yanvarskih-sobytiyah-tsifru-v-20-tysyach-terroristov-dali-byvshie-rukovoditeli-organov/',\n",
       " 'https://www.nur.kz/politics/kazakhstan/1972585-tokaev-o-rassledovanii-yanvarskih-sobytiy-my-vse-delaem-otkryto/',\n",
       " 'https://www.nur.kz/politics/kazakhstan/1971584-nazarbaev-vyskazalsya-o-yanvarskih-sobytiyah-otvetstvennosti-rodstvennikov-i-svoem-buduschem/',\n",
       " 'https://www.nur.kz/politics/kazakhstan/1967397-tokaev-o-yanvarskih-sobytiyah-my-chut-ne-poteryali-svoyu-gosudarstvennost/',\n",
       " 'https://www.nur.kz/politics/kazakhstan-economy/1963999-31-mlrd-tenge-planiruyut-vydelit-na-ustranenie-posledstviy-yanvarskih-besporyadkov-v-kazahstane/',\n",
       " 'https://www.nur.kz/politics/kazakhstan/1963782-tokaev-prinyal-genprokurora-berika-asylova/',\n",
       " 'https://www.nur.kz/politics/kazakhstan/1961541-tokaev-prinyal-ministra-vnutrennih-del-marata-ahmetzhanova/',\n",
       " 'https://www.nur.kz/politics/kazakhstan/1960969-tokaev-o-pytkah-oni-ne-priemlemy-dlya-nas/',\n",
       " 'https://www.nur.kz/politics/kazakhstan/1960555-mvd-po-itogam-yanvarskoy-tragedii-rassleduetsya-89-ubiystv/',\n",
       " 'https://www.nur.kz/politics/kazakhstan/1957103-tokaev-prinyal-veritelnye-gramoty-u-poslov-ryada-gosudarstv/',\n",
       " 'https://www.nur.kz/politics/kazakhstan/1956690-tokaev-prokommentiroval-versiyu-o-tom-chto-ego-pytalis-izgnat-iz-strany/',\n",
       " 'https://www.nur.kz/politics/kazakhstan/1956670-tokaev-o-zayavleniyah-kazahstantsev-o-pytkah-eto-nedopustimo/',\n",
       " 'https://www.nur.kz/politics/kazakhstan/1956664-tokaev-o-besporyadkah-v-almaty-nelzya-nazyvat-terroristov-i-banditov-geroyami-i-batyrami/',\n",
       " 'https://www.nur.kz/politics/kazakhstan/1956663-preobrazovaniya-mogli-zatronut-ih-interesy-prichinu-vosstaniy-protiv-vlasti-nazval-tokaev/',\n",
       " 'https://www.nur.kz/politics/kazakhstan/1956662-tokaev-rasskazal-pochemu-ego-pervoe-intervyu-posle-yanvarskih-sobytiy-bylo-na-russkom-yazyke/',\n",
       " 'https://www.nur.kz/politics/kazakhstan/1956667-tokaev-otvetil-na-vopros-o-rassledovanii-yanvarskih-sobytiy/',\n",
       " 'https://www.nur.kz/politics/kazakhstan/1956638-tokaev-dal-turgumbaevu-poruchenie-po-rassledovaniyu-yanvarskih-sobytiy/',\n",
       " 'https://www.nur.kz/politics/kazakhstan/1956443-novoe-intervyu-tokaeva-pokazhut-v-pryamom-efire/',\n",
       " 'https://www.nur.kz/politics/kazakhstan/1955865-gosudarstvo-ne-ostavit-vas-naedine-s-bedoy-tokaev-obratilsya-k-semyam-pogibshih-v-yanvarskih-besporyadkah/',\n",
       " 'https://www.nur.kz/politics/universe/1955588-tokaev-provel-vstrechu-putinym/',\n",
       " 'https://www.nur.kz/politics/kazakhstan/1955122-tokaev-o-zabastovkah-v-magistau-esli-nuzhno-opyat-otpravit-v-oblast-spetskomissiyu/',\n",
       " 'https://www.nur.kz/politics/kazakhstan/1955061-tokaev-yanvarskie-sobytiya-v-korne-izmenili-nashu-zhizn/',\n",
       " 'https://www.nur.kz/politics/kazakhstan/1955006-besporyadki-v-kazahstane-arestovany-35-chlenov-zapreschennyh-ekstremistskih-dvizheniy/',\n",
       " 'https://www.nur.kz/politics/universe/1953652-tokaev-o-reaktsii-zapada-na-prikaz-strelyat-na-porazhenie-ya-diplomat-ya-znal-posledstviya/',\n",
       " 'https://www.nur.kz/politics/kazakhstan/1953537-tokaev-tragicheskiy-yanvar-stal-dlya-nas-samym-surovym-ispytaniem-za-vse-gody-nezavisimosti/',\n",
       " 'https://www.nur.kz/politics/kazakhstan/1953496-reaktsiya-zapada-na-sobytiya-v-kazahstane-vozmutila-genkonsula-rossii/',\n",
       " 'https://www.nur.kz/politics/kazakhstan/1952481-tokaev-poruchil-provesti-tschatelnoe-rassledovanie-po-kazhdomu-sluchayu-gibeli-lyudey/',\n",
       " 'https://www.nur.kz/politics/kazakhstan/1951935-glava-mid-kazahstana-pekin-byl-gotov-okazat-voennuyu-pomosch/',\n",
       " 'https://www.nur.kz/politics/kazakhstan/1951310-tokaev-provel-soveschanie-s-rukovodstvom-silovyh-struktur/',\n",
       " 'https://www.nur.kz/politics/kazakhstan/1951265-tokaev-dal-porucheniya-genprokurature-v-svyazi-s-sobytiyami-tragicheskogo-yanvarya/',\n",
       " 'https://www.nur.kz/politics/kazakhstan/1951273-press-sekretar-tokaeva-obyasnil-ego-poruchenie-genprokurature-o-smyagchenii-nakazaniya/',\n",
       " 'https://www.nur.kz/politics/kazakhstan/1951260-esche-v-dvuh-oblastyah-kazahstana-otmenili-rezhim-chp/',\n",
       " 'https://www.nur.kz/politics/kazakhstan/1951210-rezhim-chp-otmetili-v-shymkente/',\n",
       " 'https://www.nur.kz/politics/kazakhstan/1950950-memorial-pogibshim-v-besporyadkah-silovikam-ustanovyat-v-tsentre-almaty/',\n",
       " 'https://www.nur.kz/politics/kazakhstan/1950922-on-poluchaet-mnogo-soobscheniy-aliya-nazarbaeva-poblagodarila-kazahstantsev-za-podderzhku-elbasy/',\n",
       " 'https://www.nur.kz/politics/kazakhstan/1950557-protestuyuschie-zastavili-akima-napisat-zayavlenie-ob-uvolnenii-v-pavlodarskoy-oblasti/',\n",
       " 'https://www.nur.kz/politics/kazakhstan-economy/1950473-tokaev-tragicheskie-sobytiya-vyzvany-provalnoy-deyatelnostyu-vseh-gosorganov/',\n",
       " 'https://www.nur.kz/politics/kazakhstan/1950450-tokaev-my-mogli-polnostyu-utratit-kontrol-nad-almaty/',\n",
       " 'https://www.nur.kz/politics/kazakhstan/1950462-tokaev-zayavil-o-bezdeystvii-knb-kazahstana/',\n",
       " 'https://www.nur.kz/politics/kazakhstan/1950456-tokaev-popytka-gosperevorota-v-kazahstane-provalilas/',\n",
       " 'https://www.nur.kz/politics/kazakhstan-economy/1950422-uscherb-kazahstanskomu-biznesu-ot-besporyadkov-prevysil-95-mlrd-tenge/',\n",
       " 'https://www.nur.kz/politics/kazakhstan/1950357-tokaev-ozvuchil-ekonomicheskiy-uscherb-ot-besporyadkov-v-kazahstane/',\n",
       " 'https://www.nur.kz/politics/universe/1950309-putin-o-situatsii-v-kazahstane-my-nablyudaem-agressiyu-imenno-mezhdunarodnogo-terrorizma/',\n",
       " 'https://www.nur.kz/politics/universe/1950299-my-ne-prishli-po-svoemu-zhelaniyu-nas-priglasil-nash-drug-lukashenko-o-vvode-voysk-odkb/',\n",
       " 'https://www.nur.kz/politics/universe/1950303-putin-o-besporyadkah-v-kazahstane-primenyali-maydannye-tehnologii/',\n",
       " 'https://www.nur.kz/politics/universe/1950126-spetssluzhby-kyrgyzstana-vyskazalis-ob-uchastii-svoih-grazhdan-v-besporyadkah-v-kazahstane/',\n",
       " 'https://www.nur.kz/politics/kazakhstan/1950256-erlan-karin-v-kazahstane-byl-primenen-prakticheskiy-ves-arsenal-instrumentov-i-priemov-po-destabilizatsii-situatsii/',\n",
       " 'https://www.nur.kz/politics/kazakhstan/1950196-na-konu-stoyal-vopros-smozhem-li-my-sohranit-gosudarstvo-gossekretar-o-sobytiyah-v-kazahstane/',\n",
       " 'https://www.nur.kz/politics/kazakhstan/1950011-predatelstvo-ohvatilo-bolshoe-kolichestvo-vedomstv-politolog-o-besporyadkah-v-kazahstane/',\n",
       " 'https://www.nur.kz/politics/kazakhstan/1950012-etot-zagovor-imel-svoih-kuklovodov-sredi-vysshey-elity-silovyh-blokov-politolog-o-pogromah-v-kazahstane/',\n",
       " 'https://www.nur.kz/politics/kazakhstan/1949981-kakaya-glupost-tokaev-otvetil-na-prizyvy-zarubezhnyh-stran-k-mirnym-peregovoram-s-terroristami/',\n",
       " 'https://www.nur.kz/politics/kazakhstan/1949979-tokaev-prikazal-otkryvat-ogon-na-porazhenie-po-terroristam/',\n",
       " 'https://www.nur.kz/politics/universe/1949949-belyy-dom-sdelal-zayavlenie-iz-za-protestov-v-kazahstane/',\n",
       " 'https://www.nur.kz/politics/kazakhstan/1949943-rezhim-chp-vvoditsya-vo-vsem-kazahstane/',\n",
       " 'https://www.nur.kz/politics/kazakhstan/1949936-nameren-deystvovat-maksimalno-zhestko-tokaev-obratilsya-k-kazahstantsam/',\n",
       " 'https://www.nur.kz/politics/kazakhstan/1949858-nam-vsem-nuzhno-sohranyat-spokoystvie-deputat-o-situatsii-v-kazahstane/',\n",
       " 'https://www.nur.kz/politics/kazakhstan/1949857-otstavka-pravitelstva-iz-za-massovyh-aktsiy-protesta-mnenie-politologov/',\n",
       " 'https://www.nur.kz/politics/kazakhstan/1949840-ekspert-o-rezhime-chp-po-drugomu-vozmozhnosti-uderzhat-situatsiyu-pod-kontrolem-net/',\n",
       " 'https://www.nur.kz/politics/kazakhstan/1949815-tokaev-osobaya-vina-za-dopuschenie-protestnoy-situatsii-lezhit-na-pravitelstve-i-ministerstve-energetiki/',\n",
       " 'https://www.nur.kz/politics/kazakhstan/1949766-tokaev-podpisal-ukaz-o-vvedenii-chrezvychaynogo-polozheniya-v-almaty-i-mangistauskoy-oblasti/',\n",
       " 'https://www.nur.kz/politics/kazakhstan/1949742-prezident-tokaev-obratilsya-k-demonstrantam/',\n",
       " 'https://www.nur.kz/politics/kazakhstan/1949722-pravitelstvo-o-sobytiyah-v-mangistau-budet-prinyato-reshenie-udovletvoryayuschee-vse-storony/',\n",
       " 'https://www.nur.kz/politics/kazakhstan/1949725-pravitelstvennaya-komissiya-provodit-peregovory-s-gruppoy-aktivistov-v-mangistau/',\n",
       " 'https://www.nur.kz/politics/kazakhstan/1949706-tokaev-soobschil-o-nachale-raboty-komissii-v-mangistau/',\n",
       " 'https://www.nur.kz/politics/kazakhstan/1949685-ya-chuvstvuyu-svoyu-otvetstvennost-mirzagaliev-o-situatsii-v-mangistauskoy-oblasti/',\n",
       " 'https://www.nur.kz/politics/kazakhstan/1949639-tokaev-vyskazalsya-o-situatsii-v-zhanaozene/',\n",
       " 'https://www.nur.kz/politics/kazakhstan/2004238-tokaev-pochtil-pamyat-zhertv-yanvarskih-sobytiy-v-mecheti-foto/',\n",
       " 'https://www.nur.kz/politics/kazakhstan/1994514-senat-podderzhal-proekt-zakona-ob-amnistii-uchastnikov-yanvarskih-sobytiy-v-kazahstane/',\n",
       " 'https://www.nur.kz/politics/kazakhstan/1994421-o-rabote-nad-zakonoproektom-ob-amnistii-dlya-uchastnikov-yanvarskih-sobytiy-dolozhili-tokaevu/',\n",
       " 'https://www.nur.kz/politics/kazakhstan/1986627-turgumbaeva-doprosili-v-kachestve-svidetelya-gp-o-rassledovanii-yanvarskih-sobytiy/',\n",
       " 'https://www.nur.kz/politics/kazakhstan/1979488-v-almaty-99-subektov-msb-vosstanovili-svoyu-deyatelnost-posle-yanvarskih-sobytiy/',\n",
       " 'https://www.nur.kz/politics/kazakhstan/1975426-obrazets-patriotizma-i-muzhestva-tokaev-o-povedenii-politsii-vo-vremya-yanvarskih-sobytiy/',\n",
       " 'https://www.nur.kz/politics/kazakhstan/1974172-tokaevu-predlagali-pokinut-kazahstan-vo-vremya-yanvarskih-sobytiy/',\n",
       " 'https://www.nur.kz/society/1950278-administratora-pablika-arestovali-za-post-pro-mitingi-v-sko/',\n",
       " 'https://www.nur.kz/society/2004194-vystavku-iz-naydennogo-posle-yanvarskih-besporyadkov-oruzhiya-ustroili-v-mazhilise-foto/',\n",
       " 'https://www.nur.kz/society/1985967-nagrazhden-politseyskiy-ranennyy-pri-presechenii-yanvarskih-besporyadkov-video/',\n",
       " 'https://www.nur.kz/society/1965165-propavshego-posle-yanvarskih-besporyadkov-inostrantsa-ischut-v-kazahstane/',\n",
       " 'https://www.nur.kz/society/1954721-deputaty-vstretilis-s-rodnymi-zaderzhannyh-vo-vremya-besporyadkov-v-almaty/',\n",
       " 'https://www.nur.kz/society/1954441-postradavshih-ot-besporyadkov-predprinimateley-osvobodili-ot-arendnoy-platy-za-gosimuschestvo/',\n",
       " 'https://www.nur.kz/society/1959294-pochemu-reshili-snesti-zdanie-rezidentsii-prezidenta-v-almaty/',\n",
       " 'https://www.nur.kz/society/1963741-kogda-semi-pogibshih-v-hode-yanvarskih-sobytiy-silovikov-poluchat-kvartiry-rasskazal-tugzhanov/',\n",
       " 'https://www.nur.kz/society/1964875-semyam-sluchaynyh-zhertv-yanvarskih-sobytiy-vydelyayut-po-7-mln-tenge-iz-fonda-qazaqstan-halqyna/',\n",
       " 'https://www.nur.kz/society/1966358-po-7-mln-tenge-vyplatil-qazaqstan-halqyna-semyam-sluchaynyh-zhertv-yanvarskih-sobytiy/',\n",
       " 'https://www.nur.kz/society/1968299-s-detstva-mechtal-rabotat-v-politsii-o-pogibshih-v-yanvare-politseyskih-rasskazali-ih-rodnye/',\n",
       " 'https://www.nur.kz/society/1972587-tokaev-otvetil-opublikuyut-li-spisok-pogibshih-vo-vremya-yanvarskih-sobytiy/',\n",
       " 'https://www.nur.kz/society/1993512-kak-vosstanavlivayut-sgorevshie-v-yanvare-zdaniya-v-almaty-otvetil-dosaev/',\n",
       " 'https://www.nur.kz/society/1995580-amnistiruemym-uchastnikam-yanvarskih-sobytiy-ne-nuzhno-budet-priznavat-vinu/',\n",
       " 'https://www.nur.kz/society/2002748-pamyatnik-zhertvam-yanvarskih-sobytiy-otkryli-v-almaty/',\n",
       " 'https://www.nur.kz/society/2002758-put-ne-zavershen-kak-vyglyadit-pamyatnik-yanvarskim-sobytiyam-v-almaty-foto/',\n",
       " 'https://www.nur.kz/society/2003119-scheli-i-skoly-sostoyanie-memoriala-v-chest-yanvarskih-sobytiy-vozmutilo-kazahstantsev/',\n",
       " 'https://www.nur.kz/society/2004300-zagovor-protiv-nezavisimosti-koshanov-vyskazalsya-o-yanvarskih-sobytiyah/',\n",
       " 'https://www.akorda.kz/ru/vystuplenie-glavy-gosudarstva-kasym-zhomarta-kemelevicha-na-vneocherednoy-sessii-soveta-kollektivnoy-bezopasnosti-odkb-1002245',\n",
       " 'https://www.akorda.kz/ru/vystuplenie-glavy-gosudarstva-kk-tokaeva-na-zasedanii-mazhilisa-parlamenta-respubliki-kazahstan-1104414',\n",
       " 'https://www.akorda.kz/ru/vystuplenie-glavy-gosudarstva-na-soveshchanii-po-voprosam-protivodeystviya-korrupcii-11339',\n",
       " 'https://www.akorda.kz/ru/vystuplenie-glavy-gosudarstva-na-rasshirennom-zasedanii-pravitelstva-812257',\n",
       " 'https://www.akorda.kz/ru/obrashchenie-glavy-gosudarstva-k-tokaeva-na-ceremonii-posvyashchennoy-pamyati-zhertv-yanvarskih-sobytiy-v-mecheti-hazret-sultan-13139',\n",
       " 'https://www.akorda.kz/ru/vystuplenie-prezidenta-kasym-zhomarta-tokaeva-na-vneocherednom-hhii-sezde-partii-nur-otan-12144',\n",
       " 'https://www.akorda.kz/ru/videoobrashchenie-glavy-gosudarstva-kasym-zhomarta-tokaeva-54382',\n",
       " 'https://www.akorda.kz/ru/vystuplenie-glavy-gosudarstva-kasym-zhomarta-tokaevana-yubileynoy-sessii-nacionalnoy-akademii-nauk-15462',\n",
       " 'https://www.akorda.kz/ru/obrashchenie-glavy-gosudarstva-kasym-zhomarta-tokaeva-k-narodu-kazahstana-354324',\n",
       " 'https://www.akorda.kz/ru/obrashchenie-glavy-gosudarstva-kasym-zhomarta-tokaeva-k-narodu-kazahstana-6525',\n",
       " 'https://www.akorda.kz/ru/vystuplenie-glavy-gosudarstva-na-pervom-zasedanii-nacionalnogo-kurultaya-165936',\n",
       " 'https://www.akorda.kz/ru/vystuplenie-glavy-gosudarstva-na-torzhestvennom-meropriyatii-po-sluchayu-30-letiya-kazahstanskoy-policii-2352050',\n",
       " 'https://www.akorda.kz/ru/vystuplenie-glavy-gosudarstva-kasym-zhomarta-tokaeva-na-rasshirennom-zasedanii-pravitelstva-1463854',\n",
       " 'https://www.akorda.kz/ru/vystuplenie-na-iv-konsultativnoy-vstreche-glav-gosudarstv-centralnoy-azii-2163148',\n",
       " 'https://www.akorda.kz/ru/vystuplenie-glavy-gosudarstva-kk-tokaeva-na-otkrytii-vii-sezda-liderov-mirovyh-i-tradicionnyh-religiy-148152',\n",
       " 'https://www.akorda.kz/ru/vystuplenie-glavy-gosudarstva-kk-tokaeva-na-zakrytii-vii-sezda-liderov-mirovyh-i-tradicionnyh-religiy-1584147',\n",
       " 'https://www.akorda.kz/ru/vystuplenie-prezidenta-kazahstana-kasym-zhomarta-tokaeva-na-zasedanii-soveta-glav-gosudarstv-chlenov-shos-v-rasshirennom-formate-168294',\n",
       " 'https://www.akorda.kz/ru/vystuplenie-prezidenta-kk-tokaeva-na-obshchih-debatah-v-ramkah-77-y-sessii-generalnoy-assamblei-oon-208226',\n",
       " 'https://www.akorda.kz/ru/vystuplenie-prezidenta-kasym-zhomarta-tokaeva-na-torzhestvennoy-ceremonii-vrucheniya-gosudarstvennyh-nagrad-i-premiy-2293245',\n",
       " 'https://www.akorda.kz/ru/vystuplenie-glavy-gosudarstva-kktokaeva-na-ceremonii-inauguracii-2610566',\n",
       " 'https://www.akorda.kz/ru/vystuplenie-glavy-gosudarstva-kasym-zhomarta-tokaeva-na-otkrytii-pervoy-sessii-parlamenta-viii-sozyva-292110']"
      ]
     },
     "execution_count": 9,
     "metadata": {},
     "output_type": "execute_result"
    }
   ],
   "source": [
    "cluster1_url = media_link_dat.loc[media_link_dat.Source.isin(cluster1_agencies),\"Link\"].tolist()\n",
    "cluster1_url"
   ]
  },
  {
   "cell_type": "code",
   "execution_count": 10,
   "id": "771f1252",
   "metadata": {},
   "outputs": [
    {
     "data": {
      "text/plain": [
       "202"
      ]
     },
     "execution_count": 10,
     "metadata": {},
     "output_type": "execute_result"
    }
   ],
   "source": [
    "len(cluster1_url)"
   ]
  },
  {
   "cell_type": "code",
   "execution_count": 11,
   "id": "9b065556",
   "metadata": {},
   "outputs": [
    {
     "data": {
      "text/plain": [
       "['https://www.zakon.kz/6003471-deputaty-mazhilisa-vstretilis-s-protestuiushchimi-zhiteliami-aktau.html',\n",
       " 'https://www.zakon.kz/6003530-protestuiushchie-v-almaty-razoshlis.html',\n",
       " 'https://www.zakon.kz/6003583-mitinguiushchie-shturmuiut-akimat-almaty.html',\n",
       " 'https://www.zakon.kz/6003593-komendant-almaty-prizval-mitinguiushchikh-razoitis-i-izbegat-nasiliia.html',\n",
       " 'https://www.zakon.kz/6003545-osobaia-vina-za-dopushchenie-protestnoi-situatsii-lezhit-na-pravitelstve-tokaev.html',\n",
       " 'https://www.zakon.kz/6003569-nurlan-nogaev-prizval-protestuiushchikh-razoitis.html',\n",
       " 'https://www.zakon.kz/6003580-zarubezhnye-smi-podkliuchilis-k-osveshcheniiu-protestov-v-kazakhstane.html',\n",
       " 'https://www.zakon.kz/6003713-90-tysiach-tenge-predlozhili-inostrantsu-za-uchastie-v-mitinge-v-almaty.html',\n",
       " 'https://www.zakon.kz/6003749-okolo-500-zhitelei-pavlodarskoi-oblasti-nakazany-posle-mitingov-u-zdaniia-akimata.html',\n",
       " 'https://www.zakon.kz/6003766-veteran-spetssluzhb-u-mitinguiushchikh-est-trebovaniia-u-terroristov-net.html',\n",
       " 'https://www.zakon.kz/6003873-v-almatinskoi-oblasti-zaderzhany-675-podozrevaemykh-v-terrorizme.html',\n",
       " 'https://www.zakon.kz/6003764-mid-rk-kazakhstan-protivostoit-terroristam-a-ne-mirnym-protestuiushchim.html',\n",
       " 'https://www.zakon.kz/6003800-erlan-karin-protestnye-aktsii-posluzhili-dymovoi-zavesoi.html',\n",
       " 'https://www.zakon.kz/6003919-tokaev-protiv-nashei-strany-byla-razviazana-terroristicheskaia-voina.html',\n",
       " 'https://www.zakon.kz/6003635-redaktsiia-zakonkz-podverglas-napadeniiu-maroderov.html',\n",
       " 'https://www.zakon.kz/6004010-pozharnye-spasali-liudei-iz-podozhzhennogo-zdaniia-nesmotria-na-poboi-mitinguiushchikh.html',\n",
       " 'https://www.zakon.kz/6004137-v-14-regionakh-kazakhstana-otmenen-krasnyi-uroven-terroristicheskoi-opasnosti.html',\n",
       " 'https://www.zakon.kz/6004178-knb-opublikoval-rezultaty-rozyska-lits-prichastnykh-k-terroristicheskim-aktam.html',\n",
       " 'https://www.zakon.kz/6004208-v-nur-sultane-ustanovlen-vysokii-uroven-terroristicheskoi-opasnosti.html',\n",
       " 'https://www.zakon.kz/6004215-zheltyi-uroven-terroristicheskoi-opasnosti-ustanovlen-v-pavlodarskoi-oblasti.html',\n",
       " 'https://www.zakon.kz/6004325-uali-mitingi-i-sobraniia-teper-mozhno-provodit-v-tsentralnykh-raionakh-gorodov.html',\n",
       " 'https://www.zakon.kz/6004387-knb-v-regionakh-kazakhstana-prodolzhaetsia-antiterroristicheskaia-operatsiia.html',\n",
       " 'https://www.zakon.kz/6004388-genprokuratura-rk-4578-chelovek-postradali-vo-vremia-besporiadkov.html',\n",
       " 'https://www.zakon.kz/6004438-siloviki-dolgo-ne-primeniali-oruzhie-schitaia-proiskhodiashchee-mirnym-protestom-prokuror-almaty.html',\n",
       " 'https://www.zakon.kz/6004434-nachalnik-dp-almaty-rasskazal-kak-mitingi-pererosli-v-terroristicheskie-ataki.html',\n",
       " 'https://www.zakon.kz/6004437-prestupniki-pereodevalis-v-formu-byli-organizovany-nachalnik-dp-almaty.html',\n",
       " 'https://www.zakon.kz/6004440-149-chelovek-pogiblo-vo-vremia-besporiadkov-v-almaty.html',\n",
       " 'https://www.zakon.kz/6004530-terroristy-prikryvalis-mitinguiushchimi-eksperty-ob-almatinskoi-tragedii.html',\n",
       " 'https://www.zakon.kz/6004664-eti-sobytiia-dolzhny-rastsenivatsia-kak-akty-terrorizma-karin.html',\n",
       " 'https://www.zakon.kz/6005007-819-ugolovnykh-del-rassleduet-gp-po-ianvarskim-besporiadkam-v-kazakhstane.html',\n",
       " 'https://www.zakon.kz/6005295-v-odnom-iz-raionov-almaty-vveden-rezhim-antiterroristicheskoi-operatsii.html',\n",
       " 'https://www.zakon.kz/6005618-tokaev-o-reshenii-streliat-po-terroristam-ia-menshe-vsego-dumal-chto-skazhut-na-zapade.html',\n",
       " 'https://www.zakon.kz/6006634-tokaev-o-ianvarskikh-sobytiiakh-tshchatelno-podgotovlennaia-operatsiia-mezhdunarodnykh-terroristov.html',\n",
       " 'https://www.zakon.kz/6006646-tokaev-partnerov-po-odkb-za-podderzhku-v-otrazhenii-terroristicheskoi-ataki.html',\n",
       " 'https://www.zakon.kz/6006290-osnovnymi-uchastnikami-ianvarskikh-mitingov-v-pavlodarskoi-oblasti-byla-aulnaia-molodezh.html',\n",
       " 'https://www.zakon.kz/6007485-besporiadki-2022-18-letnego-bezoruzhnogo-soldata-sbrosili-s-mosta-uchastniki-mitingov.html',\n",
       " 'https://www.zakon.kz/6007191-kazakhstanu-nuzhna-novaia-programma-po-borbe-s-ekstremizmom-staraia-ne-rabotaet-deputat.html',\n",
       " 'https://www.zakon.kz/6007206-afm-vyiavil-fakty-finansirovaniia-terroristov-cherez-platezhnye-organizatsii.html',\n",
       " 'https://www.zakon.kz/6007237-tokaev-nelzia-nazyvat-terroristov-i-banditov-narodnymi-geroiami-i-batyrami.html',\n",
       " 'https://www.zakon.kz/6009226-eto-byla-splanirovannaia-terroristicheskaia-aktsiia-asylov-o-ianvarskikh-besporiadkakh.html',\n",
       " 'https://www.zakon.kz/6009223-asylov-mitingi-iznachalno-byli-mirnye.html',\n",
       " 'https://www.zakon.kz/6009242-sredi-mitinguiushchikh-bylo-mnogo-aziatov-ne-vladeiushchikh-ni-kazakhskim-ni-russkim-iazykami-umarova.html',\n",
       " 'https://ru.sputnik.kz/20220103/tokaev-dal-srochnoe-poruchenie-zhanaozen-19039188.html',\n",
       " 'https://ru.sputnik.kz/20220103/Chto-proiskhodit-v-Aktau-V-sotssetyakh-rasprostranyayutsya-video-s-ploschadi-Yntymak-19040330.html',\n",
       " 'https://ru.sputnik.kz/20220103/gaz-po-50-tenge-za-litr-chto-budet-19042068.html',\n",
       " 'https://ru.sputnik.kz/20220104/protesty-kazakhstan-povyshenie-tsen-na-gaz-19042903.html',\n",
       " 'https://ru.sputnik.kz/20220105/Tokaev-obratilsya-k-kazakhstantsam-19049049.html',\n",
       " 'https://ru.sputnik.kz/20220105/Miting-v-Almaty-chto-seychas-proiskhodit-19049091.html',\n",
       " 'https://ru.sputnik.kz/20220105/mobilnaya-svyaz-kazakhstan-otklyucheniya-19049181.html',\n",
       " 'https://ru.sputnik.kz/20220105/Tokaev-vvel-rezhim-ChP-v-Almaty-i-Mangistauskoy-oblasti-19049583.html',\n",
       " 'https://ru.sputnik.kz/20220105/V-Almaty-vveli-ogranicheniya-na-vezd-i-vyezd-iz-goroda-19049886.html',\n",
       " 'https://ru.sputnik.kz/20220105/Komendantskiy-chas-i-ogranichenie-na-vyezd-kak-budet-deystvovat-rezhim-ChP-v-Mangistau-19049951.html',\n",
       " 'https://ru.sputnik.kz/20220105/Gazovye-protesty-v-Kazakhstane-Tokaev-nazval-vinovnykh-19051664.html',\n",
       " 'https://ru.sputnik.kz/20220105/Tseny-na-produkty-komuslugi-zhile---kakie-porucheniya-dal-Tokaev-posle-protestov-19052118.html',\n",
       " 'https://ru.sputnik.kz/20220105/almaty-mitingi-posledstviya-chp-video-19054254.html',\n",
       " 'https://ru.sputnik.kz/20220105/Protesty-v-Almaty-v-reanimatsii-nakhodyatsya-7-postradavshikh-19057068.html',\n",
       " 'https://ru.sputnik.kz/20220105/Natspalata-Atameken-prizyvaet-vlasti-zaschitit-biznes-ot-maroderstva-19057388.html',\n",
       " 'https://ru.sputnik.kz/20220106/Vosem-politseyskikh-i-soldat-Natsgvardii-pogibli-v-Kazakhstane-v-khode-besporyadkov-19060771.html',\n",
       " 'https://ru.sputnik.kz/20220106/tokaev-protesty-terroristicheskie-bandy-19061741.html',\n",
       " 'https://ru.sputnik.kz/20220106/V-Almaty-nachata-antiterroristicheskaya-spetsoperatsiya-s-tselyu-ustanovleniya-poryadka-v-gorode-19061937.html',\n",
       " 'https://ru.sputnik.kz/20220106/V-politsii-oprovergli-informatsiyu-o-faktakh-maroderstva-v-zhilykh-domakh-Almaty-19063011.html',\n",
       " 'https://ru.sputnik.kz/20220106/odkb-bezopasnost-kazakhstan-19068646.html',\n",
       " 'https://ru.sputnik.kz/20220106/Situatsiya-v-Kazakhstane-posle-besporyadkov-v-Almaty-19069035.html',\n",
       " 'https://ru.sputnik.kz/20220106/Antiterroristicheskaya-operatsiya-v-Almaty-politsiya-prosit-zhiteley-ne-vyezzhat-v-tsentr-goroda-19069953.html',\n",
       " 'https://ru.sputnik.kz/20220106/Besporyadki-v-Almaty-protestuyuschie-polnostyu-razgrabili-7-krupnykh-supermarketov-19070394.html',\n",
       " 'https://ru.sputnik.kz/20220106/Svyshe-odnoy-tysyachi-chelovek-po-vsemu-Kazakhstanu-postradali-v-rezultate-besporyadkov-19071637.html',\n",
       " 'https://ru.sputnik.kz/20220106/V-Kazakhstan-perebrasyvayut-sily-ODKB---video-19073141.html',\n",
       " 'https://ru.sputnik.kz/20220107/besporyadki-kazakhstan-genprokuratura--ugolovnye-dela-19083987.html',\n",
       " 'https://ru.sputnik.kz/20220107/Razbitye-avto-vystrely-dezhurstvo-voennykh-chto-proiskhodit-v-Almaty-19084351.html',\n",
       " 'https://ru.sputnik.kz/20220107/V-rezultate-besporyadkov-v-Kazakhstane-unichtozheno-26-vooruzhennykh-prestupnikov-19084556.html',\n",
       " 'https://ru.sputnik.kz/20220107/Tokaev-provel-zasedanie-kontrterroristicheskogo-shtaba-19084859.html',\n",
       " 'https://ru.sputnik.kz/20220107/Opustevshiy-gorod-i-sledy-pogroma-zhurnalist-Sputnik-o-situatsii-v-Almaty-7-yanvarya-19085852.html',\n",
       " 'https://ru.sputnik.kz/20220107/almaty-besporiadki-abaev-19086619.html',\n",
       " 'https://ru.sputnik.kz/20220109/V-Almaty-oprovergli-soobscheniya-o-vzryve-v-zdanii-politsii-19095083.html',\n",
       " 'https://ru.sputnik.kz/20220110/Besporyadki-v-Kazakhstane-chto-v-eti-dni-proiskhodilo-v-Taraze---videokhronika-sobytiy-19105946.html',\n",
       " 'https://ru.sputnik.kz/20220111/revolyutsiya-orkov-19118856.html',\n",
       " 'https://ru.sputnik.kz/20220112/almaty-sagintaev-akimat-pogrom-19130180.html',\n",
       " 'https://ru.sputnik.kz/20220112/tsentr-operativnogo-upravleniya-almaty-tokaev-19130601.html',\n",
       " 'https://ru.sputnik.kz/20220115/Gosudarstvennyy-perevorot-ili-stikhiynye-mitingi-chto-sluchilos-v-Kazakhstane-19149194.html',\n",
       " 'https://ru.sputnik.kz/20220309/rassledovanie-yanvarskikh-sobytiy-pravookhraniteley-vyzovut-v-parlament-23392627.html',\n",
       " 'https://ru.sputnik.kz/20220105/Dym-grokhot-stychki-s-politsiey-chto-proiskhodilo-na-mitinge-v-Almaty---video-s-mesta-ChP-19049737.html',\n",
       " 'https://ru.sputnik.kz/20220105/Situatsiya-v-Almaty-vzyata-pod-kontrol-vlastey---Sagintaev-19051231.html',\n",
       " 'https://ru.sputnik.kz/20220105/Vlasti-zayavili-o-pogromakh-v-Taraze-19052533.html',\n",
       " 'https://ru.sputnik.kz/20220105/protesty-Kazakhstan-ceny-gaz-defitsit-19055698.html',\n",
       " 'https://ru.sputnik.kz/20220105/komendatura-Almaty-zayavlenie-19056079.html',\n",
       " 'https://ru.sputnik.kz/20220105/V-Almaty-nachalsya-shturm-akimata-19057441.html',\n",
       " 'https://ru.sputnik.kz/20220105/Protestuyuschie-vorvalis-v-zdanie-akimata-Almaty-19057732.html',\n",
       " 'https://ru.sputnik.kz/20220105/Akim-Pavlodarskoy-oblasti-vyshel-k-protestuyuschim-na-tsentralnoy-ploschadi-19058908.html',\n",
       " 'https://ru.sputnik.kz/20220105/Kostry-goryaschie-avtomobili-razgromlennye-ulitsy-kak-vyglyadit-Almaty-seychas---fotofakty-19059519.html',\n",
       " 'https://ru.sputnik.kz/20220105/Shturm-akimata-Almaty-sotrudnikov-uspeli-evakuirovat-19060069.html',\n",
       " 'https://ru.sputnik.kz/20220105/Gorod-podvergsya-atakam-radikalov-izbity-bolee-500-grazhdanskikh-lits---komendatura-Almaty-19060647.html',\n",
       " 'https://ru.sputnik.kz/20220106/Voennye-na-BTR-i-bronemashinakh-vzyali-v-koltso-pogromschikov-v-tsentre-Almaty-19067506.html',\n",
       " 'https://ru.sputnik.kz/20220106/narodnye-druzhiny-almaty-19067892.html',\n",
       " 'https://ru.sputnik.kz/20220106/Lukashenko-prizval-mitinguyuschikh-v-Kazakhstane-k-peregovoram-s-Tokaevym-19074854.html',\n",
       " 'https://ru.sputnik.kz/20220106/Protestuyuschie-perekryli-dorogu-k-dvum-bolnitsam-v-Almaty-19075028.html',\n",
       " 'https://ru.sputnik.kz/20220106/Na-ploschadi-Respubliki-v-Almaty-ostayutsya-250-300-protestuyuschikh-19076244.html',\n",
       " 'https://ru.sputnik.kz/20220106/Posledstviya-besporyadkov-v-Kazakhstane-foto-kotorye-zastavyat-sodrognutsya--19076276.html',\n",
       " 'https://ru.sputnik.kz/20220107/Tokaev-vystupil-s-tretim-obrascheniem-k-kazakhstantsam-s-nachala-besporyadkov-19088154.html',\n",
       " 'https://ru.sputnik.kz/20220108/Tokaev-zayavil-Putinu-chto-v-Kazakhstane-prodolzhat-borbu-s-ochagami-terroristicheskikh-atak-19093608.html',\n",
       " 'https://ru.sputnik.kz/20220109/Glava-MVD-20-tysyach-chelovek-pribylo-5-yanvarya-v-Almaty---19095671.html',\n",
       " 'https://ru.sputnik.kz/20220109/19096252.html',\n",
       " 'https://ru.sputnik.kz/20220109/Pochti-2-300-chelovek-obratilis-za-medpomoschyu-iz-za-besporyadkov-v-Kazakhstane-19098743.html',\n",
       " 'https://ru.sputnik.kz/20220109/V-Kazakhstane-za-vremya-massovykh-besporyadkov-pogibli-164-cheloveka-19098907.html',\n",
       " 'https://ru.sputnik.kz/20220109/Operatsiya-protiv-terroristov-v-Kazakhstane-prodolzhitsya-do-ikh-polnogo-unichtozheniya-19099008.html',\n",
       " 'https://ru.sputnik.kz/20220109/Shturm-na-departament-politsii-Almaty-byl-chetko-splanirovan---opershtab-19099889.html',\n",
       " 'https://ru.sputnik.kz/20220213/miting-v-pamyat-o-pogibshikh-v-yanvarskikh-besporyadkakh-prokhodit-v-almaty---22746575.html',\n",
       " 'https://ru.sputnik.kz/20220221/yanvarskie-besporyadki-prestupniki-perekryli-vosem-poezdov-22959430.html',\n",
       " 'https://ru.sputnik.kz/20220224/akim-almatinskoy-oblasti-rasskazal-gde-byl-i-chto-delal-v-dni-besporyadkov-23058156.html',\n",
       " 'https://ru.sputnik.kz/20220225/ne-dumali-chto-budut-izbivat-politseyskiy-rasskazal-o-sobytiyakh-tragicheskogo-yanvarya-23079228.html',\n",
       " 'https://ru.sputnik.kz/20220106/V-Almaty-idut-boi-s-pogromschikami-terroristami-19063605.html',\n",
       " 'https://ru.sputnik.kz/20220314/pytki-posle-massovye-besporyadkov-zaderzhany-8-sotrudnikov-knb-i-1-politseyskiy-23492785.html',\n",
       " 'https://ru.sputnik.kz/20220314/eto-byla-mest-prezidentu-ot-knb-obschestvennik-umarova-o-sobytiyakh-yanvarya-23495447.html',\n",
       " 'https://ru.sputnik.kz/20220314/yanvarskie-sobytiya-bolee-4-tysyach-chelovek-poluchili-raneniya-i-uvechya--ombudsmen-23495708.html',\n",
       " 'https://ru.sputnik.kz/20220314/uchastvovavshie-v-yanvarskikh-besporyadkakh-podrostki-ne-nakhodyatsya-pod-strazhey-23497060.html',\n",
       " 'https://ru.sputnik.kz/20220314/19-inostrantsev-podozrevayut-v-uchastii-v-yanvarskikh-sobytiyakh-v-kazakhstane-23498303.html',\n",
       " 'https://ru.sputnik.kz/20220302/pochemu-tak-dolgo-idet-rassledovanie-yanvarskikh-besporyadkov--otvet-spikera-mazhilisa-23227820.html',\n",
       " 'https://ru.sputnik.kz/20220303/razdavali-armaturu-geroi-rezonansnogo-video-rasskazali-ob-uchastii-v-besporyadkakh-23279137.html',\n",
       " 'https://ru.sputnik.kz/20220309/rassledovanie-yanvarskikh-sobytiy-pravookhraniteley-vyzovut-v-parlament-23392627.html',\n",
       " 'https://ru.sputnik.kz/20220314/svyshe-50-tys-kazakhstantsev-uchastvovali-v-yanvarskikh-besporyadkakh--genprokuratura-23492111.html',\n",
       " 'https://ru.sputnik.kz/20220314/kogda-vosstanovyat-sozhzhennyy-v-khode-besporyadkov-almatinskiy-akimat-23498594.html',\n",
       " 'https://ru.sputnik.kz/20220404/podozhgli-telo-chtoby-skryt-uliki-genprokuratura-o-zverskom-ubiystve-silovikov-23942366.html',\n",
       " 'https://ru.sputnik.kz/20220409/besporyadki-almaty-rozysk-poterpevshie-24094470.html',\n",
       " 'https://ru.sputnik.kz/20220413/qazaqstan-khalqyna-vyplatit-po-7-mln-tenge-semyam-sluchaynykh-pogibshikh-v-yanvarskikh-sobytiyakh-24185537.html',\n",
       " 'https://ru.sputnik.kz/20220507/uroki-tragicheskogo-yanvarya-zaschitniki-otechestva-ne-sdayut-pozitsii-24695052.html',\n",
       " 'https://ru.sputnik.kz/20220601/v-genprokurature-nazvali-prichiny-zatyanuvshegosya-rassledovaniya-yanvarskoy-tragedii-25222839.html',\n",
       " 'https://ru.sputnik.kz/20220601/za-lozhnuyu-informatsiyu-ob-yanvarskikh-sobytiyakh-na-kazakhstantsev-zavedeno-19-ugolovnykh-del---mvd-25223615.html',\n",
       " 'https://ru.sputnik.kz/20220615/tokaev-vo-vremya-yanvarskikh-sobytiy-mne-sovetovali-pokinut-stranu-25535572.html',\n",
       " 'https://ru.sputnik.kz/20220615/tokaev-organizatory-yanvarskikh-besporyadkov-smogli-zamesti-sledy-25544980.html',\n",
       " 'https://ru.sputnik.kz/20220629/devyat-silovikov-pytki-yanvar-genprokuratura-25828263.html',\n",
       " 'https://ru.sputnik.kz/20220718/posle-yanvarskikh-sobytiy-chislo-del-po-faktam-terrorizma-vyroslo-v-4-raza-26189695.html',\n",
       " 'https://ru.sputnik.kz/20220801/mvd-priznalo-poterpevshimi-v-yanvarskikh-sobytiyakh-svyshe-1700-kazakhstantsev-26460298.html',\n",
       " 'https://ru.sputnik.kz/20220816/genprokuratura-kazakhstana-opublikovala-spisok-lits-pogibshikh-vo-vremya-yanvarskikh-sobytiy-26761482.html',\n",
       " 'https://ru.sputnik.kz/20220821/taraz-prigovor-uchastniki-yanvarskie-besporyadki-26895852.html',\n",
       " 'https://ru.sputnik.kz/20220923/genprokuratura-vynesla-na-obsuzhdenie-zakonoproekt-ob-amnistii-uchastnikov-yanvarskikh-sobytiy-27827879.html',\n",
       " 'https://ru.sputnik.kz/20221023/tokaev-ne-pokidal-akordu-v-techenie-10-dney---koshanov-o-yanvarskikh-sobytiyakh-28723635.html',\n",
       " 'https://ru.sputnik.kz/20221102/tokaev-podpisal-zakon-ob-amnistii-uchastnikov-yanvarskikh-sobytiy-28988991.html',\n",
       " 'https://ru.sputnik.kz/20221110/kak-idet-amnistiya-uchastnikov-yanvarskoy-tragedii-rasskazali-tokaevu-29207965.html',\n",
       " 'https://ru.sputnik.kz/20221228/almatinskim-biznesmenam-vozmestili-uscherb-nanesennyy-vo-vremya-yanvarskikh-besporyadkov-30693678.html',\n",
       " 'https://ru.sputnik.kz/20230105/khronologiya-yanvarskikh-sobytiy-polnostyu-vosstanovlena---genprokuror-30863149.html',\n",
       " 'https://ru.sputnik.kz/20230105/podgotovka-k-yanvarskim-sobytiyam-provodilas-esche-v-2021-godu---genprokuror-30865633.html',\n",
       " 'https://ru.sputnik.kz/20230105/sredi-podozrevaemykh-po-yanvarskim-besporyadkam-est-inostrannye-grazhdane---genprokuror-30869511.html',\n",
       " 'https://ru.sputnik.kz/20230106/grazhdane-tadzhikistana-ne-uchastvovali-v-popytke-gosperevorota-v-kazakhstane-30910188.html',\n",
       " 'https://ru.sputnik.kz/20230515/11-sotrudnikov-knb-kazakhstana-predadut-sudu-v-svyazi-s-yanvarskimi-besporyadkami-34886793.html',\n",
       " 'https://www.zakon.kz/6016229-my-nastaivaem-chto-eto-byla-terroristicheskaia-ataka-tokaev-pro-ianvarskie-sobytiia.html',\n",
       " 'https://www.zakon.kz/6018453-ianvarskie-sobytiia-8-del-rassleduiut-po-aktam-terrorizma.html',\n",
       " 'https://www.zakon.kz/6380777-berik-asylov-vyskazalsya-o-20-tysyachakh-terroristov.html',\n",
       " 'https://www.zakon.kz/6380757-do-sikh-por-ne-naydeny-te-kto-v-voennoy-forme-upravlyal-uchastnikami-mitinga-genprokuror.html',\n",
       " 'https://www.zakon.kz/6380750-khronologiya-sobytiy-yanvar-2022-goda-v-regionakh-kazakhstana.html',\n",
       " 'https://www.zakon.kz/6380782-tragicheskiy-yanvar-bolee-16-mlrd-tenge-poluchili-postradavshie-biznesmeny-almaty.html',\n",
       " 'https://www.zakon.kz/6380846-kantar-ostavil-neizgladimuyu-ranu-v-dushe-kazhdogo-kazakhstantsa.html',\n",
       " 'https://www.zakon.kz/6377642-khronologiya-protestov-tsel-banditov-telekanal-almaty-snyal-film-o-yanvarskikh-sobytiyakh.html',\n",
       " 'https://www.zakon.kz/6005006-besporiadki-2022-genprokuratura-rassleduet-819-ugolovnykh-del.html',\n",
       " 'https://www.zakon.kz/6005009-besporiadki-2022-iz-pod-aresta-osvobozhdeny-1083-cheloveka.html',\n",
       " 'https://www.zakon.kz/6005143-besporiadki-2022-muzhchina-rasskazal-kak-zavladel-svetoshumovymi-granatami.html',\n",
       " 'https://www.zakon.kz/6005149-besporiadki-2022-1481-ugolovnoe-delo-rassleduet-politsiia-almaty.html',\n",
       " 'https://www.zakon.kz/6005219-my-gotovy-okazat-pomoshch-si-tszinpin-vyskazalsia-pro-besporiadki-v-kazakhstane.html',\n",
       " 'https://www.zakon.kz/6005232-besporiadki-2022-v-kazakhstane-sozdali-komissiiu-po-obshchestvennomu-rassledovaniiu.html',\n",
       " 'https://www.zakon.kz/6005255-besporiadki-2022-chast-del-po-gibeli-sredi-grazhdanskikh-perekvalifitsirovali.html',\n",
       " 'https://www.zakon.kz/6006331-besporiadki-2022-467-chelovek-nakhodiatsia-pod-strazhei.html',\n",
       " 'https://www.zakon.kz/6006400-akim-almaty-rasskazal-kogda-postradavshie-ot-besporiadkov-biznesmeny-poluchat-kompensatsiiu.html',\n",
       " 'https://www.zakon.kz/6006590-bolee-130-del-po-faktam-smerti-podozrevaemykh-i-pytok-rassleduiut-v-genprokurature.html',\n",
       " 'https://www.zakon.kz/6006598-besporiadki-2022-kakie-narusheniia-vyiavili-pravozashchitniki-pri-poseshchenii-sizo.html',\n",
       " 'https://www.zakon.kz/6006790-besporiadki-v-almaty-medik-i-pozharnyi-rasskazali-o-napadeniiakh.html',\n",
       " 'https://www.zakon.kz/6007484-besporiadki-2022-osuzhdeny-52-cheloveka.html',\n",
       " 'https://www.zakon.kz/6007497-mvd-sdavshie-dobrovolno-oruzhie-ne-budut-privlekatsia-k-ugolovnoi-otvetstvennosti.html',\n",
       " 'https://www.zakon.kz/6008340-besporiadki-2022-pokhishchennoe-imushchestvo-na-summu-288-mln-tenge-iziato-politsiei.html',\n",
       " 'https://www.zakon.kz/6008473-besporiadki-2022-bolee-37-mlrd-tenge-vydelili-predprinimateli-almaty.html',\n",
       " 'https://www.zakon.kz/6008949-besporiadki-v-almaty-rassmotreny-vse-zaiavki-biznesmenov.html',\n",
       " 'https://www.zakon.kz/6009592-ianvarskie-besporiadki-zaderzhali-trekh-chelovek-obokravshikh-magaziny-v-aeroportu-almaty.html',\n",
       " 'https://www.zakon.kz/6010631-ianvarskie-besporiadki-zaderzhan-odin-iz-napadavshikh-na-zdanie-dp-almaty.html',\n",
       " 'https://www.zakon.kz/6019010-besporiadki-2020-kogda-biznesu-kompensiruiut-ushcherb-rasskazal-dosaev.html',\n",
       " 'https://www.zakon.kz/6019902-bolshinstvo-uchastnikov-besporiadkov-v-ianvare-sovershali-krazhi-i-pokhishchali-oruzhie-mvd.html',\n",
       " 'https://www.zakon.kz/6021112-ianvarskie-besporiadki-pod-strazhei-ostaiutsia-286-podozrevaemykh.html',\n",
       " 'https://www.zakon.kz/6021114-ianvarskie-besporiadki-ushcherb-na-bolee-343-mln-tenge-vozmestili-kazakhstantsam.html',\n",
       " 'https://www.zakon.kz/6022378-svyshe-12-tys-oruzhiia-bylo-pokhishcheno-vo-vremia-napadenii-na-zdaniia-organov-pravoporiadka.html',\n",
       " 'https://www.zakon.kz/6378912-yanvarskie-besporyadki-637-mln-tenge-vyplatili-semyam-pogibshikh.html',\n",
       " 'https://www.zakon.kz/6379636-yanvarskie-besporyadki-160-chelovek-poluchili-tyuremnye-sroki.html',\n",
       " 'https://www.zakon.kz/6380155-yanvarskie-besporyadki-deputat-priglasil-genprokurora-v-mazhilis.html',\n",
       " 'https://www.zakon.kz/6380744-besporyadki2022-eksministr-oborony-bektanov-otdaval-nezakonnye-prikazy.html',\n",
       " 'https://www.zakon.kz/6381964-yanvarskie-besporyadki-udarivshego-politseyskogo-zhitelya-atyrauskoy-oblasti-osudili.html',\n",
       " 'https://tengrinews.kz/kazakhstan_news/saparbaev-rasskazal-sojjennyih-avto-postradavshih-zdaniyah-458244/',\n",
       " 'https://tengrinews.kz/kazakhstan_news/poyavilis-dannyie-po-postradavshim-v-almatyi-458269/',\n",
       " 'https://tengrinews.kz/kazakhstan_news/mitingi-v-kazahstane-chto-proishodit-v-regionah-458275/',\n",
       " 'https://tengrinews.kz/kazakhstan_news/protestuyuschie-shturmuyut-akimat-almatyi-zdanie-zagorelos-458277/',\n",
       " 'https://tengrinews.kz/kazakhstan_news/uchastniki-besporyadkov-prepyatstvuyut-rabote-skoroy-gromyat-458280/',\n",
       " 'https://tengrinews.kz/kazakhstan_news/produktovyie-magazinyi-almatyi-podverglis-maroderstvu-458282/',\n",
       " 'https://tengrinews.kz/kazakhstan_news/besporyadki-kazahstane-pogibli-8-politseyskih-458292/',\n",
       " 'https://tengrinews.kz/crime/vskryityie-bankomatyi-razgrablennyie-magazinyi-ponesshie-458306/',\n",
       " 'https://tengrinews.kz/kazakhstan_news/mid-sdelal-zayavlenie-iz-za-besporyadkov-v-kazahstane-458319/',\n",
       " 'https://tengrinews.kz/kazakhstan_news/besporyadki-almatyi-politsiyu-dostavili-okolo-2-tyisyach-458342/',\n",
       " 'https://tengrinews.kz/kazakhstan_news/mvd-pogibli-18-sotrudnikov-silovyih-struktur-458346/',\n",
       " 'https://docs.google.com/spreadsheets/d/1hkhAI-JJInHha2VeSl6FhCU46ACMmTWGsrAhauZYTFw/edit?pli=1#gid=0',\n",
       " 'https://tengrinews.kz/kazakhstan_news/kak-vyiglyadela-glavnaya-ploschad-almatyi-posle-pogromov-458403/',\n",
       " 'https://tengrinews.kz/kazakhstan_news/trts-asia-park-gorel-v-almatyi-458426/',\n",
       " 'https://tengrinews.kz/kazakhstan_news/sredi-zaderjannyih-za-besporyadki-est-inostrantsyi-mvd-458439/',\n",
       " 'https://tengrinews.kz/tv/novosti/proisshestviya/9021/',\n",
       " 'https://tengrinews.kz/kazakhstan_news/nazarbaev-sam-peredal-post-glavyi-sovbeza-tokaevu-sovetnik-458536/',\n",
       " 'https://tengrinews.kz/kazakhstan_news/besporyadki-v-kazahstane-nazvano-chislo-pogibshih-458569/',\n",
       " 'https://tengrinews.kz/kazakhstan_news/besporyadki-v-jambyilskoy-oblasti-zaderjanyi-11-chelovek-458585/',\n",
       " 'https://tengrinews.kz/kazakhstan_news/departament-politsii-almatyi-derjal-oboronu-5-utra-458625/',\n",
       " 'https://tengrinews.kz/kazakhstan_news/tokaev-podgotovka-k-besporyadkam-shla-prodoljitelnoe-vremya-458678/',\n",
       " 'https://tengrinews.kz/kazakhstan_news/poyavilsya-polnyiy-tekst-vyistupleniya-tokaeva-onlayn-458700/',\n",
       " 'https://tengrinews.kz/kazakhstan_news/besporyadki-kazahstane-prezident-tokaev-otsenil-458732/',\n",
       " 'https://tengrinews.kz/kazakhstan_news/v-kyizyilorde-zaderjali-podozrevaemogo-v-ubiystve-soldata-458774/',\n",
       " 'https://tengrinews.kz/kazakhstan_news/prezident-tokaev-vyistupaet-zasedanii-majilisa-458776/',\n",
       " 'https://tengrinews.kz/kazakhstan_news/prezident-tokaev-raskritikoval-knb-458779/',\n",
       " 'https://tengrinews.kz/kazakhstan_news/mirotvortsyi-odkb-budut-vyivedenyi-v-techenie-10-dney-tokaev-458769/',\n",
       " 'https://tengrinews.kz/kazakhstan_news/myi-mogli-poteryat-stranu-prezident-tokaev-458783/',\n",
       " 'https://tengrinews.kz/kazakhstan_news/tokaev-gosudarstvo-prospalo-nalichie-spyaschih-yacheek-458797/',\n",
       " 'https://tengrinews.kz/kazakhstan_news/tokaev-glavah-departamentov-knb-pokidali-zdaniya-ne-vstupaya-458770/',\n",
       " 'https://tengrinews.kz/kazakhstan_news/bank-razvitiya-kazahstana-prevratilsya-lichnyiy-bank-458777/',\n",
       " 'https://tengrinews.kz/kazakhstan_news/podnyat-zarplatu-sotrudnikam-silovyih-spetspodrazdeleniy-458813/',\n",
       " 'https://tengrinews.kz/kazakhstan_news/druzyam-vse-ostalnyim-zakonu-tokaev-raskritikoval-meryi-458827/',\n",
       " 'https://tengrinews.kz/kazakhstan_news/besporyadki-kostanaekidali-kokteyl-molotova-pyitalis-458704/',\n",
       " 'https://tengrinews.kz/kazakhstan_news/utilsbor-lrt-fond-pomoschi-kazahstantsam-polnaya-rech-458818/',\n",
       " 'https://tengrinews.kz/kazakhstan_news/besporyadki-almatyi-pojarnyie-spasali-lyudey-podvergayas-458888/',\n",
       " 'https://tengrinews.kz/kazakhstan_news/almatinets-pokazal-posledstviya-besporyadkov-vyisotyi-458788/',\n",
       " 'https://tengrinews.kz/kazakhstan_news/li-rasschityivat-strahovku-massovyih-besporyadkov-458885/',\n",
       " 'https://tengrinews.kz/article/boyalis-vklyuchat-svet-v-almatinskom-roddome-vremya-1722/',\n",
       " 'https://tengrinews.kz/kazakhstan_news/besporyadki-kazahstane-uscherb-biznesu-prevyisil-100-458948/',\n",
       " 'https://tengrinews.kz/kazakhstan_news/sotrudniki-gosmuzeya-almatyi-spasli-ranenyih-kursantov-458944/',\n",
       " 'https://tengrinews.kz/kazakhstan_news/byilo-predprinyato-27-atak-saltanat-azirbek-rasskazala-458833/',\n",
       " 'https://tengrinews.kz/kazakhstan_news/organizatorov-massovyih-besporyadkov-arestovali-v-kostanae-458994/',\n",
       " 'https://tengrinews.kz/kazakhstan_news/napadavshih-almatinskie-magazinyi-maroderov-zaderjali-459028/',\n",
       " 'https://tengrinews.kz/kazakhstan_news/ne-boyatsya-straha-jit-besporyadkov-rasskazal-psiholog-458721/',\n",
       " 'https://tengrinews.kz/kazakhstan_news/knb-obyyavil-otmene-krasnogo-urovnya-terroristicheskoy-459046/',\n",
       " 'https://tengrinews.kz/kazakhstan_news/kakie-rayonyi-almatyi-zachistili-ot-terroristov-13-yanvarya-459048/',\n",
       " 'https://tengrinews.kz/article/bandityi-hoteli-sjech-210-voennyih-selchane-svoy-okrug-1726/',\n",
       " 'https://tengrinews.kz/kazakhstan_news/genprokuratura-zapustila-sayt-anonimnyih-soobscheniy-459056/',\n",
       " 'https://tengrinews.kz/kazakhstan_news/vyiglyadela-almatinskaya-tragediya-epitsentra-sobyitiy-458954/',\n",
       " 'https://tengrinews.kz/kazakhstan_news/za-1-den-zagadili-predprinimateli-pokazali-ruinyi-svoego-459097/',\n",
       " 'https://tengrinews.kz/tv/novosti/obschestvo/9027/',\n",
       " 'https://tengrinews.kz/crime/besporyadki-v-kazahstane-nazvano-kolichestvo-arestovannyih-459123/',\n",
       " 'https://tengrinews.kz/crime/situatsiya-v-almatinskoy-oblastinormalizovalas-dp-regiona-459190/',\n",
       " 'https://tengrinews.kz/kazakhstan_news/chetko-splochenno-napadavshih-zdanie-dp-almatyi-svyishe-1000-459188/',\n",
       " 'https://tengrinews.kz/kazakhstan_news/izbityie-ranenyie-soldatyi-natsgvardii-vozvraschalis-459192/',\n",
       " 'https://tengrinews.kz/crime/rossiyanka-pogibla-vo-vremya-besporyadkov-v-taraze-459218/',\n",
       " 'https://tengrinews.kz/kazakhstan_news/spetsnaz-natsgvardii-pokazal-foto-postradavshey-besporyadkah-459231/',\n",
       " 'https://tengrinews.kz/kazakhstan_news/besporyadki-almatyi-obstrele-bronemashin-arlan-rasskazali-459236/',\n",
       " 'https://tengrinews.kz/kazakhstan_news/tokaev-poruchil-razobratsya-stepenyu-vinyi-zaderjannyih-459241/',\n",
       " 'https://tengrinews.kz/crime/opublikovano-video-poslednih-chasov-jizni-rossiyanki-459249/',\n",
       " 'https://tengrinews.kz/crime/podrobnosti-smerti-rossiyanki-v-taraze-ozvuchili-v-politsii-459261/',\n",
       " 'https://tengrinews.kz/kazakhstan_news/nazvano-chislo-pogibshih-hode-massovyih-besporyadkov-459294/',\n",
       " 'https://tengrinews.kz/kazakhstan_news/100-zaderjannyih-vremya-besporyadkov-otpustili-proverki-459300/',\n",
       " 'https://tengrinews.kz/kazakhstan_news/nekotoryie-postradavshie-ne-ponimali-kazahskiy-russkiy-459301/',\n",
       " 'https://tengrinews.kz/kazakhstan_news/postupali-molodyie-rebyata-vrachi-besporyadkah-almatyi-459319/',\n",
       " 'https://tengrinews.kz/kazakhstan_news/17-jalob-sotrudnikov-politsii-postupilo-telefon-doveriya-mvd-459332/',\n",
       " 'https://tengrinews.kz/kazakhstan_news/41-telo-pohischeno-glava-politsii-almatyi-rasskazal-459349/',\n",
       " 'https://tengrinews.kz/kazakhstan_news/nazvano-chislo-pogibshih-v-almatyi-459346/',\n",
       " 'https://tengrinews.kz/kazakhstan_news/besporyadki-almatyi-405-ugolovnyih-del-rassleduet-politsiya-459350/',\n",
       " 'https://tengrinews.kz/news/besporyadki-kazahstane-mvd-obratilos-ochevidtsam-459430/',\n",
       " 'https://tengrinews.kz/kazakhstan_news/puli-smesyu-almatinets-pokazal-kvartiru-besporyadkov-459413/',\n",
       " 'https://tengrinews.kz/kazakhstan_news/besporyadki-kazahstane-genprokuratura-obnovila-dannyie-459497/',\n",
       " 'https://tengrinews.kz/crime/podozrevaemogo-napadenii-gosorgan-zaderjali-taldyikorgane-459540/',\n",
       " 'https://tengrinews.kz/kazakhstan_news/chlenyi-ekstremistskih-organizatsiy-uchastvovali-pogromah-459558/',\n",
       " 'https://tengrinews.kz/kazakhstan_news/armaturoy-bili-vyijivshie-besporyadkah-voennyie-rasskazali-459559/',\n",
       " 'https://tengrinews.kz/kazakhstan_news/besporyadki-almatyi-kakuyu-pomosch-poluchat-postradavshie-459708/',\n",
       " 'https://tengrinews.kz/kazakhstan_news/uchastnikov-besporyadkov-chasche-vyidayut-mirnyih-459702/',\n",
       " 'https://tengrinews.kz/kazakhstan_news/poryadok-vozmescheniya-uscherba-besporyadkov-utverdili-459768/',\n",
       " 'https://tengrinews.kz/kazakhstan_news/besporyadki-v-kazahstane-vozbujdeno-1822-ugolovnyih-dela-459909/',\n",
       " 'https://tengrinews.kz/accidents/kak-filme-zombi-operativnik-rasskazal-oboronyali-459921/',\n",
       " 'https://tengrinews.kz/kazakhstan_news/zaderjanyi-troe-podozrevaemyih-maroderstve-jiteley-460065/',\n",
       " 'https://tengrinews.kz/kazakhstan_news/1500-zdaniy-soorujeniy-postradali-besporyadkah-kazahstanu-460167/',\n",
       " 'https://tengrinews.kz/kazakhstan_news/pulemetyi-avtomatyi-granatyi-skolko-pohischennogo-orujiya-460172/',\n",
       " 'https://tengrinews.kz/kazakhstan_news/kidali-kamni-lezli-vorota-dvuh-mnogodetnyih-materey-460188/',\n",
       " 'https://tengrinews.kz/kazakhstan_news/uscherb-besporyadkov-kyizyilordinskoy-oblasti-prevyisil-460271/',\n",
       " 'https://tengrinews.kz/crime/razdavali-armaturyi-vremya-besporyadkov-zaderjanyi-6-jiteley-460635/',\n",
       " 'https://tengrinews.kz/kazakhstan_news/yanvarskie-besporyadki-72-ugolovnyih-dela-rassleduet-460963/',\n",
       " 'https://tengrinews.kz/crime/besporyadki-taraze-zaderjan-podozrevaemyiy-podjoge-461093/',\n",
       " 'https://tengrinews.kz/crime/yanvarskie-besporyadki-izyyato-747-edinits-orujiya-svyishe-461109/',\n",
       " 'https://tengrinews.kz/accidents/tragicheskiy-yanvar-poyavilis-video-s-maroderami-v-almatyi-461137/',\n",
       " 'https://tengrinews.kz/kazakhstan_news/telekanal-pokazal-ne-publikovavshiesya-kadryi-massovyih-461163/',\n",
       " 'https://tengrinews.kz/kazakhstan_news/videla-etot-ujas-glava-komissii-rassledovaniyu-yanvarskih-460859/',\n",
       " 'https://tengrinews.kz/kazakhstan_news/besporyadki-kazahstane-arestovanyi-35-chlenov-zapreschennyih-461290/',\n",
       " 'https://tengrinews.kz/kazakhstan_news/besporyadki-v-kazahstane-zaderjanyi-lideryi-i-uchastniki-opg-461552/',\n",
       " 'https://tengrinews.kz/kazakhstan_news/besporyadkah-almatyi-postradali-130-kursantov-minoboronyi-461644/',\n",
       " 'https://tengrinews.kz/kazakhstan_news/besporyadki-shyimkente-opublikovana-videohronologiya-461667/',\n",
       " 'https://tengrinews.kz/kazakhstan_news/besporyadki-shyimkente-opublikovana-videohronologiya-461667/',\n",
       " 'https://tengrinews.kz/kazakhstan_news/tokaev-provel-operativnoe-soveschanie-soveta-bezopasnosti-461756/',\n",
       " 'https://tengrinews.kz/kazakhstan_news/knb-rassmatrivaet-15-del-gosizmene-popyitke-zahvata-vlasti-461909/',\n",
       " 'https://tengrinews.kz/kazakhstan_news/besporyadki-almatyi-milliard-tenge-kompensirovali-462009/',\n",
       " 'https://tengrinews.kz/kazakhstan_news/besporyadki-almatyi-portret-arestovannyih-sostavili-462117/',\n",
       " 'https://tengrinews.kz/news/vseh-protestah-te-pyitaetsya-vospolzovatsya-situatsiey-462192/',\n",
       " 'https://tengrinews.kz/kazakhstan_news/byil-gosudarstvennyiy-perevorot-tokaev-yanvarskih-sobyitiyah-462218/',\n",
       " 'https://tengrinews.kz/kazakhstan_news/yanvarskie-besporyadki-v-almatyi-nachali-sudit-maroderov-462464/',\n",
       " 'https://tengrinews.kz/kazakhstan_news/besporyadki-almatyi-video-razgrableniya-aeroporta-lyudmi-462606/',\n",
       " 'https://tengrinews.kz/kazakhstan_news/sledovatel-iz-almatyi-nashey-tselyu-byilo-sohranit-gorod-462996/',\n",
       " 'https://tengrinews.kz/kazakhstan_news/rassledovanii-yanvarskoy-tragedii-rasskazali-genprokurature-463137/',\n",
       " 'https://tengrinews.kz/kazakhstan_news/yanvarskie-besporyadki-zaderjan-napadavshiy-zdaniya-politsii-465345/',\n",
       " 'https://tengrinews.kz/kazakhstan_news/v-yanvarskih-besporyadkah-uchastvovali-12-opg-genprokuratura-466178/',\n",
       " 'https://tengrinews.kz/kazakhstan_news/yanvarskie-besporyadki-zavershatsya-vyiplatyi-postradavshemu-466767/',\n",
       " 'https://tengrinews.kz/kazakhstan_news/yanvarskie-besporyadki-chislo-podozrevaemyih-uchastnikov-467829/',\n",
       " 'https://tengrinews.kz/kazakhstan_news/yanvarskie-besporyadki-445-chelovek-osujdenyi-v-kazahstane-472145/',\n",
       " 'https://tengrinews.kz/kazakhstan_news/yanvarskie-sobyitiya-kgd-vnes-popravki-pravila-kompensatsii-474617/',\n",
       " 'https://tengrinews.kz/kazakhstan_news/vidim-popyitki-opravdat-prestupnyie-deyaniya-tokaev-483235/',\n",
       " 'https://tengrinews.kz/kazakhstan_news/spetsoperatsiya-knb-massovyie-besporyadki-planirovali-20-483407/',\n",
       " 'https://tengrinews.kz/kazakhstan_news/ya-sih-por-ne-mogu-skazat-bol-pritupilas-vdova-pogibshego-486388/',\n",
       " 'https://tengrinews.kz/kazakhstan_news/yanvarskie-sobyitiya-obstoyatelstvah-gibeli-238-vyiskazalis-486768/',\n",
       " 'https://tengrinews.kz/kazakhstan_news/doljnyi-izvlech-uroki-etoy-tragedii-tokaev-otkryitii-486813/',\n",
       " 'https://tengrinews.kz/kazakhstan_news/oni-spokoyno-najimali-kurok-zatyanuvsheesya-dejurstvo-486586/',\n",
       " 'https://tengrinews.kz/kazakhstan_news/god-peremen-izmenilsya-kazahstan-yanvarskih-sobyitiy-487309/',\n",
       " 'https://tengrinews.kz/kazakhstan_news/kto-to-napadavshih-skazal-on-umer-izbivali-politseyskih-463249/',\n",
       " 'https://tengrinews.kz/kazakhstan_news/gorod-otdali-rasterzanie-yanvarskie-sobyitiya-glazami-486611/',\n",
       " 'https://tengrinews.kz/kazakhstan_news/zachem-vzyal-kreslo-istoriya-amnistirovannogo-yanvarskim-487435/',\n",
       " 'https://tengrinews.kz/kazakhstan_news/genprokuror-ogon-napadavshim-otkryit-vyistupleniya-487761/',\n",
       " 'https://tengrinews.kz/kazakhstan_news/dikogo-armana-koordiniroval-kurator-iz-knb-genprokuror-487760/',\n",
       " 'https://tengrinews.kz/kazakhstan_news/erlan-karin-myi-smogli-izbejat-natsionalnoy-katastrofyi-487805/',\n",
       " 'https://tengrinews.kz/kazakhstan_news/myi-lejali-detmi-koridore-dalekom-okon-meste-ochen-strashno-486641/']"
      ]
     },
     "execution_count": 11,
     "metadata": {},
     "output_type": "execute_result"
    }
   ],
   "source": [
    "cluster2_url = media_link_dat.loc[media_link_dat.Source.isin(cluster2_agencies),\"Link\"].tolist()\n",
    "cluster2_url"
   ]
  },
  {
   "cell_type": "code",
   "execution_count": 12,
   "id": "a5dc6605",
   "metadata": {},
   "outputs": [
    {
     "data": {
      "text/plain": [
       "308"
      ]
     },
     "execution_count": 12,
     "metadata": {},
     "output_type": "execute_result"
    }
   ],
   "source": [
    "len(cluster2_url)"
   ]
  },
  {
   "cell_type": "code",
   "execution_count": 13,
   "id": "52adf4b2",
   "metadata": {},
   "outputs": [
    {
     "data": {
      "text/plain": [
       "(510, 2)"
      ]
     },
     "execution_count": 13,
     "metadata": {},
     "output_type": "execute_result"
    }
   ],
   "source": [
    "media_link_dat.shape"
   ]
  },
  {
   "cell_type": "code",
   "execution_count": 14,
   "id": "0824fffb",
   "metadata": {},
   "outputs": [
    {
     "data": {
      "text/plain": [
       "510"
      ]
     },
     "execution_count": 14,
     "metadata": {},
     "output_type": "execute_result"
    }
   ],
   "source": [
    "len(cluster1_url) + len(cluster2_url)"
   ]
  },
  {
   "cell_type": "markdown",
   "id": "35864f91",
   "metadata": {},
   "source": [
    "# analysis path"
   ]
  },
  {
   "cell_type": "code",
   "execution_count": 15,
   "id": "9d394c81",
   "metadata": {},
   "outputs": [],
   "source": [
    "analysis_path = \"../analysis/\""
   ]
  },
  {
   "cell_type": "code",
   "execution_count": 16,
   "id": "2ee44bae",
   "metadata": {},
   "outputs": [],
   "source": [
    "keywords1_filename = \"keywords_cluster1.xlsx\"\n",
    "keywords2_filename = \"keywords_cluster2.xlsx\""
   ]
  },
  {
   "cell_type": "code",
   "execution_count": 17,
   "id": "71e3aacd",
   "metadata": {},
   "outputs": [],
   "source": [
    "keywords1_df = pd.read_excel(analysis_path+keywords1_filename)\n",
    "keywords2_df = pd.read_excel(analysis_path+keywords2_filename)"
   ]
  },
  {
   "cell_type": "code",
   "execution_count": 18,
   "id": "6a210ea1",
   "metadata": {},
   "outputs": [
    {
     "data": {
      "text/plain": [
       "['Государство',\n",
       " 'Закон, законность',\n",
       " 'Депутат',\n",
       " 'Народ',\n",
       " 'Интерес',\n",
       " 'Реформа',\n",
       " 'Инициатива',\n",
       " 'Население']"
      ]
     },
     "execution_count": 18,
     "metadata": {},
     "output_type": "execute_result"
    }
   ],
   "source": [
    "keywords1 = keywords1_df.Russian.tolist()\n",
    "keywords1"
   ]
  },
  {
   "cell_type": "code",
   "execution_count": 19,
   "id": "ae23c2ed",
   "metadata": {},
   "outputs": [
    {
     "data": {
      "text/plain": [
       "['Митинг', 'Толпа', 'Беспорядок', 'Военный']"
      ]
     },
     "execution_count": 19,
     "metadata": {},
     "output_type": "execute_result"
    }
   ],
   "source": [
    "keywords2 = keywords2_df.Russian.tolist()\n",
    "keywords2"
   ]
  },
  {
   "cell_type": "markdown",
   "id": "a7e6b9b8",
   "metadata": {},
   "source": [
    "# step 1. collect articles"
   ]
  },
  {
   "cell_type": "code",
   "execution_count": 20,
   "id": "4352eebb",
   "metadata": {},
   "outputs": [
    {
     "data": {
      "text/plain": [
       "['https://khabar.kz/ru/news/obshchestvo/item/137781-khronologiya-protestov-v-mangistauskoj-oblasti',\n",
       " 'https://khabar.kz/ru/news/politika/item/137784-rezhim-chp-v-mangistauskoj-oblasti-i-almaty-prodlitsya-do-19-yanvarya',\n",
       " 'https://khabar.kz/ru/news/politika/item/137785-prezident-kazakhstana-nazval-vinovnykh-v-dopushchenii-protestnoj-situatsii',\n",
       " 'https://khabar.kz/ru/news/politika/item/137786-k-tokaev-odna-iz-glavnejshikh-zadach-ispolnitelnoj-vlasti-ostalas-nevypolnennoj',\n",
       " 'https://khabar.kz/ru/news/obshchestvo/item/137792-kakoj-ushcherb-nanesli-uchastniki-mitingov']"
      ]
     },
     "execution_count": 20,
     "metadata": {},
     "output_type": "execute_result"
    }
   ],
   "source": [
    "cluster1_url[0:5]"
   ]
  },
  {
   "cell_type": "code",
   "execution_count": 21,
   "id": "cdd74462",
   "metadata": {},
   "outputs": [
    {
     "name": "stdout",
     "output_type": "stream",
     "text": [
      "<Response [200]>\n",
      "<Response [200]>\n",
      "<Response [200]>\n",
      "<Response [200]>\n",
      "<Response [200]>\n"
     ]
    }
   ],
   "source": [
    "# scan Cluster 1 articles\n",
    "\n",
    "for url in cluster1_url[0:5]:\n",
    "    response = requests.get(url)\n",
    "    print(response)"
   ]
  },
  {
   "cell_type": "code",
   "execution_count": 23,
   "id": "003b64f1",
   "metadata": {},
   "outputs": [
    {
     "data": {
      "text/plain": [
       "'<!DOCTYPE html>\\r\\n<html lang=\"ru\" prefix=\"og: http://ogp.me/ns# fb: http://www.facebook.com/2008/fbml og: http://opengraphprotocol.org/schema/\">\\r\\n<head>\\r\\n \\r\\n<meta charset=\"utf-8\">\\r\\n<base href=\"https://khabar.kz/ru/news/obshchestvo/item/137792-kakoj-ushcherb-nanesli-uchastniki-mitingov\" />\\r\\n<title>Какой ущерб нанесли участники митингов?</title>\\r\\n<meta name=\"viewport\" content=\"width=device-width, initial-scale=1, shrink-to-fit=no\" />\\r\\n<meta http-equiv=\"content-type\" content=\"text/html; charset=utf-8\" />\\r\\n<meta name=\"keywords\" content=\"ущер, митинг в Казахстане, Министерство внутренних дел, нападение, нарушение, токаев, новости Казахстана\" />\\r\\n<meta property=\"og:url\" content=\"https://khabar.kz/ru/news/obshchestvo/item/137792-kakoj-ushcherb-nanesli-uchastniki-mitingov\" />\\r\\n<meta property=\"og:type\" content=\"article\" />\\r\\n<meta property=\"og:title\" content=\"Какой ущерб нанесли участники митингов?\" />\\r\\n<meta property=\"og:description\" content=\"Какой ущерб нанесли участники митингов?\" />\\r\\n<meta property=\"og:image\" content=\"https://khabar.kz/media/k2/items/cache/c3844c0f7f118266316e59770032b99b_XL.jpg?t=20220105_084832\" />\\r\\n<meta name=\"image\" content=\"https://khabar.kz/media/k2/items/cache/c3844c0f7f118266316e59770032b99b_XL.jpg?t=20220105_084832\" />\\r\\n<meta name=\"twitter:card\" content=\"summary\" />\\r\\n<meta name=\"twitter:title\" content=\"Какой ущерб нанесли участники митингов?\" />\\r\\n<meta name=\"twitter:description\" content=\"Какой ущерб нанесли участники митингов?\" />\\r\\n<meta name=\"twitter:image\" content=\"https://khabar.kz/media/k2/items/cache/c3844c0f7f118266316e59770032b99b_L.jpg?t=20220105_084832\" />\\r\\n<meta name=\"twitter:image:alt\" content=\"Какой ущерб нанесли участники митингов?\" />\\r\\n<meta property=\"aiturec:title\" content=\"Какой ущерб нанесли участники митингов?\" />\\r\\n<meta property=\"aiturec:description\" content=\"Какой ущерб нанесли участники митингов?\" />\\r\\n<meta property=\"aiturec:item_id\" content=\"137792\" />\\r\\n<meta property=\"aiturec:is_article\" content=\"true\" />\\r\\n<meta property=\"aiturec:image\" content=\"https://khabar.kz/media/k2/items/cache/c3844c0f7f118266316e59770032b99b_XL.jpg?t=20220105_084832\" />\\r\\n<meta property=\"aiturec:datetime\" content=\"2022-01-05T14:02:31+06:00\" />\\r\\n<meta name=\"description\" content=\"Какой ущерб нанесли участники митингов?\" />\\r\\n<link href=\"/ru/news/obshchestvo/item/137792-kakoj-ushcherb-nanesli-uchastniki-mitingov\" rel=\"canonical\" />\\r\\n\\t<link href=\"https://cdn.jsdelivr.net/npm/magnific-popup@1.1.0/dist/magnific-popup.min.css\" rel=\"stylesheet\" type=\"text/css\" />\\r\\n\\n\\t<link href=\"https://cdn.jsdelivr.net/npm/simple-line-icons@2.4.1/css/simple-line-icons.css\" rel=\"stylesheet\" type=\"text/css\" />\\r\\n\\n\\t<link href=\"//khabar.kz/templates/gk_news/css/k2.css?v=2.10.3\" rel=\"stylesheet\" type=\"text/css\" />\\r\\n\\n\\t<link href=\"//khabar.kz/plugins/content/jw_allvideos/jw_allvideos/tmpl/Responsive/css/template.css?v=5.1.0\" rel=\"stylesheet\" type=\"text/css\" />\\r\\n\\n\\t<link href=\"//khabar.kz/cache/widgetkit/wk-styles-1d835384.css\" rel=\"stylesheet\" type=\"text/css\" id=\"wk-styles-css\" />\\r\\n\\n<script type=\"application/json\" class=\"joomla-script-options new\">{\"csrf.token\":\"b3ce67b6dc19e0ffab882505dc9123ed\",\"system.paths\":{\"root\":\"\",\"base\":\"\"}}</script>\\r\\n<script type=\"application/x-k2-headers\">\\r\\n{\"Last-Modified\": \"Wed, 05 Jan 2022 08:48:32 GMT\", \"ETag\": \"b29b66c37556664c19390b05beb27854\"}\\n</script>\\r\\n<script type=\"application/ld+json\">\\r\\n\\r\\n        {\\r\\n          \"@context\": \"https://schema.org\",\\r\\n          \"@type\": \"NewsArticle\",\\r\\n          \"mainEntityOfPage\": {\\r\\n            \"@type\": \"WebPage\",\\r\\n            \"@id\": \"https://khabar.kz/ru/news/obshchestvo/item/137792-kakoj-ushcherb-nanesli-uchastniki-mitingov\"\\r\\n          },\\r\\n          \"url\": \"https://khabar.kz/ru/news/obshchestvo/item/137792-kakoj-ushcherb-nanesli-uchastniki-mitingov\",\\r\\n          \"headline\": \"Какой ущерб нанесли участники митингов?\",\\r\\n          \"image\": [\\r\\n            \"https://khabar.kz/media/k2/items/cache/c3844c0f7f118266316e59770032b99b_XL.jpg?t=20220105_084832\",\\r\\n            \"https://khabar.kz/media/k2/items/cache/c3844c0f7f118266316e59770032b99b_L.jpg?t=20220105_084832\",\\r\\n            \"https://khabar.kz/media/k2/items/cache/c3844c0f7f118266316e59770032b99b_M.jpg?t=20220105_084832\",\\r\\n            \"https://khabar.kz/media/k2/items/cache/c3844c0f7f118266316e59770032b99b_S.jpg?t=20220105_084832\",\\r\\n            \"https://khabar.kz/media/k2/items/cache/c3844c0f7f118266316e59770032b99b_XS.jpg?t=20220105_084832\",\\r\\n            \"https://khabar.kz/media/k2/items/cache/c3844c0f7f118266316e59770032b99b_Generic.jpg?t=20220105_084832\"\\r\\n          ],\\r\\n          \"datePublished\": \"2022-01-05 08:02:31\",\\r\\n          \"dateModified\": \"2022-01-05 08:48:32\",\\r\\n          \"author\": {\\r\\n            \"@type\": \"Person\",\\r\\n            \"name\": \"Юлия Кушнарева\",\\r\\n            \"url\": \"https://khabar.kz/ru/show/itemlist/user/60-yuliyakushnapeva\"\\r\\n          },\\r\\n          \"publisher\": {\\r\\n            \"@type\": \"Organization\",\\r\\n            \"name\": \"Агентство Хабар\",\\r\\n            \"url\": \"https://khabar.kz/\",\\r\\n            \"logo\": {\\r\\n              \"@type\": \"ImageObject\",\\r\\n              \"name\": \"Агентство Хабар\",\\r\\n              \"width\": \"\",\\r\\n              \"height\": \"\",\\r\\n              \"url\": \"https://khabar.kz/images/2020/february/logo.png\"\\r\\n            }\\r\\n          },\\r\\n          \"articleSection\": \"https://khabar.kz/ru/news/obshchestvo\",\\r\\n          \"keywords\": \"ущер, митинг в Казахстане, Министерство внутренних дел, нападение, нарушение, токаев, новости Казахстана\",\\r\\n          \"description\": \"Ущерб от незаконных акций сейчас подсчитывают в регионах.\",\\r\\n          \"articleBody\": \"Ущерб от незаконных акций сейчас подсчитывают в регионах. В министерстве внутренних дел сообщают, что несмотря на предупреждения чиновников, прокуроров, некоторые казахстанцы поддались на провокации и стали совершать противоправные действия. Люди перекрывали дороги, блокировали движение транспорта, нарушая общественный порядок и покой рядовых граждан. Совершены нападения на полицейских, которые несли службу для обеспечения безопасности. Пострадали 95 сотрудников органов внутренних дел, повреждено 37 служебных автомашин. В городах Алматы, Шымкенте и Таразе предпринимались попытки нападения на акиматы, в зданиях были выбиты стекла и двери. Демонстранты применяли камни, палки, перцовые баллоны и бутылки с зажигательной смесью. За нарушения общественного порядка задержаны более 200 человек.\\xa0\"\\r\\n        }\\r\\n        \\n</script>\\r\\n<meta itemprop=\"name\" content=\"Какой ущерб нанесли участники митингов?\" />\\n <meta itemprop=\"description\" content=\"Ущерб от незаконных акций сейчас подсчитывают в регионах.\" />\\n <meta itemprop=\"image\" content=\"//khabar.kz/media/k2/items/src/c3844c0f7f118266316e59770032b99b.jpg\" />\\n <link rel=\"image_src\" href=\"//khabar.kz/media/k2/items/src/c3844c0f7f118266316e59770032b99b.jpg\" />\\n <link rel=\"apple-touch-icon\" href=\"//khabar.kz/images/2020/favicon.png\" />\\n <link rel=\"shortcut icon\" href=\"//khabar.kz/images/2020/favicon.png\" />\\n <link rel=\"icon\" sizes=\"192x192\" href=\"//khabar.kz/images/2020/favicon192.png\" />\\n <link rel=\"icon\" sizes=\"128x128\" href=\"//khabar.kz/images/2020/favicon128.png\" />\\n <meta name=\"msapplication-TileImage\" content=\"//khabar.kz/images/2020/favicon144.png\" />\\n <meta name=\"msapplication-TileColor\" content=\"https://khabar.kz/#ffffff\" />\\r\\n <!-- Pre -->\\r\\n  <link rel=\"dns-prefetch\" href=\"https://www.googletagmanager.com\">\\r\\n  <link rel=\"dns-prefetch\" href=\"https://www.google-analytics.com\">\\r\\n  <link rel=\"dns-prefetch\" href=\"https://www.google.com\">\\r\\n  <link rel=\"dns-prefetch\" href=\"https://stats.g.doubleclick.net\">\\r\\n  <link rel=\"dns-prefetch\" href=\"https://yastatic.net\">\\r\\n  <link rel=\"dns-prefetch\" href=\"https://bs.yandex.ru\">\\r\\n\\r\\n  <link rel=\"preconnect\" href=\"https://www.googletagmanager.com\">\\r\\n  <link rel=\"preconnect\" href=\"https://www.google-analytics.com\">\\r\\n  <link rel=\"preconnect\" href=\"https://www.google.com\">\\r\\n  <link rel=\"preconnect\" href=\"https://stats.g.doubleclick.net\">\\r\\n  <link rel=\"preconnect\" href=\"https://yastatic.net\">\\r\\n  <link rel=\"preconnect\" href=\"https://bs.yandex.ru\">\\r\\n\\r\\n\\r\\n <!-- Css -->\\r\\n <link rel=\"stylesheet\" href=\"//khabar.kz/2022/templates/gk_news/css/bootstrap.min.css\" />\\r\\n <link rel=\"stylesheet\" href=\"//khabar.kz/2022/templates/gk_news/css/font-icons.css?v=6\" />\\r\\n <link rel=\"stylesheet\" href=\"//khabar.kz/2022/templates/gk_news/css/style.css?v=30\" />\\r\\n\\r\\n <!-- Favicons -->\\r\\n <link rel=\"shortcut icon\" href=\"//khabar.kz/images/2020/favicon.png\">\\r\\n <link rel=\"apple-touch-icon\" href=\"//khabar.kz/2022/templates/gk_news/img/apple-touch-icon.png\">\\r\\n <link rel=\"apple-touch-icon\" sizes=\"72x72\" href=\"//khabar.kz/2022/templates/gk_news/img/apple-touch-icon-72x72.png\">\\r\\n <link rel=\"apple-touch-icon\" sizes=\"114x114\" href=\"//khabar.kz/2022/templates/gk_news/img/apple-touch-icon-114x114.png\">\\r\\n\\r\\n <!-- Lazyload (must be placed in head in order to work) -->\\r\\n <script src=\"//khabar.kz/2022/templates/gk_news/js/lazysizes.min.js\"></script>\\r\\n<script type=\"text/javascript\"><!--\\r\\nvar _zero_kz_ = _zero_kz_ || [];\\r\\n_zero_kz_.push([\"id\", 55975]);\\r\\n_zero_kz_.push([\"type\", 1]);\\r\\n\\r\\n(function () {\\r\\n  var a = document.getElementsByTagName(\"script\")[0],\\r\\n  s = document.createElement(\"script\");\\r\\n  s.type = \"text/javascript\";\\r\\n  s.async = true;\\r\\n  s.src = (document.location.protocol == \"https:\" ? \"https:\" : \"http:\")\\r\\n  + \"//c.zero.kz/z.js\";\\r\\n  a.parentNode.insertBefore(s, a);\\r\\n})(); //-->\\r\\n</script>\\r\\n<!-- Yandex.Metrika counter --> <script type=\"text/javascript\" > (function(m,e,t,r,i,k,a){m[i]=m[i]||function(){(m[i].a=m[i].a||[]).push(arguments)}; m[i].l=1*new Date();k=e.createElement(t),a=e.getElementsByTagName(t)[0],k.async=1,k.src=r,a.parentNode.insertBefore(k,a)}) (window, document, \"script\", \"https://mc.yandex.ru/metrika/tag.js\", \"ym\"); ym(28042572, \"init\", { clickmap:true, trackLinks:true, accurateTrackBounce:true, webvisor:true }); </script> <noscript><div><img src=\"https://mc.yandex.ru/watch/28042572\" style=\"position:absolute; left:-9999px;\" alt=\"Телеканал Хабар\" /></div></noscript> <!-- /Yandex.Metrika counter -->\\r\\n\\r\\n<!-- Global site tag (gtag.js) - Google Analytics -->\\r\\n<script async src=\"https://www.googletagmanager.com/gtag/js?id=UA-18056327-1\"></script>\\r\\n<script>\\r\\n window.dataLayer = window.dataLayer || [];\\r\\n function gtag(){dataLayer.push(arguments);}\\r\\n gtag(\\'js\\', new Date());\\r\\n\\r\\n gtag(\\'config\\', \\'UA-18056327-1\\');\\r\\n</script>\\r\\n<script>window.yaContextCb = window.yaContextCb || []</script>\\r\\n<script src=\"https://yandex.ru/ads/system/context.js\" async></script>\\r\\n<script async src=\"https://pagead2.googlesyndication.com/pagead/js/adsbygoogle.js?client=ca-pub-4384475783502313\"\\r\\n   crossorigin=\"anonymous\"></script>\\r\\n</head>\\r\\n\\r\\n<body class=\"bg-light style-default style-rounded\">\\r\\n\\r\\n <!-- Bg Overlay -->\\r\\n <div class=\"content-overlay\"></div>\\r\\n\\r\\n <!-- Sidenav -->  \\r\\n <header class=\"sidenav\" id=\"sidenav\">\\r\\n\\r\\n  <!-- close -->\\r\\n  <div class=\"sidenav__close\">\\r\\n   <button class=\"sidenav__close-button\" id=\"sidenav__close-button\" aria-label=\"close sidenav\">\\r\\n    <i class=\"ui-close sidenav__close-icon\"></i>\\r\\n   </button>\\r\\n  </div>\\r\\n  \\r\\n  <!-- Nav -->\\r\\n  <nav class=\"sidenav__menu-container\">\\r\\n\\t<ul class=\"sidenav__menu\" role=\"menubar\">\\r\\n<li class=\"menu-item menu-item-has-children\"><a class=\"sidenav__menu-url\" href=\"/ru/news\" >Новости</a><button class=\"sidenav__menu-toggle\" aria-haspopup=\"true\" aria-label=\"Open dropdown\"><i class=\"ui-arrow-down\"></i></button><ul class=\"sidenav__menu-dropdown\"><li class=\"menu-item menu2724\"><a class=\"sidenav__menu-url\" href=\"/ru/news/politika\" >Политика</a></li><li class=\"menu-item menu2719\"><a class=\"sidenav__menu-url\" href=\"/ru/news/obshchestvo\" >Общество</a></li><li class=\"menu-item menu2720\"><a class=\"sidenav__menu-url\" href=\"/ru/news/kultura\" >Культура</a></li><li class=\"menu-item menu2721\"><a class=\"sidenav__menu-url\" href=\"/ru/news/v-mire\" >В мире</a></li><li class=\"menu-item menu2722\"><a class=\"sidenav__menu-url\" href=\"/ru/news/sport\" >Спорт</a></li><li class=\"menu-item menu2723\"><a class=\"sidenav__menu-url\" href=\"/ru/news/ekonomika\" >Экономика</a></li><li class=\"menu-item menu2738\"><a class=\"sidenav__menu-url\" href=\"/ru/news/proisshestviya\" >Происшествия</a></li><li class=\"menu-item menu2817\"><a class=\"sidenav__menu-url\" href=\"/ru/news/nauka-i-obrazovanie\" >Наука и образование</a></li><li class=\"menu-item menu2912\"><a class=\"sidenav__menu-url\" href=\"/ru/news/novosti-o-deyatelnosti\" >Новости о деятельности</a></li><li class=\"menu-item menu3540\"><a class=\"sidenav__menu-url\" href=\"/ru/novosti-ru\" >Выпуски новостей</a></li></ul></li><li class=\"menu-item menu-item-has-children\"><a class=\"sidenav__menu-url\" href=\"/ru/teleproekty\" >Телепроекты</a><button class=\"sidenav__menu-toggle\" aria-haspopup=\"true\" aria-label=\"Open dropdown\"><i class=\"ui-arrow-down\"></i></button><ul class=\"sidenav__menu-dropdown\"><li class=\"menu-item menu2755\"><a class=\"sidenav__menu-url\" href=\"/ru/o-proekte-otdel-zhurnalistskikh-rassledovanij\" >«Отдел журналистских расследований»</a></li><li class=\"menu-item menu412\"><a class=\"sidenav__menu-url\" href=\"/ru/poslednij-vypusk-7-kun\" >«7 күн»</a></li><li class=\"menu-item menu3237\"><a class=\"sidenav__menu-url\" href=\"/ru/poslednij-vypusk-itogi\" > «Итоги»</a></li><li class=\"menu-item menu3240\"><a class=\"sidenav__menu-url\" href=\"/ru/poslednij-vypusk-v-focuse\" >«В фокусе»</a></li><li class=\"menu-item menu3258\"><a class=\"sidenav__menu-url\" href=\"/ru/poslednij-vypusk-kulturniy-kontext\" >«Культурный контекст» </a></li><li class=\"menu-item menu3479\"><a class=\"sidenav__menu-url\" href=\"https://khabar.kz/kk/songy-shygarylym-ulttyk-kuryltai\" >«Ұлттық құрылтай»</a></li><li class=\"menu-item menu3498\"><a class=\"sidenav__menu-url\" href=\"/ru/poslednij-vypusk-shkola\" >«Школа»</a></li></ul></li><li class=\"menu-item menu-item-has-children\"><a class=\"sidenav__menu-url\" href=\"/ru/serialy\" >Сериалы</a><button class=\"sidenav__menu-toggle\" aria-haspopup=\"true\" aria-label=\"Open dropdown\"><i class=\"ui-arrow-down\"></i></button><ul class=\"sidenav__menu-dropdown\"><li class=\"menu-item menu3654\"><a class=\"sidenav__menu-url\" href=\"https://khabar.kz/kk/songy-bolim-sherli-jurek\" >«Шерлі жүрек»</a></li><li class=\"menu-item menu3663\"><a class=\"sidenav__menu-url\" href=\"https://khabar.kz/kk/songy-bolim-kara-zhashik\" >«Қара жәшік»</a></li><li class=\"menu-item menu3672\"><a class=\"sidenav__menu-url\" href=\"https://khabar.kz/kk/songy-bolim-karasu\" >«Қарасу»</a></li></ul></li><li class=\"menu-item menu-item-has-children\"><a class=\"sidenav__menu-url\" href=\"/ru/programma\" >Программа</a><button class=\"sidenav__menu-toggle\" aria-haspopup=\"true\" aria-label=\"Open dropdown\"><i class=\"ui-arrow-down\"></i></button><ul class=\"sidenav__menu-dropdown\"><li class=\"menu-item menu437\"><a class=\"sidenav__menu-url\" href=\"/ru/programma/ne-propustite\" >Не пропустите</a></li><li class=\"menu-item menu462\"><a class=\"sidenav__menu-url\" href=\"https://khabar.kz/ru/programma/live\" >Онлайн трансляция</a></li><li class=\"menu-item menu734\"><a class=\"sidenav__menu-url\" href=\"/ru/programma\" >ТВ Программа</a></li></ul></li><li class=\"menu-item menu-item-has-children\"><a class=\"sidenav__menu-url\" href=\"/ru/agency\" >Агентство</a><button class=\"sidenav__menu-toggle\" aria-haspopup=\"true\" aria-label=\"Open dropdown\"><i class=\"ui-arrow-down\"></i></button><ul class=\"sidenav__menu-dropdown\"><li class=\"menu-item menu439\"><a class=\"sidenav__menu-url\" href=\"/ru/agency/rukovodstvo\" >Руководство</a></li><li class=\"menu-item menu438\"><a class=\"sidenav__menu-url\" href=\"/\" >Об Агентстве</a><button class=\"sidenav__menu-toggle\" aria-haspopup=\"true\" aria-label=\"Open dropdown\"><i class=\"ui-arrow-down\"></i></button><ul class=\"sidenav__menu-dropdown\"><li class=\"menu-item menu-item-has-children\"><a class=\"sidenav__menu-url\" href=\"/ru/agency/o-nas/istoriya-agentstva\" >История Агентства</a></li><li class=\"menu-item menu-item-has-children\"><a class=\"sidenav__menu-url\" href=\"/ru/agency/o-nas/osnovnye-dostizheniya-nagrady\" >Основные достижения, награды</a></li><li class=\"menu-item menu-item-has-children\"><a class=\"sidenav__menu-url\" href=\"/ru/agency/o-nas/strategiya-i-missiya\" >Стратегия и миссия</a></li><li class=\"menu-item menu-item-has-children\"><a class=\"sidenav__menu-url\" href=\"/ru/agency/o-nas/khabar-v-regionakh\" >«Хабар» в регионах</a></li><li class=\"menu-item menu-item-has-children\"><a class=\"sidenav__menu-url\" href=\"/ru/agency/o-nas/khabar-v-mire\" >«Хабар» в мире</a></li><li class=\"menu-item menu-item-has-children\"><a class=\"sidenav__menu-url\" href=\"/ru/agency/o-nas/kalendar-sobytij\" >Календарь событий</a></li><li class=\"menu-item menu-item-has-children\"><a class=\"sidenav__menu-url\" href=\"/ru/agency/o-nas/mezhdunarodnoe-sotrudnichestvo\" >Международное сотрудничество</a></li><li class=\"menu-item menu-item-has-children\"><a class=\"sidenav__menu-url\" href=\"/ru/agency/o-nas/doklady\" >Доклады</a></li></ul></li><li class=\"menu-item menu517\"><a class=\"sidenav__menu-url\" href=\"/ru/agency/litsa-kanala\" >Лица канала</a></li><li class=\"menu-item menu870\"><a class=\"sidenav__menu-url\" href=\"/ru/agency/hudozhestvennyj-sovet\" >Художественный совет</a></li><li class=\"menu-item menu1802\"><a class=\"sidenav__menu-url\" href=\"/\" >Телеканалы</a><button class=\"sidenav__menu-toggle\" aria-haspopup=\"true\" aria-label=\"Open dropdown\"><i class=\"ui-arrow-down\"></i></button><ul class=\"sidenav__menu-dropdown\"><li class=\"menu-item menu-item-has-children\"><a class=\"sidenav__menu-url\" href=\"/ru/agency/telekanaly/khabar\" >«Хабар»</a></li><li class=\"menu-item menu-item-has-children\"><a class=\"sidenav__menu-url\" href=\"/ru/agency/telekanaly/24kz\" >«24KZ»</a></li><li class=\"menu-item menu-item-has-children\"><a class=\"sidenav__menu-url\" href=\"/ru/agency/telekanaly/el-ar-a\" >EL ARNA</a></li></ul></li><li class=\"menu-item menu1774\"><a class=\"sidenav__menu-url\" href=\"/\" >Корпоративное управление</a><button class=\"sidenav__menu-toggle\" aria-haspopup=\"true\" aria-label=\"Open dropdown\"><i class=\"ui-arrow-down\"></i></button><ul class=\"sidenav__menu-dropdown\"><li class=\"menu-item menu-item-has-children\"><a class=\"sidenav__menu-url\" href=\"/ru/agency/korporativnoe-upravlenie/sovet-direktorov\" >Совет директоров</a></li><li class=\"menu-item menu-item-has-children\"><a class=\"sidenav__menu-url\" href=\"/ru/agency/korporativnoe-upravlenie/strategichesloe-planirovanie\" >Комитет по стратегическому планированию СД</a></li><li class=\"menu-item menu-item-has-children\"><a class=\"sidenav__menu-url\" href=\"/ru/agency/korporativnoe-upravlenie/komitet-po-auditu-soveta-direktorov\" >Комитет по аудиту Совета директоров</a></li><li class=\"menu-item menu-item-has-children\"><a class=\"sidenav__menu-url\" href=\"/ru/agency/korporativnoe-upravlenie/pravlenie\" >Правление</a></li><li class=\"menu-item menu-item-has-children\"><a class=\"sidenav__menu-url\" href=\"/ru/agency/korporativnoe-upravlenie/sluzhba-vnutrennego-audita\" >Служба внутреннего аудита</a></li><li class=\"menu-item menu-item-has-children\"><a class=\"sidenav__menu-url\" href=\"/ru/agency/korporativnoe-upravlenie/korporativnyj-sekretar\" >Корпоративный секретарь</a></li><li class=\"menu-item menu-item-has-children\"><a class=\"sidenav__menu-url\" href=\"/ru/agency/korporativnoe-upravlenie/omb-dsme\" >Омбудсмен</a></li><li class=\"menu-item menu-item-has-children\"><a class=\"sidenav__menu-url\" href=\"/ru/agency/korporativnoe-upravlenie/organizatsionnaya-struktura\" >Организационная структура</a></li><li class=\"menu-item menu-item-has-children\"><a class=\"sidenav__menu-url\" href=\"/ru/agency/korporativnoe-upravlenie/krupnye-realizovannye-sdelki\" >Крупные реализованные сделки</a></li><li class=\"menu-item menu-item-has-children\"><a class=\"sidenav__menu-url\" href=\"/ru/agency/korporativnoe-upravlenie/vnutrennie-akty-obshchestva\" >Внутренние акты Общества</a></li><li class=\"menu-item menu-item-has-children\"><a class=\"sidenav__menu-url\" href=\"/ru/agency/korporativnoe-upravlenie/dokumenty-po-sisteme-upravleniya-riskami\" >Документы по системе управления рисками</a></li><li class=\"menu-item menu-item-has-children\"><a class=\"sidenav__menu-url\" href=\"/ru/agency/korporativnoe-upravlenie/protivodejstvie-korruptsii\" >Противодействие коррупции</a></li></ul></li><li class=\"menu-item menu1804\"><a class=\"sidenav__menu-url\" href=\"/\" >Отчеты</a><button class=\"sidenav__menu-toggle\" aria-haspopup=\"true\" aria-label=\"Open dropdown\"><i class=\"ui-arrow-down\"></i></button><ul class=\"sidenav__menu-dropdown\"><li class=\"menu-item menu-item-has-children\"><a class=\"sidenav__menu-url\" href=\"/ru/agency/otchety/otchety-i-doklady-o-prodelannoj-rabote\" >Отчеты и доклады о проделанной работе</a></li><li class=\"menu-item menu-item-has-children\"><a class=\"sidenav__menu-url\" href=\"/ru/agency/otchety/finansovaya-otchetnost\" >Финансовые отчеты</a></li><li class=\"menu-item menu-item-has-children\"><a class=\"sidenav__menu-url\" href=\"/ru/agency/otchety/pokazateli-i-rezultaty-deyatelnosti\" >Показатели и результаты деятельности</a></li><li class=\"menu-item menu-item-has-children\"><a class=\"sidenav__menu-url\" href=\"/ru/agency/otchety/otchety-po-sots-issledovaniyam\" >Отчеты по соц. исследованиям</a></li></ul></li><li class=\"menu-item menu445\"><a class=\"sidenav__menu-url\" href=\"/ru/agency/gosudarstvennye-zakupki\" >Государственные закупки</a></li><li class=\"menu-item menu449\"><a class=\"sidenav__menu-url\" href=\"/ru/agency/dlya-reklamodatelej\" >Для рекламодателей</a></li><li class=\"menu-item menu1805\"><a class=\"sidenav__menu-url\" href=\"/\" >Пресс-Центр</a><button class=\"sidenav__menu-toggle\" aria-haspopup=\"true\" aria-label=\"Open dropdown\"><i class=\"ui-arrow-down\"></i></button><ul class=\"sidenav__menu-dropdown\"><li class=\"menu-item menu-item-has-children\"><a class=\"sidenav__menu-url\" href=\"/ru/agency/press-tsentr/pressa-o-nas\" >Пресса о нас</a></li><li class=\"menu-item menu-item-has-children\"><a class=\"sidenav__menu-url\" href=\"/ru/agency/press-tsentr/partnery\" >Партнеры</a></li><li class=\"menu-item menu-item-has-children\"><a class=\"sidenav__menu-url\" href=\"/ru/agency/press-tsentr/novosti-o-deyatelnosti\" >Новости о деятельности</a></li></ul></li><li class=\"menu-item menu450\"><a class=\"sidenav__menu-url\" href=\"/ru/agency/programma-dlya-smi\" >Программа для СМИ</a></li><li class=\"menu-item menu451\"><a class=\"sidenav__menu-url\" href=\"/ru/agency/vakansii\" >Вакансии</a></li><li class=\"menu-item menu840\"><a class=\"sidenav__menu-url\" href=\"/ru/agency/kontakty\" >Контакты</a></li><li class=\"menu-item menu2816\"><a class=\"sidenav__menu-url\" href=\"/ru/agency/q-a\" >Вопрос - ответ</a></li><li class=\"menu-item menu2821\"><a class=\"sidenav__menu-url\" href=\"/ru/agency/opros\" >Опрос</a></li></ul></li><li class=\"menu-item menu-item-has-children\"><a class=\"sidenav__menu-url\" href=\"/\" >Архив</a><button class=\"sidenav__menu-toggle\" aria-haspopup=\"true\" aria-label=\"Open dropdown\"><i class=\"ui-arrow-down\"></i></button><ul class=\"sidenav__menu-dropdown\"><li class=\"menu-item menu454\"><a class=\"sidenav__menu-url\" href=\"/ru/novosti-ru\" >Новости</a></li><li class=\"menu-item menu455\"><a class=\"sidenav__menu-url\" href=\"/ru/arkhiv/spetsproekty\" >Спецпроекты</a></li><li class=\"menu-item menu456\"><a class=\"sidenav__menu-url\" href=\"/ru/arkhiv/programmy\" >Программы</a></li><li class=\"menu-item menu457\"><a class=\"sidenav__menu-url\" href=\"/ru/arkhiv/serialy\" >Сериалы</a></li><li class=\"menu-item menu596\"><a class=\"sidenav__menu-url\" href=\"/ru/arkhiv/dokumentalnye-filmy\" >Документальные фильмы</a></li><li class=\"menu-item menu1223\"><a class=\"sidenav__menu-url\" href=\"/ru/arkhiv/hudozhestvennye-filmy\" >Художественные фильмы</a></li><li class=\"menu-item menu818\"><a class=\"sidenav__menu-url\" href=\"/ru/arkhiv/kontserty\" >Концерты</a></li></ul></li><li class=\"menu-item menu-item-has-children\"><a class=\"sidenav__menu-url\" href=\"http://sales.khabar.kz/ru/\" target=\"_blank\" >Дистрибуция</a></li></ul>\\r\\n\\r\\n  </nav>\\r\\n\\r\\n  <div class=\"socials sidenav__socials\"> \\r\\n   <a class=\"social social-facebook\" href=\"https://www.facebook.com/habartv.telearnasy\" target=\"_blank\" aria-label=\"facebook\">\\r\\n    <i class=\"ui-facebook\"></i>\\r\\n   </a>\\r\\n   <a class=\"social social-twitter\" href=\"https://twitter.com/KhabarTV\" target=\"_blank\" aria-label=\"twitter\">\\r\\n    <svg xmlns=\"http://www.w3.org/2000/svg\" height=\"0.875em\" viewBox=\"0 0 512 512\"><path d=\"M389.2 48h70.6L305.6 224.2 487 464H345L233.7 318.6 106.5 464H35.8L200.7 275.5 26.8 48H172.4L272.9 180.9 389.2 48zM364.4 421.8h39.1L151.1 88h-42L364.4 421.8z\"></path></svg>\\r\\n   </a>\\r\\n   <a class=\"social social-youtube\" href=\"https://www.youtube.com/c/KhabarSHOWTV\" target=\"_blank\" aria-label=\"youtube\">\\r\\n    <i class=\"ui-youtube\"></i>\\r\\n   </a>\\r\\n   <a class=\"social social-instagram\" href=\"https://www.instagram.com/khabartv/\" target=\"_blank\" aria-label=\"instagram\">\\r\\n    <i class=\"ui-instagram\"></i>\\r\\n   </a>\\r\\n  </div>\\r\\n </header> <!-- end sidenav -->\\r\\n\\r\\n <main class=\"main oh\" id=\"main\">\\r\\n\\r\\n\\r\\n\\r\\n  <!-- Top Bar -->\\r\\n  <div class=\"top-bar d-none d-lg-block\">\\r\\n   <div class=\"container\">\\r\\n    <div class=\"row\">\\r\\n\\r\\n     <!-- Top menu -->\\r\\n     <div class=\"col-lg-6\">\\r\\n       <ul class=\"top-menu\">\\n<li>Сейчас в эфире:</li><li><a href=\\'https://khabar.kz/kk/ba-darlama/onlajn-k-rsetilim\\'>15:00 Телехикая. \"Жаңбырлы ғұмыр\"</a></li>      </ul>\\r\\n     </div>\\r\\n     \\r\\n     <!-- Socials -->\\r\\n     <div class=\"col-lg-6\">\\r\\n      <div class=\"socials nav__socials socials--nobase socials--white justify-content-end\"> \\r\\n\\t\\t\\t<a class=\"social social-instagram\" href=\"https://t.me/khabarnews2023/\" target=\"_blank\" aria-label=\"telegram\">\\r\\n<svg xmlns=\"http://www.w3.org/2000/svg\" height=\"1em\" viewBox=\"0 0 496 512\"><!--! Font Awesome Free 6.4.2 by @fontawesome - https://fontawesome.com License - https://fontawesome.com/license (Commercial License) Copyright 2023 Fonticons, Inc. --><style>svg{fill:#ffffff}</style><path d=\"M248,8C111.033,8,0,119.033,0,256S111.033,504,248,504,496,392.967,496,256,384.967,8,248,8ZM362.952,176.66c-3.732,39.215-19.881,134.378-28.1,178.3-3.476,18.584-10.322,24.816-16.948,25.425-14.4,1.326-25.338-9.517-39.287-18.661-21.827-14.308-34.158-23.215-55.346-37.177-24.485-16.135-8.612-25,5.342-39.5,3.652-3.793,67.107-61.51,68.335-66.746.153-.655.3-3.1-1.154-4.384s-3.59-.849-5.135-.5q-3.283.746-104.608,69.142-14.845,10.194-26.894,9.934c-8.855-.191-25.888-5.006-38.551-9.123-15.531-5.048-27.875-7.717-26.8-16.291q.84-6.7,18.45-13.7,108.446-47.248,144.628-62.3c68.872-28.647,83.183-33.623,92.511-33.789,2.052-.034,6.639.474,9.61,2.885a10.452,10.452,0,0,1,3.53,6.716A43.765,43.765,0,0,1,362.952,176.66Z\"/></svg>\\r\\n   </a>\\r\\n\\t\\t\\t<a class=\"social social-instagram\" href=\"https://www.instagram.com/khabartv/\" target=\"_blank\" aria-label=\"instagram\">\\r\\n    <i class=\"ui-instagram\"></i>\\r\\n   </a>\\t\\r\\n\\t\\t<a class=\"social social-facebook\" href=\"https://www.facebook.com/habartv.telearnasy\" target=\"_blank\" aria-label=\"facebook\">\\r\\n    <i class=\"ui-facebook\"></i>\\r\\n   </a>\\r\\n\\t <a class=\"social social-telegram\" href=\"https://www.tiktok.com/@khabartv\" target=\"_blank\" aria-label=\"tiktok\">\\r\\n    <svg xmlns=\"http://www.w3.org/2000/svg\" height=\"1em\" viewBox=\"0 0 448 512\"><!--! Font Awesome Free 6.4.2 by @fontawesome - https://fontawesome.com License - https://fontawesome.com/license (Commercial License) Copyright 2023 Fonticons, Inc. --><style>svg{fill:#ffffff}</style><path d=\"M448,209.91a210.06,210.06,0,0,1-122.77-39.25V349.38A162.55,162.55,0,1,1,185,188.31V278.2a74.62,74.62,0,1,0,52.23,71.18V0l88,0a121.18,121.18,0,0,0,1.86,22.17h0A122.18,122.18,0,0,0,381,102.39a121.43,121.43,0,0,0,67,20.14Z\"/></svg>\\r\\n   \\t\\t\\t</a>\\r\\n\\r\\n   <a class=\"social social-twitter\" href=\"https://twitter.com/KhabarTV\" target=\"_blank\" aria-label=\"twitter\">\\r\\n<svg xmlns=\"http://www.w3.org/2000/svg\" height=\"0.875em\" viewBox=\"0 0 512 512\"><!--! Font Awesome Free 6.4.2 by @fontawesome - https://fontawesome.com License - https://fontawesome.com/license (Commercial License) Copyright 2023 Fonticons, Inc. --><style>svg{fill:#ffffff}</style><path d=\"M389.2 48h70.6L305.6 224.2 487 464H345L233.7 318.6 106.5 464H35.8L200.7 275.5 26.8 48H172.4L272.9 180.9 389.2 48zM364.4 421.8h39.1L151.1 88h-42L364.4 421.8z\"/></svg>\\r\\n   </a>\\r\\n   <a class=\"social social-youtube\" href=\"https://www.youtube.com/c/KhabarSHOWTV\" target=\"_blank\" aria-label=\"youtube\">\\r\\n    <i class=\"ui-youtube\"></i>\\r\\n   </a>\\r\\n   \\r\\n\\t\\t\\t\\t\\r\\n\\t\\t\\t\\t\\r\\n       \\r\\n      </div>\\r\\n     </div>\\r\\n\\r\\n    </div>\\r\\n   </div>\\r\\n  </div> <!-- end top bar -->    \\r\\n\\r\\n  <!-- Navigation -->\\r\\n  <header class=\"nav\">\\r\\n\\r\\n   <div class=\"nav__holder nav--sticky\">\\r\\n    <div class=\"container relative\">\\r\\n     <div class=\"flex-parent\">\\r\\n\\r\\n      <!-- Side Menu Button -->\\r\\n      <button class=\"nav-icon-toggle\" id=\"nav-icon-toggle\" aria-label=\"Open side menu\">\\r\\n       <span class=\"nav-icon-toggle__box\">\\r\\n        <span class=\"nav-icon-toggle__inner\"></span>\\r\\n       </span>\\r\\n      </button> \\r\\n\\r\\n      <!-- Logo -->\\r\\n      <a href=\"https://khabar.kz/ru\" class=\"logo\">\\r\\n       <img class=\"logo__img\" src=\"//khabar.kz/2022/templates/gk_news/img/khabar.png\" srcset=\"//khabar.kz/2022/templates/gk_news/img/khabar.png 1x,//khabar.kz/2022/templates/gk_news/img/khabar@2x.png 2x\" alt=\"Хабар\">\\r\\n      </a>\\r\\n\\r\\n      <!-- Nav-wrap -->\\r\\n      <nav class=\"flex-child nav__wrap d-none d-lg-block\">       \\r\\n       <ul class=\"nav__menu\" ><li class=\"first nav__dropdown active menu 1922\"><a href=\"/ru/news\" class=\" first nav__dropdown active\" id=\"menu1922\" >Новости</a><ul class=\"nav__dropdown-menu\"><li class=\"first menu 2724\"><a href=\"/ru/news/politika\" class=\" first\" id=\"menu2724\" >Политика</a></li><li class=\"active menu 2719\"><a href=\"/ru/news/obshchestvo\" class=\" active\" id=\"menu2719\" >Общество</a></li><li class=\"menu2720\"><a href=\"/ru/news/kultura\" id=\"menu2720\" >Культура</a></li><li class=\"menu2721\"><a href=\"/ru/news/v-mire\" id=\"menu2721\" >В мире</a></li><li class=\"menu2722\"><a href=\"/ru/news/sport\" id=\"menu2722\" >Спорт</a></li><li class=\"menu2723\"><a href=\"/ru/news/ekonomika\" id=\"menu2723\" >Экономика</a></li><li class=\"menu2738\"><a href=\"/ru/news/proisshestviya\" id=\"menu2738\" >Происшествия</a></li><li class=\"menu2817\"><a href=\"/ru/news/nauka-i-obrazovanie\" id=\"menu2817\" >Наука и образование</a></li><li class=\"menu2912\"><a href=\"/ru/news/novosti-o-deyatelnosti\" id=\"menu2912\" >Новости о деятельности</a></li><li class=\"last menu 3540\"><a href=\"/ru/novosti-ru\" class=\" last\" id=\"menu3540\" >Выпуски новостей</a></li></ul></li><li class=\"nav__dropdown menu 330\"><a href=\"/ru/teleproekty\" class=\" nav__dropdown\" id=\"menu330\" >Телепроекты</a><ul class=\"nav__dropdown-menu\"><li class=\"first menu 2755\"><a href=\"/ru/o-proekte-otdel-zhurnalistskikh-rassledovanij\" class=\" first\" id=\"menu2755\" >«Отдел журналистских расследований»</a></li><li class=\"menu412\"><a href=\"/ru/poslednij-vypusk-7-kun\" id=\"menu412\" >«7 күн»</a></li><li class=\"menu3237\"><a href=\"/ru/poslednij-vypusk-itogi\" id=\"menu3237\" > «Итоги»</a></li><li class=\"menu3240\"><a href=\"/ru/poslednij-vypusk-v-focuse\" id=\"menu3240\" >«В фокусе»</a></li><li class=\"menu3258\"><a href=\"/ru/poslednij-vypusk-kulturniy-kontext\" id=\"menu3258\" >«Культурный контекст» </a></li><li class=\"menu3479\"><a href=\"https://khabar.kz/kk/songy-shygarylym-ulttyk-kuryltai\" id=\"menu3479\" >«Ұлттық құрылтай»</a></li><li class=\"last menu 3498\"><a href=\"/ru/poslednij-vypusk-shkola\" class=\" last\" id=\"menu3498\" >«Школа»</a></li></ul></li><li class=\"nav__dropdown menu 2187\"><a href=\"/ru/serialy\" class=\" nav__dropdown\" id=\"menu2187\" >Сериалы</a><ul class=\"nav__dropdown-menu\"><li class=\"first menu 3654\"><a href=\"https://khabar.kz/kk/songy-bolim-sherli-jurek\" class=\" first\" id=\"menu3654\" >«Шерлі жүрек»</a></li><li class=\"menu3663\"><a href=\"https://khabar.kz/kk/songy-bolim-kara-zhashik\" id=\"menu3663\" >«Қара жәшік»</a></li><li class=\"last menu 3672\"><a href=\"https://khabar.kz/kk/songy-bolim-karasu\" class=\" last\" id=\"menu3672\" >«Қарасу»</a></li></ul></li><li class=\"nav__dropdown menu 332\"><a href=\"/ru/programma\" class=\" nav__dropdown\" id=\"menu332\" >Программа</a><ul class=\"nav__dropdown-menu\"><li class=\"first menu 437\"></li><li class=\"menu462\"><a href=\"/ru/programma/live\" id=\"menu462\" >Онлайн трансляция</a></li><li class=\"last menu 734\"><a href=\"/ru/programma\" class=\" last\" id=\"menu734\" >ТВ Программа</a></li></ul></li><li class=\"nav__dropdown menu 1261\"><ul class=\"nav__dropdown-menu\"><li class=\"first nav__dropdown menu 3078\"><a href=\"#\" class=\" first nav__dropdown\" id=\"menu3078\" >2021 год</a><ul class=\"nav__dropdown-menu \"><li class=\"first menu 3138\"><a href=\"https://jevision.khabar.kz/ru/\" class=\" first\" id=\"menu3138\" >Junior Eurovision 2021</a></li><li class=\"nav__dropdown menu 3072\"><a href=\"/ru/o-proekte-velikaya-pobeda-2020\" class=\" nav__dropdown\" id=\"menu3072\" >Никто не забыт, ничто не забыто!</a><ul class=\"nav__dropdown-menu \"><li class=\"first menu 2046\"><a href=\"/ru/izbrannoe/2021-god/nikto-ne-zabyt-nichto-ne-zabyto/den-pobedy\" class=\" first\" id=\"menu2046\" >День Победы</a></li></ul></li><li class=\"last menu 3052\"><a href=\"https://maska.khabar.kz/kk/\" target=\"_blank\" class=\" last\" id=\"menu3052\" >«Маска»</a></li></ul></li><li class=\"last nav__dropdown menu 2979\"><a href=\"#\" class=\" last nav__dropdown\" id=\"menu2979\" >2020 год</a><ul class=\"nav__dropdown-menu \"><li class=\"first menu 2848\"><a href=\"https://jevision.khabar.kz/ru/\" target=\"_blank\" class=\" first\" id=\"menu2848\" >Junior Eurovision 2020</a></li><li class=\"menu2936\"><a href=\"https://khabar.kz/other/2020/25year/index-ru.html\" target=\"_blank\" id=\"menu2936\" >Агентству «Хабар» - 25 лет</a></li><li class=\"last menu 2835\"><a href=\"/ru/izbrannoe/2020-god/telemarafon-biz-birgemiz\" class=\" last\" id=\"menu2835\" >Телемарафон «Біз біргеміз»</a></li></ul></li></ul></li><li class=\"nav__dropdown menu 333\"><a href=\"/ru/agency\" class=\" nav__dropdown\" id=\"menu333\" >Агентство</a><ul class=\"nav__dropdown-menu\"><li class=\"first menu 439\"><a href=\"/ru/agency/rukovodstvo\" class=\" first\" id=\"menu439\" >Руководство</a></li><li class=\"nav__dropdown menu 438\"><a href=\"#\" class=\" nav__dropdown\" id=\"menu438\" >Об Агентстве</a><ul class=\"nav__dropdown-menu \"><li class=\"first menu 2181\"><a href=\"/ru/agency/o-nas/istoriya-agentstva\" class=\" first\" id=\"menu2181\" >История Агентства</a></li><li class=\"menu2180\"><a href=\"/ru/agency/o-nas/osnovnye-dostizheniya-nagrady\" id=\"menu2180\" >Основные достижения, награды</a></li><li class=\"menu2179\"><a href=\"/ru/agency/o-nas/strategiya-i-missiya\" id=\"menu2179\" >Стратегия и миссия</a></li><li class=\"menu538\"><a href=\"/ru/agency/o-nas/khabar-v-regionakh\" id=\"menu538\" >«Хабар» в регионах</a></li><li class=\"menu539\"><a href=\"/ru/agency/o-nas/khabar-v-mire\" id=\"menu539\" >«Хабар» в мире</a></li><li class=\"menu2813\"><a href=\"/ru/agency/o-nas/kalendar-sobytij\" id=\"menu2813\" >Календарь событий</a></li><li class=\"menu2814\"><a href=\"/ru/agency/o-nas/mezhdunarodnoe-sotrudnichestvo\" id=\"menu2814\" >Международное сотрудничество</a></li><li class=\"last menu 2828\"><a href=\"/ru/agency/o-nas/doklady\" class=\" last\" id=\"menu2828\" >Доклады</a></li></ul></li><li class=\"menu517\"><a href=\"/ru/agency/litsa-kanala\" id=\"menu517\" >Лица канала</a></li><li class=\"menu870\"><a href=\"/ru/agency/hudozhestvennyj-sovet\" id=\"menu870\" >Художественный совет</a></li><li class=\"nav__dropdown menu 1802\"><a href=\"#\" class=\" nav__dropdown\" id=\"menu1802\" >Телеканалы</a><ul class=\"nav__dropdown-menu \"><li class=\"first menu 440\"><a href=\"/ru/agency/telekanaly/khabar\" class=\" first\" id=\"menu440\" >«Хабар»</a></li><li class=\"menu441\"><a href=\"/ru/agency/telekanaly/24kz\" id=\"menu441\" >«24KZ»</a></li><li class=\"last menu 1716\"><a href=\"/ru/agency/telekanaly/el-ar-a\" class=\" last\" id=\"menu1716\" >EL ARNA</a></li></ul></li><li class=\"nav__dropdown menu 1774\"><a href=\"#\" class=\" nav__dropdown\" id=\"menu1774\" >Корпоративное управление</a><ul class=\"nav__dropdown-menu \"><li class=\"first menu 1807\"><a href=\"/ru/agency/korporativnoe-upravlenie/sovet-direktorov\" class=\" first\" id=\"menu1807\" >Совет директоров</a></li><li class=\"menu2022\"><a href=\"/ru/agency/korporativnoe-upravlenie/strategichesloe-planirovanie\" id=\"menu2022\" >Комитет по стратегическому планированию СД</a></li><li class=\"menu1905\"><a href=\"/ru/agency/korporativnoe-upravlenie/komitet-po-auditu-soveta-direktorov\" id=\"menu1905\" >Комитет по аудиту Совета директоров</a></li><li class=\"menu1808\"><a href=\"/ru/agency/korporativnoe-upravlenie/pravlenie\" id=\"menu1808\" >Правление</a></li><li class=\"menu1907\"><a href=\"/ru/agency/korporativnoe-upravlenie/sluzhba-vnutrennego-audita\" id=\"menu1907\" >Служба внутреннего аудита</a></li><li class=\"menu1906\"><a href=\"/ru/agency/korporativnoe-upravlenie/korporativnyj-sekretar\" id=\"menu1906\" >Корпоративный секретарь</a></li><li class=\"menu2463\"><a href=\"/ru/agency/korporativnoe-upravlenie/omb-dsme\" id=\"menu2463\" >Омбудсмен</a></li><li class=\"menu1809\"><a href=\"/ru/agency/korporativnoe-upravlenie/organizatsionnaya-struktura\" id=\"menu1809\" >Организационная структура</a></li><li class=\"menu1811\"><a href=\"/ru/agency/korporativnoe-upravlenie/krupnye-realizovannye-sdelki\" id=\"menu1811\" >Крупные реализованные сделки</a></li><li class=\"menu1810\"><a href=\"/ru/agency/korporativnoe-upravlenie/vnutrennie-akty-obshchestva\" id=\"menu1810\" >Внутренние акты Общества</a></li><li class=\"menu3211\"><a href=\"/ru/agency/korporativnoe-upravlenie/dokumenty-po-sisteme-upravleniya-riskami\" id=\"menu3211\" >Документы по системе управления рисками</a></li><li class=\"last menu 2476\"><a href=\"/ru/agency/korporativnoe-upravlenie/protivodejstvie-korruptsii\" class=\" last\" id=\"menu2476\" >Противодействие коррупции</a></li></ul></li><li class=\"nav__dropdown menu 1804\"><a href=\"#\" class=\" nav__dropdown\" id=\"menu1804\" >Отчеты</a><ul class=\"nav__dropdown-menu \"><li class=\"first menu 1815\"><a href=\"/ru/agency/otchety/otchety-i-doklady-o-prodelannoj-rabote\" class=\" first\" id=\"menu1815\" >Отчеты и доклады о проделанной работе</a></li><li class=\"menu1353\"><a href=\"/ru/agency/otchety/finansovaya-otchetnost\" id=\"menu1353\" >Финансовые отчеты</a></li><li class=\"menu2827\"><a href=\"/ru/agency/otchety/pokazateli-i-rezultaty-deyatelnosti\" id=\"menu2827\" >Показатели и результаты деятельности</a></li><li class=\"last menu 2829\"><a href=\"/ru/agency/otchety/otchety-po-sots-issledovaniyam\" class=\" last\" id=\"menu2829\" >Отчеты по соц. исследованиям</a></li></ul></li><li class=\"menu445\"><a href=\"/ru/agency/gosudarstvennye-zakupki\" id=\"menu445\" >Государственные закупки</a></li><li class=\"menu449\"><a href=\"/ru/agency/dlya-reklamodatelej\" id=\"menu449\" >Для рекламодателей</a></li><li class=\"nav__dropdown menu 1805\"><a href=\"#\" class=\" nav__dropdown\" id=\"menu1805\" >Пресс-Центр</a><ul class=\"nav__dropdown-menu \"><li class=\"first menu 453\"><a href=\"/ru/agency/press-tsentr/pressa-o-nas\" class=\" first\" id=\"menu453\" >Пресса о нас</a></li><li class=\"menu452\"><a href=\"/ru/agency/press-tsentr/partnery\" id=\"menu452\" >Партнеры</a></li><li class=\"last menu 2811\"><a href=\"/ru/agency/press-tsentr/novosti-o-deyatelnosti\" class=\" last\" id=\"menu2811\" >Новости о деятельности</a></li></ul></li><li class=\"menu450\"><a href=\"/ru/agency/programma-dlya-smi\" id=\"menu450\" >Программа для СМИ</a></li><li class=\"menu451\"><a href=\"/ru/agency/vakansii\" id=\"menu451\" >Вакансии</a></li><li class=\"menu840\"><a href=\"/ru/agency/kontakty\" id=\"menu840\" >Контакты</a></li><li class=\"menu2816\"><a href=\"/ru/agency/q-a\" id=\"menu2816\" >Вопрос - ответ</a></li><li class=\"last menu 2821\"><a href=\"/ru/agency/opros\" class=\" last\" id=\"menu2821\" >Опрос</a></li></ul></li><li class=\"nav__dropdown menu 334\"><a href=\"#\" class=\" nav__dropdown\" id=\"menu334\" >Архив</a><ul class=\"nav__dropdown-menu\"><li class=\"first menu 454\"><a href=\"/ru/novosti-ru\" class=\" first\" id=\"menu454\" >Новости</a></li><li class=\"menu455\"><a href=\"/ru/arkhiv/spetsproekty\" id=\"menu455\" >Спецпроекты</a></li><li class=\"menu456\"><a href=\"/ru/arkhiv/programmy\" id=\"menu456\" >Программы</a></li><li class=\"menu457\"><a href=\"/ru/arkhiv/serialy\" id=\"menu457\" >Сериалы</a></li><li class=\"menu596\"><a href=\"/ru/arkhiv/dokumentalnye-filmy\" id=\"menu596\" >Документальные фильмы</a></li><li class=\"menu1223\"><a href=\"/ru/arkhiv/hudozhestvennye-filmy\" id=\"menu1223\" >Художественные фильмы</a></li><li class=\"last menu 818\"><a href=\"/ru/arkhiv/kontserty\" class=\" last\" id=\"menu818\" >Концерты</a></li></ul></li><li class=\"menu3198\"></li><li class=\"last menu 2389\"><a href=\"http://sales.khabar.kz/ru/\" target=\"_blank\" class=\" last\" id=\"menu2389\" >Дистрибуция</a></li></ul>      </nav> <!-- end nav-wrap -->\\r\\n\\r\\n      <!-- Nav Right -->\\r\\n      <div class=\"nav__right\">\\r\\n\\t\\t\\t<ul class=\"nav__menu\" id=\"live\"><li class=\"menu-item\"><a href=\"https://khabar.kz/ru/programma/live\">Live</a></li>\\r\\n</ul>\\r\\n<ul class=\"nav__menu\" id=\"lang-switch\">\\r\\n\\r\\n\\r\\n\\r\\n\\r\\n\\r\\n\\r\\n\\r\\n\\r\\n\\r\\n\\r\\n\\t\\t\\t\\t\\t\\t\\t\\t\\t\\t      \\r\\n\\t\\t\\t\\t\\t\\r\\n\\t\\t\\t\\t\\t\\t\\t\\t\\t<li class=\"menu-item\"><a href=\"/kk/\">\\r\\n\\t\\t\\t\\tҚаз\\t\\t\\t\\t</a></li>\\r\\n\\t\\t\\t\\t\\t\\t\\t\\t\\t\\t\\r\\n\\r\\n</ul>\\r\\n\\r\\n       <!-- Search -->\\r\\n       <div class=\"nav__right-item nav__search\">\\r\\n        <a href=\"#\" class=\"nav__search-trigger\" id=\"nav__search-trigger\">\\r\\n         <i class=\"ui-search nav__search-trigger-icon\"></i>\\r\\n        </a>\\r\\n        <div class=\"nav__search-box\" id=\"nav__search-box\">\\r\\n         <form class=\"nav__search-form\" action=\"/ru/news/obshchestvo\" method=\"post\">\\r\\n\\t<div class=\"search\">\\r\\n\\t\\t <button type=\"submit\" class=\"search-button btn btn-lg btn-color btn-button\"><i class=\"ui-search nav__search-icon\"></i></button><input name=\"searchword\" id=\"mod-search-searchword\" maxlength=\"200\" class=\"nav__search-input inputbox\" type=\"text\" size=\"0\" value=\"Поиск\" onblur=\"if (this.value==\\'\\') this.value=\\'Поиск\\';\" onfocus=\"if (this.value==\\'Поиск\\') this.value=\\'\\';\" />\\t<input type=\"hidden\" name=\"task\" value=\"search\" />\\r\\n\\t<input type=\"hidden\" name=\"option\" value=\"com_search\" />\\r\\n\\t<input type=\"hidden\" name=\"Itemid\" value=\"3330\" />\\r\\n\\t</div>\\r\\n</form>\\r\\n\\r\\n        </div>        \\r\\n       </div>       \\r\\n\\r\\n      </div> <!-- end nav right -->      \\r\\n    \\r\\n     </div> <!-- end flex-parent -->\\r\\n    </div> <!-- end container -->\\r\\n\\r\\n   </div>\\r\\n  </header> <!-- end navigation -->\\r\\n\\t<script>\\r\\n  const openPosition = 200;\\r\\n  const delay = 0;\\r\\n  const mountPoint = \\'div.nav__holder\\';\\r\\n\\r\\n  const autoUpdate = false;\\r\\n  const autoUpdateInterval = 3;\\r\\n\\r\\n  const mobile = true;\\r\\n  const desktop = true;\\r\\n\\r\\n  const bannerCode = {\\r\\n    id: \\'adfox_168534877452186608\\',\\r\\n    class: \\'container\\',\\r\\n    getFunction: ()=>{\\r\\n    window.yaContextCb.push(()=>{\\r\\n    Ya.adfoxCode.createAdaptive({\\r\\n      ownerId: 264109,\\r\\n      containerId: \\'adfox_168534877452186608\\',\\r\\n      params: {\\r\\n        p1: \\'cxyeh\\',\\r\\n        p2: \\'ihwj\\'\\r\\n      }\\r\\n    }, [\\'desktop\\', \\'tablet\\'], {\\r\\n      tabletWidth: 830,\\r\\n      phoneWidth: 480,\\r\\n      isAutoReloads: false\\r\\n    })\\r\\n  })\\r\\n    },\\r\\n  }\\r\\n\\r\\n  const RAWstyle = `div#tdsAdContainer{min-height:80px;border-top:1px solid #ddd;background:#fff;border-bottom:5px solid #fff;box-shadow:0 2px 4px #ddd;padding-top:2px;padding-bottom:2px;position:relative;z-index:-1;transition:all .3s linear 0s;transform:translateY(-100%);width:100%;display:flex;justify-content:center}button#tdsAdCloseBtn{height:30px;display:flex;align-items:center;justify-content:center;width:50px;border:0;position:absolute;bottom:-32px;left:0;background-color:#fff;border-right:2px solid #fff;border-bottom:2px solid #fff;border-bottom-right-radius:5px;border-bottom-left-radius:5px;box-shadow:2px 2px 2px #ddd}button#tdsAdCloseBtn::before{content:\"\";position:absolute;display:inline-block;top:-2px;left:0;border-bottom:5px solid #fff;pointer-events:none;box-shadow:0-2px 2px #ddd}i.tdsAdCloseArrow{border:solid #818080;border-width:0 3px 3px 0;display:inline-block;padding:6px;pointer-events:none}button#tdsAdCloseBtn[data-position=opened] .tdsAdCloseArrow{transform:translateY(3px) rotate(-135deg);-webkit-transform:translateY(3px) rotate(-135deg)}button#tdsAdCloseBtn[data-position=closed] .tdsAdCloseArrow{transform:translateY(-5px) rotate(45deg);-webkit-transform:translateY(-5px) rotate(45deg)}#tdsAdContainer[data-visibility=hidden]{opacity:0}#tdsAdContainer[data-visibility=visible]{opacity:1}.hidden{opacity:0}`\\r\\n\\r\\n  const tdsContainer = document.createElement(\\'div\\');\\r\\n  const closeButton = document.createElement(\\'button\\');\\r\\n  const innerDiv = document.createElement(\\'div\\');\\r\\n\\r\\n  function init(){\\r\\n    innerDiv.style.transition = \\'0.1s opacity ease\\';\\r\\n\\r\\n    tdsContainer.setAttribute(\\'id\\', \\'tdsAdContainer\\');\\r\\n    tdsContainer.setAttribute(\\'class\\', \\'containerb\\');\\r\\n    tdsContainer.setAttribute(\\'data-visibility\\', \\'hidden\\');\\r\\n    const buttonIco = document.createElement(\\'i\\');\\r\\n    buttonIco.setAttribute(\\'class\\', \\'tdsAdCloseArrow\\');\\r\\n    closeButton.setAttribute(\\'id\\', \\'tdsAdCloseBtn\\');\\r\\n    closeButton.setAttribute(\\'data-position\\', \\'closed\\');\\r\\n    closeButton.setAttribute(\\'data-closed\\', \\'false\\');\\r\\n    closeButton.appendChild(buttonIco)\\r\\n    tdsContainer.appendChild(innerDiv);\\r\\n    tdsContainer.appendChild(closeButton);\\r\\n\\r\\n    const containerStyle = document.createElement(\\'style\\');\\r\\n    containerStyle.innerHTML = RAWstyle;\\r\\n    const mount = document.querySelector(mountPoint);\\r\\n    mount.appendChild(tdsContainer);\\r\\n    mount.appendChild(containerStyle);\\r\\n\\r\\n    const banner = document.createElement(\\'div\\');\\r\\n    banner.setAttribute(\\'id\\', bannerCode.id);\\r\\n    banner.setAttribute(\\'class\\', bannerCode.class);\\r\\n    innerDiv.appendChild(banner);\\r\\n    bannerCode.getFunction()\\r\\n    if (autoUpdate){\\r\\n      setInterval(()=>{\\r\\n        document.getElementById(bannerCode.id).innerHTML = \\'\\';\\r\\n        bannerCode.getFunction()\\r\\n        closeButton.dataset.closed = \\'false\\';\\r\\n        showAdUnit();\\r\\n      }, autoUpdateInterval*1000)\\r\\n\\r\\n    }\\r\\n\\r\\n\\r\\n    function delayed_start(){\\r\\n      setTimeout(()=>{\\r\\n        window.addEventListener(\"scroll\", fromTop)\\r\\n        fromTop()\\r\\n      }, delay*1000)\\r\\n    }\\r\\n\\r\\n    if (mobile && desktop){\\r\\n      delayed_start()\\r\\n    }else if(mobile && !desktop){\\r\\n      if(window.innerWidth < 700){\\r\\n        delayed_start()\\r\\n      }\\r\\n    }else if(!mobile && desktop){\\r\\n      if(window.innerWidth > 700){\\r\\n        delayed_start()\\r\\n      }\\r\\n    }\\r\\n\\r\\n  }\\r\\n\\r\\n  function hideAdUnit() {\\r\\n    tdsContainer.style.transform = \"translateY(-100%)\";\\r\\n    closeButton.dataset.position = \"closed\";\\r\\n    innerDiv.classList.add(\\'hidden\\')\\r\\n  }\\r\\n\\r\\n  function showAdUnit() {\\r\\n    tdsContainer.style.transform = \"translateY(0%)\";\\r\\n    closeButton.dataset.position = \"opened\";\\r\\n    setTimeout(()=>{\\r\\n      innerDiv.classList.remove(\\'hidden\\')\\r\\n    },200)\\r\\n  }\\r\\n\\r\\n  function toggleAdUnit() {\\r\\n    if (closeButton.dataset.position === \"opened\") {\\r\\n      closeButton.dataset.closed = \\'true\\'\\r\\n      hideAdUnit()\\r\\n    } else if(closeButton.dataset.position === \"closed\"){\\r\\n      closeButton.dataset.closed = \\'false\\'\\r\\n      showAdUnit()\\r\\n    }\\r\\n  }\\r\\n\\r\\n  let t = window.scrollY || window.pageYOffset;\\r\\n  function fromTop() {\\r\\n    let currentScrollTop = window.scrollY || window.pageYOffset;\\r\\n    if (currentScrollTop >= openPosition && tdsContainer.dataset.visibility === \\'hidden\\') {\\r\\n      tdsContainer.dataset.visibility = \"visible\"\\r\\n      if(closeButton.dataset.closed === \\'false\\'){showAdUnit();}\\r\\n      window.removeEventListener(\"scroll\", fromTop)\\r\\n      window.addEventListener(\"scroll\", advController)\\r\\n    }\\r\\n  }\\r\\n\\r\\n  function advController(){\\r\\n    let currentScrollTop = window.scrollY || window.pageYOffset;\\r\\n    if(currentScrollTop < openPosition && tdsContainer.dataset.visibility === \\'visible\\'){\\r\\n      hideAdUnit();\\r\\n      tdsContainer.dataset.visibility = \"hidden\"\\r\\n      window.addEventListener(\"scroll\", fromTop)\\r\\n    }\\r\\n\\r\\n    if (closeButton.dataset.closed === \"false\") {\\r\\n      if (currentScrollTop - 100 > t) {\\r\\n        t = currentScrollTop;\\r\\n        showAdUnit();\\r\\n\\r\\n      } else if (currentScrollTop + 200 < t) {\\r\\n        t = currentScrollTop;\\r\\n        hideAdUnit()\\r\\n      }\\r\\n    }\\r\\n  }\\r\\n\\r\\n  closeButton.addEventListener(\"click\", (event) => {\\r\\n    if (event.target.id === \"tdsAdCloseBtn\")\\r\\n      toggleAdUnit();\\r\\n  });\\r\\n\\r\\n  window.addEventListener(\\'load\\', init)\\r\\n</script>\\r\\n<div class=\"container\">\\r\\n<ul itemscope itemtype=\"https://schema.org/BreadcrumbList\" class=\"breadcrumbs\"><li class=\"breadcrumbs__item \"><a href=\"/ru/\" class=\"breadcrumbs__url\"><span>Главная</span></a></li><li itemprop=\"itemListElement\" itemscope itemtype=\"https://schema.org/ListItem\" class=\"breadcrumbs__item \"><a itemprop=\"item\" href=\"/ru/news/itemlist\" class=\"breadcrumbs__url\"><span itemprop=\"name\">Новости</span></a><meta itemprop=\"position\" content=\"1\"></li><li itemprop=\"itemListElement\" itemscope itemtype=\"https://schema.org/ListItem\" class=\"breadcrumbs__item \"><a itemprop=\"item\" href=\"/ru/news/obshchestvo\" class=\"breadcrumbs__url\"><span itemprop=\"name\">Общество</span></a><meta itemprop=\"position\" content=\"2\"></li><li itemprop=\"itemListElement\" itemscope itemtype=\"https://schema.org/ListItem\" class=\"breadcrumbs__item breadcrumbs__item--current\"><span itemprop=\"name\">Какой ущерб нанесли участники митингов?</span><meta itemprop=\"position\" content=\"3\"></li></ul></div>\\r\\n  <div class=\"main-container container\" id=\"main-container\">   \\r\\n  \\r\\n   <!-- Content -->\\r\\n   <div class=\"row\">\\r\\n\\r\\n    <!-- Posts -->\\r\\n    <div id=\"contentsWrapper\" class=\"col-lg-8 blog__content mb-72\"> \\r\\n\\t\\t\\t\\t\\t\\t\\r\\n\\t\\t <!-- news-22032020ru item-->\\n     <div class=\"content-box mb-24\">      \\n\\n      <!-- standard post -->\\n      <article class=\"entry mb-0\">\\n       \\n       <div class=\"single-post__entry-header entry__header\">\\n        <h1 class=\"single-post__entry-title\">\\n         Какой ущерб нанесли участники митингов?        </h1>\\n\\n        <div class=\"entry__meta-holder\">\\n         <ul class=\"entry__meta\">\\n          <li class=\"entry__meta-date\">\\n\\t\\t\\t\\t\\t<i class=\"ui-clock\"></i>\\n           05.01.2022, 14:02          </li>\\n         </ul>\\n\\n         <ul class=\"entry__meta\">\\n          <li class=\"entry__meta-views\">\\n           <i class=\"ui-eye\"></i>\\n           <span>1212</span>\\n          </li>\\n         </ul>\\n        </div>\\n       </div> <!-- end entry header -->\\n\\n<!-- Entry Video -->\\n    <div class=\"entry__img-holder\">\\n     <div class=\"embed-responsive embed-responsive-16by9\">\\n      <iframe src=\"https://www.youtube.com/embed/kwVk__NbSAU?rel=0&amp;fs=1&amp;wmode=transparent\" class=\"video-playlist__content-video\" width=\"716\" height=\"400\" allow=\"autoplay; encrypted-media\" allowfullscreen=\"true\" frameborder=\"0\" scrolling=\"no\" title=\"www.khabar.kz\"></iframe>     </div>\\n    </div>\\n\\n<div class=\"entry__article-wrap\">\\n\\n        <div class=\"entry__article\">\\n         <p>\\r\\n<p>В министерстве внутренних дел сообщают, что несмотря на предупреждения чиновников, прокуроров, некоторые казахстанцы поддались на провокации и стали совершать противоправные действия. Люди перекрывали дороги, блокировали движение транспорта, нарушая общественный порядок и покой рядовых граждан. Совершены нападения на полицейских, которые несли службу для обеспечения безопасности. Пострадали 95 сотрудников органов внутренних дел, повреждено 37 служебных автомашин. В городах Алматы, Шымкенте и Таразе предпринимались попытки нападения на акиматы, в зданиях были выбиты стекла и двери. Демонстранты применяли камни, палки, перцовые баллоны и бутылки с зажигательной смесью. За нарушения общественного порядка задержаны более 200 человек.\\xa0</p></p>\\n\\n         <!-- tags -->\\n         <div class=\"entry__tags\">\\n          <i class=\"ui-tags\"></i>\\n          <span class=\"entry__tags-label\">Тегтер:</span>\\n\\t\\t\\t\\t\\t          <a href=\"/ru/show/itemlist/tag/Ущерб\" rel=\"tag\"># Ущерб</a>\\n\\t\\t\\t\\t\\t          <a href=\"/ru/show/itemlist/tag/митинг%20в%20Казахстане\" rel=\"tag\"># митинг в Казахстане</a>\\n\\t\\t\\t\\t\\t          <a href=\"/ru/show/itemlist/tag/Министерство%20внутренних%20дел\" rel=\"tag\"># Министерство внутренних дел</a>\\n\\t\\t\\t\\t\\t          <a href=\"/ru/show/itemlist/tag/нападение\" rel=\"tag\"># нападение</a>\\n\\t\\t\\t\\t\\t          <a href=\"/ru/show/itemlist/tag/нарушение\" rel=\"tag\"># нарушение</a>\\n\\t\\t\\t\\t\\t          <a href=\"/ru/show/itemlist/tag/токаев\" rel=\"tag\"># токаев</a>\\n\\t\\t\\t\\t\\t          <a href=\"/ru/show/itemlist/tag/новости%20Казахстана\" rel=\"tag\"># новости Казахстана</a>\\n\\t\\t\\t\\t\\t         </div> <!-- end tags -->\\n\\t \\n<script src=\"//yastatic.net/es5-shims/0.0.2/es5-shims.min.js\"></script>\\n\\t\\t\\t\\t\\t\\t<script src=\"//yastatic.net/share2/share.js\"></script>\\n\\t\\t\\t\\t\\t\\t<div class=\"ya-share2 pt-16\" data-services=\"vkontakte,facebook,odnoklassniki,moimir,gplus,twitter,whatsapp,telegram\"></div>\\n        </div> <!-- end entry article -->\\n       </div> <!-- end entry article wrap -->\\n\\n\\n<div class=\"newsletter-wide\" style=\"\\n  background: #0088CC;\\n\">\\n        <div class=\"widget widget_mc4wp_form_widget\">\\n         <div class=\"newsletter-wide__container\">\\n          <div class=\"newsletter-wide__text-holder\">\\n           <p class=\"newsletter-wide__text\">\\n\\t\\t\\t\\t\\t <svg xmlns=\"http://www.w3.org/2000/svg\" height=\"1em\" viewBox=\"0 0 496 512\"><path d=\"M248,8C111.033,8,0,119.033,0,256S111.033,504,248,504,496,392.967,496,256,384.967,8,248,8ZM362.952,176.66c-3.732,39.215-19.881,134.378-28.1,178.3-3.476,18.584-10.322,24.816-16.948,25.425-14.4,1.326-25.338-9.517-39.287-18.661-21.827-14.308-34.158-23.215-55.346-37.177-24.485-16.135-8.612-25,5.342-39.5,3.652-3.793,67.107-61.51,68.335-66.746.153-.655.3-3.1-1.154-4.384s-3.59-.849-5.135-.5q-3.283.746-104.608,69.142-14.845,10.194-26.894,9.934c-8.855-.191-25.888-5.006-38.551-9.123-15.531-5.048-27.875-7.717-26.8-16.291q.84-6.7,18.45-13.7,108.446-47.248,144.628-62.3c68.872-28.647,83.183-33.623,92.511-33.789,2.052-.034,6.639.474,9.61,2.885a10.452,10.452,0,0,1,3.53,6.716A43.765,43.765,0,0,1,362.952,176.66Z\"></path></svg>\\n\\t\\t\\t\\t\\t\\t\\n            <a href=\"https://t.me/khabarnews2023/\" style=\"\\n color: #fff;\\n text-transform: uppercase;\\n\">Читайте последние новости на нашем Telegram-канале!</a></p>\\n          </div>\\n           \\n         </div>     \\n        </div>\\n       </div>\\n\\n\\n\\t\\t\\t \\n      \\n\\n      </article> <!-- end standard post -->\\n\\n\\n     </div> <!-- end content box -->\\n<a href=\"/ru/news/politika/item/150902-kakie-zamechaniya-vyskazal-glava-gosudarstva-v-adres-pravookhranitelej\" id=\"next\"></a>\\n\\n<!-- JoomlaWorks \"K2\" (v2.10.3) | Learn more about K2 at https://getk2.org -->\\n\\n\\r\\n\\t\\t \\r\\n    </div> <!-- end posts -->\\r\\n    <!-- Sidebar -->\\r\\n    <aside class=\"col-lg-4 sidebar sidebar--right\">\\r\\n\\t\\t<div class=\"sticky-col\">\\r\\n\\r\\n<!-- Widget Popular Posts -->\\n     <aside class=\"widget widget-popular-posts\">\\n      <h4 class=\"widget-title\">Последние новости</h4>\\n      <ul class=\"post-list-small\">\\n\\t\\t\\t       <li class=\"post-list-small__item\">\\n        <article class=\"post-list-small__entry clearfix\">\\n         <div class=\"post-list-small__img-holder\">\\n          <div class=\"thumb-container thumb-60\">\\n           <a href=\"/ru/news/politika/item/158077-prezident-napravil-pozdravitelnuyu-telegrammu-korolyu-saudovskoj-aravii\">\\n            <img data-src=\"//khabar.kz/media/k2/items/cache/4c21156c4a2db607ce45a3c1c6bf1d08_M.jpg\" src=\"//khabar.kz/img/empty.png\" alt=\"Президент направил поздравительную телеграмму Королю Саудовской Аравии\" class=\"post-list-small__img--rounded lazyload\">\\n           </a>\\n          </div>\\n         </div>\\n         <div class=\"post-list-small__body\">\\n          <h3 class=\"post-list-small__entry-title\">\\n           <a href=\"/ru/news/politika/item/158077-prezident-napravil-pozdravitelnuyu-telegrammu-korolyu-saudovskoj-aravii\">Президент направил поздравительную телеграмму Королю Саудовской Аравии</a>\\n          </h3>\\n\\t\\t\\t\\t\\t\\n\\t\\t\\t\\t\\t\\n\\t\\t\\t\\t\\t<ul class=\"entry__meta\">\\n<li class=\"entry__meta-date\">\\n<i class=\"ui-clock\"></i>\\n22.02.2024, 11:30</li>\\n<li class=\"entry__meta-author\">\\n<i class=\"ui-eye\"></i>\\n14</li>\\n\\n</ul>\\n\\t\\t\\t\\t\\t\\n         </div>         \\n        </article>\\n       </li>\\n\\t\\t\\t        <li class=\"post-list-small__item\">\\n        <article class=\"post-list-small__entry clearfix\">\\n         <div class=\"post-list-small__img-holder\">\\n          <div class=\"thumb-container thumb-60\">\\n           <a href=\"/ru/news/politika/item/158076-glava-gosudarstva-posetil-tseremoniyu-otkrytiya-igr-budushchego\">\\n            <img data-src=\"//khabar.kz/media/k2/items/cache/1997d0a571e5738b8f0c00dcc23d71af_M.jpg\" src=\"//khabar.kz/img/empty.png\" alt=\"Глава государства посетил церемонию открытия «Игр будущего»\" class=\"post-list-small__img--rounded lazyload\">\\n           </a>\\n          </div>\\n         </div>\\n         <div class=\"post-list-small__body\">\\n          <h3 class=\"post-list-small__entry-title\">\\n           <a href=\"/ru/news/politika/item/158076-glava-gosudarstva-posetil-tseremoniyu-otkrytiya-igr-budushchego\">Глава государства посетил церемонию открытия «Игр будущего»</a>\\n          </h3>\\n\\t\\t\\t\\t\\t\\n\\t\\t\\t\\t\\t\\n\\t\\t\\t\\t\\t<ul class=\"entry__meta\">\\n<li class=\"entry__meta-date\">\\n<i class=\"ui-clock\"></i>\\n22.02.2024, 01:00</li>\\n<li class=\"entry__meta-author\">\\n<i class=\"ui-eye\"></i>\\n15</li>\\n\\n</ul>\\n\\t\\t\\t\\t\\t\\n         </div>         \\n        </article>\\n       </li>\\n\\t\\t\\t        <li class=\"post-list-small__item\">\\n        <article class=\"post-list-small__entry clearfix\">\\n         <div class=\"post-list-small__img-holder\">\\n          <div class=\"thumb-container thumb-60\">\\n           <a href=\"/ru/news/politika/item/158075-kasym-zhomart-tokaev-provel-vstrechu-s-vladimirom-putinym\">\\n            <img data-src=\"//khabar.kz/media/k2/items/cache/a38116dd5360c30becc9b865b6a7085a_M.jpg\" src=\"//khabar.kz/img/empty.png\" alt=\"Касым-Жомарт Токаев провел встречу с Владимиром Путиным\" class=\"post-list-small__img--rounded lazyload\">\\n           </a>\\n          </div>\\n         </div>\\n         <div class=\"post-list-small__body\">\\n          <h3 class=\"post-list-small__entry-title\">\\n           <a href=\"/ru/news/politika/item/158075-kasym-zhomart-tokaev-provel-vstrechu-s-vladimirom-putinym\">Касым-Жомарт Токаев провел встречу с Владимиром Путиным</a>\\n          </h3>\\n\\t\\t\\t\\t\\t\\n\\t\\t\\t\\t\\t\\n\\t\\t\\t\\t\\t<ul class=\"entry__meta\">\\n<li class=\"entry__meta-date\">\\n<i class=\"ui-clock\"></i>\\n21.02.2024, 22:00</li>\\n<li class=\"entry__meta-author\">\\n<i class=\"ui-eye\"></i>\\n15</li>\\n\\n</ul>\\n\\t\\t\\t\\t\\t\\n         </div>         \\n        </article>\\n       </li>\\n\\t\\t\\t        <li class=\"post-list-small__item\">\\n        <article class=\"post-list-small__entry clearfix\">\\n         <div class=\"post-list-small__img-holder\">\\n          <div class=\"thumb-container thumb-60\">\\n           <a href=\"/ru/news/politika/item/158074-prezident-kazakhstana-prinyal-generalnogo-direktora-pao-tatneft\">\\n            <img data-src=\"//khabar.kz/media/k2/items/cache/09af6fe8a93ed4491b218b87e023db0e_M.jpg\" src=\"//khabar.kz/img/empty.png\" alt=\"Президент Казахстана принял генерального директора ПАО «Татнефть»\" class=\"post-list-small__img--rounded lazyload\">\\n           </a>\\n          </div>\\n         </div>\\n         <div class=\"post-list-small__body\">\\n          <h3 class=\"post-list-small__entry-title\">\\n           <a href=\"/ru/news/politika/item/158074-prezident-kazakhstana-prinyal-generalnogo-direktora-pao-tatneft\">Президент Казахстана принял генерального директора ПАО «Татнефть»</a>\\n          </h3>\\n\\t\\t\\t\\t\\t\\n\\t\\t\\t\\t\\t\\n\\t\\t\\t\\t\\t<ul class=\"entry__meta\">\\n<li class=\"entry__meta-date\">\\n<i class=\"ui-clock\"></i>\\n21.02.2024, 19:30</li>\\n<li class=\"entry__meta-author\">\\n<i class=\"ui-eye\"></i>\\n13</li>\\n\\n</ul>\\n\\t\\t\\t\\t\\t\\n         </div>         \\n        </article>\\n       </li>\\n\\t\\t\\t        <li class=\"post-list-small__item\">\\n        <article class=\"post-list-small__entry clearfix\">\\n         <div class=\"post-list-small__img-holder\">\\n          <div class=\"thumb-container thumb-60\">\\n           <a href=\"/ru/news/politika/item/158051-prezident-kazakhstana-priletel-s-rabochim-vizitom-v-kazan\">\\n            <img data-src=\"//khabar.kz/media/k2/items/cache/750949d20c69603e2ced00fcbc38dfd8_M.jpg\" src=\"//khabar.kz/img/empty.png\" alt=\"Президент Казахстана прилетел с рабочим визитом в Казань\" class=\"post-list-small__img--rounded lazyload\">\\n           </a>\\n          </div>\\n         </div>\\n         <div class=\"post-list-small__body\">\\n          <h3 class=\"post-list-small__entry-title\">\\n           <a href=\"/ru/news/politika/item/158051-prezident-kazakhstana-priletel-s-rabochim-vizitom-v-kazan\">Президент Казахстана прилетел с рабочим визитом в Казань</a>\\n          </h3>\\n\\t\\t\\t\\t\\t\\n\\t\\t\\t\\t\\t\\n\\t\\t\\t\\t\\t<ul class=\"entry__meta\">\\n<li class=\"entry__meta-date\">\\n<i class=\"ui-clock\"></i>\\n21.02.2024, 18:29</li>\\n<li class=\"entry__meta-author\">\\n<i class=\"ui-eye\"></i>\\n122</li>\\n\\n</ul>\\n\\t\\t\\t\\t\\t\\n         </div>         \\n        </article>\\n       </li>\\n\\t\\t\\t       </ul>      \\n     </aside> <!-- end widget popular posts -->\\n\\t\\t \\n<!-- Widget Socials -->\\r\\n     <aside class=\"widget widget-socials\">\\r\\n      <h4 class=\"widget-title\">Подписывайтесь на нас в соцсетях!</h4>\\r\\n      <div class=\"socials socials--wide socials--large\">\\r\\n       <div class=\"row row-16\">\\r\\n        <div class=\"col\">\\r\\n<a class=\"\" href=\"https://www.youtube.com/c/KhabarSHOWTV\" title=\"youtube\" target=\"_blank\" aria-label=\"youtube\"><img data-src=\"//khabar.kz/2022/img/1.gif\" src=\"//khabar.kz/images/empty.png\" alt=\"KhabarSHOWTV\" class=\" lazyload\"><span class=\"social__text\">Youtube</span>\\r\\n</a>\\r\\n</div>  <div class=\"col\">\\r\\n<a class=\"\" href=\"https://www.facebook.com/habartv.telearnasy\" title=\"facebook\" target=\"_blank\" aria-label=\"facebook\"><img data-src=\"//khabar.kz/2022/img/2.gif\" src=\"//khabar.kz/images/empty.png\" alt=\"habartv.telearnasy\" class=\" lazyload\"></i><span class=\"social__text\">Facebook</span>\\r\\n</a>\\r\\n</div>  <div class=\"col\">\\r\\n<a class=\"\" href=\"https://www.instagram.com/khabartv/\" title=\"instagram\" target=\"_blank\" aria-label=\"instagram\"><img data-src=\"//khabar.kz/2022/img/3.gif\" src=\"//khabar.kz/images/empty.png\" alt=\"khabartv\" class=\" lazyload\">\\r\\n<span class=\"social__text\">Instagram</span>\\r\\n</a>\\r\\n        </div>        \\r\\n       </div>      \\r\\n      </div>\\r\\n     </aside> <!-- end widget socials -->\\r\\n\\r\\n\\r\\n</div>\\r\\n    </aside> <!-- end sidebar -->\\r\\n    </div> <!-- end content -->\\r\\n\\r\\n  </div> <!-- end main container -->\\r\\n\\t   <section class=\"section mb-8\">\\r\\n\\t <!--Тип баннера: [khabar.kz] [Desktop] Bottom-->\\r\\n<div id=\"adfox_168536012270816297\" style=\"max-height: 180px;\"></div>\\r\\n<script>\\r\\n  window.yaContextCb.push(()=>{\\r\\n    Ya.adfoxCode.createAdaptive({\\r\\n      ownerId: 264109,\\r\\n      containerId: \\'adfox_168536012270816297\\',\\r\\n      params: {\\r\\n        p1: \\'cxyed\\',\\r\\n        p2: \\'ihwf\\'\\r\\n      }\\r\\n    }, [\\'desktop\\', \\'tablet\\'], {\\r\\n      tabletWidth: 830,\\r\\n      phoneWidth: 480,\\r\\n      isAutoReloads: false\\r\\n    })\\r\\n  })\\r\\n</script>\\r\\n   </section>\\r\\n  <!-- Footer -->\\r\\n  <footer class=\"footer footer--dark\">\\r\\n   <div class=\"container\">\\r\\n    <div class=\"footer__widgets\">\\r\\n<div class=\"row pb-8\">\\r\\n<div class=\"col-lg-3 col-md-4\">\\r\\n\\t\\t\\t\\t<a href=\"https://khabar.kz/ru\">\\r\\n         <img src=\"//khabar.kz/2022/templates/gk_news/img/khabar.png\" srcset=\"//khabar.kz/2022/templates/gk_news/img/khabar.png 1x,//khabar.kz/2022/templates/gk_news/img/khabar@2x.png 2x\" class=\"logo__img\" alt=\"Хабар\">\\r\\n        </a>\\r\\n      </div>\\r\\n<div class=\"col-lg-6 col-md-5\">\\r\\n\\r\\n</div>\\r\\n<div class=\"col-lg-3 col-md-3\">\\r\\n<div class=\"socials socials--large socials--nobase justify-content-md-end\">\\r\\n<a class=\"social social-telegram\" href=\"https://t.me/khabarnews2023/\" target=\"_blank\" aria-label=\"tiktok\"><svg xmlns=\"http://www.w3.org/2000/svg\" height=\"1.1em\" viewBox=\"0 0 496 512\"><!--! Font Awesome Free 6.4.2 by @fontawesome - https://fontawesome.com License - https://fontawesome.com/license (Commercial License) Copyright 2023 Fonticons, Inc. --><style>svg{fill:#ffffff}</style><path d=\"M248,8C111.033,8,0,119.033,0,256S111.033,504,248,504,496,392.967,496,256,384.967,8,248,8ZM362.952,176.66c-3.732,39.215-19.881,134.378-28.1,178.3-3.476,18.584-10.322,24.816-16.948,25.425-14.4,1.326-25.338-9.517-39.287-18.661-21.827-14.308-34.158-23.215-55.346-37.177-24.485-16.135-8.612-25,5.342-39.5,3.652-3.793,67.107-61.51,68.335-66.746.153-.655.3-3.1-1.154-4.384s-3.59-.849-5.135-.5q-3.283.746-104.608,69.142-14.845,10.194-26.894,9.934c-8.855-.191-25.888-5.006-38.551-9.123-15.531-5.048-27.875-7.717-26.8-16.291q.84-6.7,18.45-13.7,108.446-47.248,144.628-62.3c68.872-28.647,83.183-33.623,92.511-33.789,2.052-.034,6.639.474,9.61,2.885a10.452,10.452,0,0,1,3.53,6.716A43.765,43.765,0,0,1,362.952,176.66Z\"/></svg></a>\\r\\n<a class=\"social social-instagram\" href=\"https://www.instagram.com/khabartv/\" target=\"_blank\" aria-label=\"instagram\"><i class=\"ui-instagram\"></i></a>\\r\\n<a class=\"social social-facebook\" href=\"https://www.facebook.com/habartv.telearnasy\" target=\"_blank\" aria-label=\"facebook\"><i class=\"ui-facebook\"></i></a>\\r\\n<a class=\"social social-telegram\" href=\"https://www.tiktok.com/@khabartv\" target=\"_blank\" aria-label=\"tiktok\"><svg xmlns=\"http://www.w3.org/2000/svg\" height=\"0.875em\" viewBox=\"0 0 448 512\"><!--! Font Awesome Free 6.4.2 by @fontawesome - https://fontawesome.com License - https://fontawesome.com/license (Commercial License) Copyright 2023 Fonticons, Inc. --><style>svg{fill:#ffffff}</style><path d=\"M448,209.91a210.06,210.06,0,0,1-122.77-39.25V349.38A162.55,162.55,0,1,1,185,188.31V278.2a74.62,74.62,0,1,0,52.23,71.18V0l88,0a121.18,121.18,0,0,0,1.86,22.17h0A122.18,122.18,0,0,0,381,102.39a121.43,121.43,0,0,0,67,20.14Z\"/></svg></a>\\r\\n<a class=\"social social-twitter\" href=\"https://twitter.com/KhabarTV\" target=\"_blank\" aria-label=\"twitter\"><svg xmlns=\"http://www.w3.org/2000/svg\" height=\"0.875em\" viewBox=\"0 0 512 512\"><!--! Font Awesome Free 6.4.2 by @fontawesome - https://fontawesome.com License - https://fontawesome.com/license (Commercial License) Copyright 2023 Fonticons, Inc. --><style>svg{fill:#ffffff}</style><path d=\"M389.2 48h70.6L305.6 224.2 487 464H345L233.7 318.6 106.5 464H35.8L200.7 275.5 26.8 48H172.4L272.9 180.9 389.2 48zM364.4 421.8h39.1L151.1 88h-42L364.4 421.8z\"/></svg></a>\\r\\n<a class=\"social social-youtube\" href=\"https://www.youtube.com/c/KhabarSHOWTV\" target=\"_blank\" aria-label=\"youtube\"><i class=\"ui-youtube\"></i></a>\\r\\n</div>\\r\\n</div>\\r\\n</div>\\r\\n     <div class=\"row\">\\r\\n\\r\\n      <div class=\"col-lg-5 col-md-6\">\\r\\n\\t\\t\\t\\t <aside class=\"widget widget_nav_menu\">\\r\\n        <ul>\\r\\n         <li><a href=\"https://khabar.kz/ru/agency/hudozhestvennyj-sovet\">Художественный совет</a></li>\\r\\n         <li><a href=\"https://khabar.kz/ru/agency/programma-dlya-smi\">Программа для СМИ</a></li>\\r\\n         <li><a href=\"https://khabar.kz/ru/agency/otchety/godovye-otchety\">Отчеты</a></li>\\r\\n         <li><a href=\"https://khabar.kz/ru/agency/dlya-reklamodatelej\">Для рекламодателей</a></li>\\r\\n         <li><a href=\"https://khabar.kz/ru/agency/vakansii\">Вакансии</a></li>\\r\\n         <li><a href=\"https://khabar.kz/ru/agency/kontakty\">Контакты</a></li>\\r\\n        </ul>\\r\\n       </aside>\\r\\n      </div>\\r\\n\\r\\n      <div class=\"col-lg-4 col-md-6\">\\r\\n       <aside class=\"widget widget_nav_menu\">\\r\\n        <ul>\\r\\n         <li><a href=\"https://khabar.kz/ru/agency/gosudarstvennye-zakupki\">Государственные закупки</a></li>\\r\\n         <li><a href=\"https://khabar.kz/ru/agency/q-a\">Вопрос - ответ</a></li>\\r\\n         <li><a href=\"https://khabar.kz/ru/agency/opros\">Опрос</a></li>\\r\\n        </ul>\\r\\n</aside>\\r\\n\\r\\n      </div> \\r\\n\\r\\n      <div class=\"col-lg-3 col-md-6\">\\r\\n            <aside class=\"widget widget_mc4wp_form_widget pt-16\">\\r\\n      <h4 class=\"widget-title\">Приложения Khabar TV для:</h4>\\r\\n      \\r\\n<div class=\"row row-16\">\\r\\n        <div class=\"col\">\\r\\n         <a class=\"\" href=\"https://apps.apple.com/ru/app/%D1%85%D0%B0%D0%B1%D0%B0%D1%80/id1535441771\" title=\"appstore\" target=\"_blank\" aria-label=\"appstore\">\\r\\n<img src=\"//khabar.kz/2022/img/appstore3.png\" alt=\"khabar.kz\" />\\r\\n         </a>\\r\\n        </div>\\r\\n        <div class=\"col\">\\r\\n         <a class=\"\" href=\"https://play.google.com/store/apps/details?id=kz.khabar.android\" title=\"googleplay\" target=\"_blank\" aria-label=\"googleplay\">\\r\\n<img src=\"//khabar.kz/2022/img/googleplay.png\" alt=\"khabar.kz\" />\\r\\n         </a>\\r\\n        </div>        \\r\\n       </div> \\r\\n\\r\\n<div class=\"row row-16 mt-16\">\\r\\n    <div class=\"col\">\\r\\n     <a class=\"\" href=\"https://24.kz\" title=\"24KZ\" target=\"_blank\" aria-label=\"24KZ\">\\r\\n<img src=\"//khabar.kz/images/2021/august/24.kz.png\" alt=\"24.kz\">\\r\\n     </a>\\r\\n    </div>\\r\\n    <div class=\"col\">\\r\\n     <a class=\"\" href=\"https://elarna.kz\" title=\"Еларна\" target=\"_blank\" aria-label=\"Elarna\">\\r\\n<img src=\"//khabar.kz/images/2021/august/elarna.kz.png\" alt=\"elarna.kz\">\\r\\n     </a>\\r\\n    </div>    \\r\\n    </div>\\r\\n\\r\\n<div class=\"row row-16 mt-16\">\\r\\n        <div class=\"col\">\\r\\n         <p><!-- Yandex.Metrika informer -->\\r\\n<a href=\"https://metrika.yandex.ru/stat/?id=28042572&amp;from=informer\"\\r\\ntarget=\"_blank\" rel=\"nofollow\"><img src=\"https://informer.yandex.ru/informer/28042572/3_1_FFFFFFFF_EFEFEFFF_0_pageviews\"\\r\\nstyle=\"width:88px; height:31px; border:0;\" alt=\"Яндекс.Метрика\" title=\"Яндекс.Метрика: данные за сегодня (просмотры, визиты и уникальные посетители)\" class=\"ym-advanced-informer\" data-cid=\"28042572\" data-lang=\"ru\" /></a>\\r\\n<!-- /Yandex.Metrika informer -->\\r\\n        </div>\\r\\n        <div class=\"col\">\\r\\n         <!-- Start Zero.KZ code -->\\r\\n<span id=\"_zero_55975\">\\r\\n<noscript>\\r\\n<a href=\"http://zero.kz/?s=55975\" target=\"_blank\">\\r\\n<img src=\"http://c.zero.kz/z.png?u=55975\" width=\"88\" height=\"31\" alt=\"ZERO.kz\" />\\r\\n</a>\\r\\n</noscript>\\r\\n</span>      \\r\\n<!-- End Zero.KZ code -->\\r\\n        </div>   \\r\\n <div class=\"col\">\\r\\n<!--LiveInternet counter--><script type=\"text/javascript\"><!--\\r\\ndocument.write(\"<a href=\\'//www.liveinternet.ru/click\\' \"+\\r\\n\"target=_blank><img src=\\'//counter.yadro.ru/hit?t44.6;r\"+\\r\\nescape(document.referrer)+((typeof(screen)==\"undefined\")?\"\":\\r\\n\";s\"+screen.width+\"*\"+screen.height+\"*\"+(screen.colorDepth?\\r\\nscreen.colorDepth:screen.pixelDepth))+\";u\"+escape(document.URL)+\\r\\n\";h\"+escape(document.title.substring(0,80))+\";\"+Math.random()+\\r\\n\"\\' alt=\\'Телеканал Хабар\\' title=\\'LiveInternet\\' \"+\\r\\n\"border=\\'0\\' width=\\'31\\' height=\\'31\\'><\\\\/a>\")\\r\\n//--></script><!--/LiveInternet-->\\r\\n        </div>      \\r\\n       </div> \\r\\n     </aside>\\r\\n      </div>\\r\\n\\r\\n     </div>\\r\\n    </div>  \\r\\n   </div> <!-- end container -->\\r\\n  </footer> <!-- end footer -->\\r\\n\\r\\n  <div id=\"back-to-top\">\\r\\n   <a href=\"#top\" aria-label=\"Go to top\"><i class=\"ui-arrow-up\"></i></a>\\r\\n  </div>\\r\\n\\r\\n </main> <!-- end main-wrapper -->\\r\\n\\r\\n \\r\\n <!-- jQuery Scripts -->\\r\\n <script src=\"//khabar.kz/2022/templates/gk_news/js/jquery.min.js\"></script>\\r\\n <script src=\"//khabar.kz/2022/templates/gk_news/js/bootstrap.min.js\"></script>\\r\\n <script src=\"//khabar.kz/2022/templates/gk_news/js/easing.min.js\"></script>\\r\\n <script src=\"//khabar.kz/2022/templates/gk_news/js/owl-carousel.min.js\"></script>\\r\\n <script src=\"//khabar.kz/2022/templates/gk_news/js/flickity.pkgd.min.js\"></script>\\r\\n <script src=\"//khabar.kz/2022/templates/gk_news/js/twitterFetcher_min.js\"></script>\\r\\n <script src=\"//khabar.kz/2022/templates/gk_news/js/jquery.newsTicker.min.js\"></script> \\r\\n <script src=\"//khabar.kz/2022/templates/gk_news/js/modernizr.min.js\"></script>\\r\\n <script src=\"//khabar.kz/2022/templates/gk_news/js/jquery.sticky-kit.min.js\"></script>\\r\\n  <script src=\"//khabar.kz/jquery.clever-infinite-scroll.js\"></script>\\r\\n <script src=\"//khabar.kz/2022/templates/gk_news/js/scripts.js?v=1\"></script>\\r\\n</body>\\r\\n</html>'"
      ]
     },
     "execution_count": 23,
     "metadata": {},
     "output_type": "execute_result"
    }
   ],
   "source": [
    "response.text"
   ]
  },
  {
   "cell_type": "code",
   "execution_count": null,
   "id": "e6254094",
   "metadata": {},
   "outputs": [],
   "source": []
  },
  {
   "cell_type": "markdown",
   "id": "7fe4e032",
   "metadata": {},
   "source": [
    "# step 2. search articles"
   ]
  },
  {
   "cell_type": "code",
   "execution_count": null,
   "id": "c5abf08f",
   "metadata": {},
   "outputs": [],
   "source": []
  },
  {
   "cell_type": "code",
   "execution_count": null,
   "id": "3055a665",
   "metadata": {},
   "outputs": [],
   "source": []
  },
  {
   "cell_type": "code",
   "execution_count": null,
   "id": "83c1c00d",
   "metadata": {},
   "outputs": [],
   "source": []
  },
  {
   "cell_type": "markdown",
   "id": "cceb19ac",
   "metadata": {},
   "source": [
    "# export files"
   ]
  },
  {
   "cell_type": "code",
   "execution_count": null,
   "id": "e6ce25e0",
   "metadata": {},
   "outputs": [],
   "source": []
  },
  {
   "cell_type": "code",
   "execution_count": null,
   "id": "eda9095a",
   "metadata": {},
   "outputs": [],
   "source": []
  }
 ],
 "metadata": {
  "kernelspec": {
   "display_name": "Python 3 (ipykernel)",
   "language": "python",
   "name": "python3"
  },
  "language_info": {
   "codemirror_mode": {
    "name": "ipython",
    "version": 3
   },
   "file_extension": ".py",
   "mimetype": "text/x-python",
   "name": "python",
   "nbconvert_exporter": "python",
   "pygments_lexer": "ipython3",
   "version": "3.11.5"
  }
 },
 "nbformat": 4,
 "nbformat_minor": 5
}
