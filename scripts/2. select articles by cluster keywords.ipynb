{
 "cells": [
  {
   "cell_type": "markdown",
   "id": "0b3cd123",
   "metadata": {},
   "source": [
    "# libraries"
   ]
  },
  {
   "cell_type": "code",
   "execution_count": 1,
   "id": "506c4427",
   "metadata": {},
   "outputs": [],
   "source": [
    "import pandas as pd"
   ]
  },
  {
   "cell_type": "code",
   "execution_count": 2,
   "id": "a10133f9",
   "metadata": {},
   "outputs": [],
   "source": [
    "import requests"
   ]
  },
  {
   "cell_type": "markdown",
   "id": "cb3f8234",
   "metadata": {},
   "source": [
    "# data path"
   ]
  },
  {
   "cell_type": "code",
   "execution_count": 3,
   "id": "85b8ae07",
   "metadata": {},
   "outputs": [],
   "source": [
    "data_path = \"../data/\""
   ]
  },
  {
   "cell_type": "code",
   "execution_count": 4,
   "id": "f6b892d6",
   "metadata": {},
   "outputs": [],
   "source": [
    "media_link_dat_filename = \"media_government.xlsx\""
   ]
  },
  {
   "cell_type": "code",
   "execution_count": 5,
   "id": "2c2d01ef",
   "metadata": {},
   "outputs": [
    {
     "data": {
      "text/plain": [
       "Index(['Title', 'Source', 'Data', 'Link', 'Unnamed: 4', 'Unnamed: 5',\n",
       "       'Unnamed: 6', 'Unnamed: 7', 'Unnamed: 8', 'Unnamed: 9', 'Unnamed: 10',\n",
       "       'Unnamed: 11', 'Unnamed: 12'],\n",
       "      dtype='object')"
      ]
     },
     "execution_count": 5,
     "metadata": {},
     "output_type": "execute_result"
    }
   ],
   "source": [
    "media_link_dat = pd.read_excel(data_path+media_link_dat_filename)\n",
    "media_link_dat.columns = [label.strip() for label in media_link_dat.columns]\n",
    "media_link_dat.columns"
   ]
  },
  {
   "cell_type": "code",
   "execution_count": 6,
   "id": "f89e56dd",
   "metadata": {},
   "outputs": [
    {
     "data": {
      "text/html": [
       "<div>\n",
       "<style scoped>\n",
       "    .dataframe tbody tr th:only-of-type {\n",
       "        vertical-align: middle;\n",
       "    }\n",
       "\n",
       "    .dataframe tbody tr th {\n",
       "        vertical-align: top;\n",
       "    }\n",
       "\n",
       "    .dataframe thead th {\n",
       "        text-align: right;\n",
       "    }\n",
       "</style>\n",
       "<table border=\"1\" class=\"dataframe\">\n",
       "  <thead>\n",
       "    <tr style=\"text-align: right;\">\n",
       "      <th></th>\n",
       "      <th>Source</th>\n",
       "      <th>Data</th>\n",
       "      <th>Link</th>\n",
       "    </tr>\n",
       "  </thead>\n",
       "  <tbody>\n",
       "    <tr>\n",
       "      <th>0</th>\n",
       "      <td>Хабар</td>\n",
       "      <td>5.01.2022</td>\n",
       "      <td>https://khabar.kz/ru/news/obshchestvo/item/137...</td>\n",
       "    </tr>\n",
       "    <tr>\n",
       "      <th>1</th>\n",
       "      <td>Хабар</td>\n",
       "      <td>5.01.2022</td>\n",
       "      <td>https://khabar.kz/ru/news/politika/item/137784...</td>\n",
       "    </tr>\n",
       "    <tr>\n",
       "      <th>2</th>\n",
       "      <td>Хабар</td>\n",
       "      <td>5.01.2022</td>\n",
       "      <td>https://khabar.kz/ru/news/politika/item/137785...</td>\n",
       "    </tr>\n",
       "    <tr>\n",
       "      <th>3</th>\n",
       "      <td>Хабар</td>\n",
       "      <td>5.01.2022</td>\n",
       "      <td>https://khabar.kz/ru/news/politika/item/137786...</td>\n",
       "    </tr>\n",
       "    <tr>\n",
       "      <th>4</th>\n",
       "      <td>Хабар</td>\n",
       "      <td>5.01.2022</td>\n",
       "      <td>https://khabar.kz/ru/news/obshchestvo/item/137...</td>\n",
       "    </tr>\n",
       "  </tbody>\n",
       "</table>\n",
       "</div>"
      ],
      "text/plain": [
       "  Source       Data                                               Link\n",
       "0  Хабар  5.01.2022  https://khabar.kz/ru/news/obshchestvo/item/137...\n",
       "1  Хабар  5.01.2022  https://khabar.kz/ru/news/politika/item/137784...\n",
       "2  Хабар  5.01.2022  https://khabar.kz/ru/news/politika/item/137785...\n",
       "3  Хабар  5.01.2022  https://khabar.kz/ru/news/politika/item/137786...\n",
       "4  Хабар  5.01.2022  https://khabar.kz/ru/news/obshchestvo/item/137..."
      ]
     },
     "execution_count": 6,
     "metadata": {},
     "output_type": "execute_result"
    }
   ],
   "source": [
    "select_columns = [\"Source\",\"Data\",\"Link\"]\n",
    "media_link_dat = media_link_dat[select_columns]\n",
    "media_link_dat.head()"
   ]
  },
  {
   "cell_type": "code",
   "execution_count": 24,
   "id": "b9df6ad1",
   "metadata": {},
   "outputs": [
    {
     "data": {
      "text/plain": [
       "(510, 3)"
      ]
     },
     "execution_count": 24,
     "metadata": {},
     "output_type": "execute_result"
    }
   ],
   "source": [
    "media_link_dat.shape"
   ]
  },
  {
   "cell_type": "code",
   "execution_count": 30,
   "id": "4d0815a8",
   "metadata": {},
   "outputs": [
    {
     "data": {
      "text/plain": [
       "(495, 3)"
      ]
     },
     "execution_count": 30,
     "metadata": {},
     "output_type": "execute_result"
    }
   ],
   "source": [
    "media_link_dat = media_link_dat.drop_duplicates()\n",
    "media_link_dat.shape"
   ]
  },
  {
   "cell_type": "code",
   "execution_count": 31,
   "id": "ea371277",
   "metadata": {},
   "outputs": [
    {
     "data": {
      "text/plain": [
       "['Хабар', 'tengrinews.kz', 'nur.kz', 'akorda.kz', 'sputnik.kz', 'zakon.kz']"
      ]
     },
     "execution_count": 31,
     "metadata": {},
     "output_type": "execute_result"
    }
   ],
   "source": [
    "list(set(media_link_dat.Source.to_list()))"
   ]
  },
  {
   "cell_type": "code",
   "execution_count": 32,
   "id": "c1ba6a8d",
   "metadata": {},
   "outputs": [],
   "source": [
    "cluster1_agencies = ['akorda.kz','Хабар','nur.kz']\n",
    "cluster2_agencies = ['sputnik.kz','zakon.kz','tengrinews.kz']"
   ]
  },
  {
   "cell_type": "code",
   "execution_count": 33,
   "id": "a5806f82",
   "metadata": {},
   "outputs": [
    {
     "data": {
      "text/plain": [
       "['https://khabar.kz/ru/news/obshchestvo/item/137781-khronologiya-protestov-v-mangistauskoj-oblasti',\n",
       " 'https://khabar.kz/ru/news/politika/item/137784-rezhim-chp-v-mangistauskoj-oblasti-i-almaty-prodlitsya-do-19-yanvarya',\n",
       " 'https://khabar.kz/ru/news/politika/item/137785-prezident-kazakhstana-nazval-vinovnykh-v-dopushchenii-protestnoj-situatsii',\n",
       " 'https://khabar.kz/ru/news/politika/item/137786-k-tokaev-odna-iz-glavnejshikh-zadach-ispolnitelnoj-vlasti-ostalas-nevypolnennoj',\n",
       " 'https://khabar.kz/ru/news/obshchestvo/item/137792-kakoj-ushcherb-nanesli-uchastniki-mitingov',\n",
       " 'https://khabar.kz/ru/news/obshchestvo/item/137801-190-postradavshikh-v-nochnykh-besporyadkakh-obratilis-za-medpomoshchyu-v-almaty',\n",
       " 'https://khabar.kz/ru/news/politika/item/137805-o-vvedenii-chrezvychajnogo-polozheniya-v-gorode-nur-sultane',\n",
       " 'https://khabar.kz/ru/news/obshchestvo/item/137818-khronologiya-protestov-v-kazakhstane',\n",
       " 'https://khabar.kz/ru/news/politika/item/137808-prezident-kazakhstana-provel-zasedanie-kontrterroristicheskogo-shtaba',\n",
       " 'https://khabar.kz/ru/news/obshchestvo/item/137820-odkb-obespechivaet-tyl-kazakhstanskim-voennym-i-politsejskim',\n",
       " 'https://khabar.kz/ru/news/obshchestvo/item/137828-genprokuratura-zavedeny-ugolovnye-dela',\n",
       " 'https://khabar.kz/ru/news/politika/item/137831-obrashchenie-glavy-gosudarstva-k-narodu-kazakhstana-7-yanvarya-2022-god',\n",
       " 'https://khabar.kz/ru/news/obshchestvo/item/137852-mvd-rk-sredi-zaderzhannykh-est-inostrannye-grazhdane',\n",
       " 'https://khabar.kz/ru/news/obshchestvo/item/137861-uchastnikov-protestov-v-almaty-zaderzhali-v-zko',\n",
       " 'https://khabar.kz/ru/news/obshchestvo/item/137848-10-yanvarya-den-traura-v-kazakhstane',\n",
       " 'https://khabar.kz/ru/news/obshchestvo/item/137869-pochti-700-chelovek-zaderzhali-v-kostanajskoj-oblasti',\n",
       " 'https://khabar.kz/ru/news/obshchestvo/item/137871-politsejskie-zaderzhali-vooruzhjonnykh-lyudej-v-zko',\n",
       " 'https://khabar.kz/ru/news/obshchestvo/item/137862-situatsiya-v-aktau-stabilnaya',\n",
       " 'https://khabar.kz/ru/news/obshchestvo/item/137859-predprinimatel-i-metsenat-prizyvaet-biznesmenov-podderzhat-stranu',\n",
       " 'https://khabar.kz/ru/news/obshchestvo/item/137866-sostoyalsya-telefonnyj-razgovor-s-prezidentom-rossii-vladimirom-putinym',\n",
       " 'https://khabar.kz/ru/news/obshchestvo/item/137874-ekspert-rasskazal-o-pervoj-mirotvorcheskoj-missii-kazakhstana',\n",
       " 'https://khabar.kz/ru/news/obshchestvo/item/137881-dvukh-chelovek-arestovali-v-aktobe-za-organizatsiyu-massovykh-besporyadkov',\n",
       " 'https://khabar.kz/ru/news/proisshestviya/item/137912-zaderzhaniya-uchastnikov-besporyadkov-v-regionakh-prodolzhayutsya',\n",
       " 'https://khabar.kz/ru/news/politika/item/137925-prezident-kazakhstana-provel-zasedanie-operativnogo-shtaba',\n",
       " 'https://khabar.kz/ru/news/proisshestviya/item/137933-na-territorii-kazakhstana-vveli-maksimalnyj-uroven-terroristicheskoj-opasnosti',\n",
       " 'https://khabar.kz/ru/news/obshchestvo/item/137948-v-kyzylorde-zaderzhali-27-terroristov',\n",
       " 'https://khabar.kz/ru/news/politika/item/137949-mo-rk-spetsoperatsiya-prodolzhitsya',\n",
       " 'https://khabar.kz/ru/news/obshchestvo/item/137964-den-obshchenatsionalnogo-traura-prokhodit-v-kazakhstane',\n",
       " 'https://khabar.kz/ru/news/proisshestviya/item/137975-v-rk-nejtralizovany-dve-ekstremistskie-yachejki',\n",
       " 'https://khabar.kz/ru/news/politika/item/137977-k-tokaev-konstitutsionnyj-poryadok-v-rk-vosstanovlen',\n",
       " 'https://khabar.kz/ru/news/politika/item/137986-k-tokaev-antiterroristicheskaya-operatsiya-zavershitsya-v-blizhajshee-vremya',\n",
       " 'https://khabar.kz/ru/news/politika/item/138006-poetapnyj-vyvod-vojsk-odkb-nachnjotsya-cherez-dva-dnya-k-tokaev',\n",
       " 'https://khabar.kz/ru/news/politika/item/138023-vystuplenie-glavy-gosudarstva-k-k-tokaeva-na-zasedanii-mazhilisa-parlamenta-rk',\n",
       " 'https://khabar.kz/ru/news/obshchestvo/item/138063-t-marmontova-mirotvortsy-odkb-nash-garant-bezopasnosti',\n",
       " 'https://khabar.kz/ru/news/obshchestvo/item/138118-v-almaty-nachalsya-vyvod-mirotvortsev-odkb',\n",
       " 'https://khabar.kz/ru/news/politika/item/138137-prezident-rk-provel-telefonnye-peregovory-s-glavami-gosudarstv-chlenov-odkb',\n",
       " 'https://khabar.kz/ru/news/politika/item/138138-po-faktu-zakhvata-vlasti-nachato-ugolovnoe-delo-v-otnoshenii-eks-rukovodstva-knb',\n",
       " 'https://khabar.kz/ru/news/obshchestvo/item/138139-veb-sajt-dlya-anonimnoj-zagruzki-foto-i-video-terroristicheskikh-aktov-zapushchen-v-rk',\n",
       " 'https://khabar.kz/ru/news/proisshestviya/item/138188-149-chelovek-pogibli-vo-vremya-terroristicheskikh-atak-v-almaty',\n",
       " 'https://khabar.kz/ru/news/politika/item/138237-elbasy-obratilsya-k-narodu-kazakhstana',\n",
       " 'https://khabar.kz/ru/news/obshchestvo/item/138248-rezhim-chp-prekrashchaetsya-v-kazakhstane',\n",
       " 'https://khabar.kz/ru/news/obshchestvo/item/138285-glava-politsii-almaty-rasskazal-kto-shturmoval-zdaniya-dp',\n",
       " 'https://khabar.kz/ru/news/obshchestvo/item/138439-krasnyj-uroven-terroristicheskoj-opasnosti-otmenyaetsya-v-almaty',\n",
       " 'https://khabar.kz/ru/news/obshchestvo/item/138618-35-chlenov-ekstremistskikh-organizatsij-arestovany-v-kazakhstane',\n",
       " 'https://khabar.kz/ru/news/politika/item/138720-prezident-pochtil-pamyat-zhertv-yanvarskoj-tragedii',\n",
       " 'https://khabar.kz/ru/news/politika/item/138801-ugroza-povtornogo-terroristicheskogo-napadeniya-eshchjo-ne-otstupila-zayavil-k-tokaev',\n",
       " 'https://khabar.kz/ru/news/obshchestvo/item/139062-yanvarskaya-tragediya-stala-rokovoj-dlya-mnogikh-pravookhranitelej',\n",
       " 'https://khabar.kz/ru/news/obshchestvo/item/139379-ministr-vnutrennikh-del-dolozhil-prezidentu-o-proizvodstve-ugolovnykh-del-po-yanvarskim-sobytiyam',\n",
       " 'https://khabar.kz/ru/news/politika/item/139312-poslanie-k-tokaeva-narodu-kazakhstana',\n",
       " 'https://khabar.kz/ru/news/politika/item/139310-k-tokaev-vinovnye-ponesut-nakazanie-kakie-by-dolzhnosti-oni-ni-zanimali',\n",
       " 'https://khabar.kz/ru/news/politika/item/142318-poslanie-glavy-gosudarstva-kasym-zhomarta-tokaeva-narodu-kazakhstana',\n",
       " 'https://khabar.kz/ru/news/politika/item/144103-glava-gosudarstva-prinyal-generalnogo-prokurora-berika-asylova',\n",
       " 'https://khabar.kz/ru/news/politika/item/144282-glava-gosudarstva-provel-vstrechu-s-obshchestvennostyu-goroda-almaty',\n",
       " 'https://khabar.kz/ru/news/proisshestviya/item/145451-vyyavlena-glavnaya-prichina-yanvarskikh-besporyadkov',\n",
       " 'https://khabar.kz/ru/news/proisshestviya/item/145452-yanvarskie-sobytiya-mediki-podelilis-vospominaniyami',\n",
       " 'https://khabar.kz/ru/news/obshchestvo/item/138185-protesty-2022-kak-kazakhstantsy-mogut-pomoch-sledstviyu',\n",
       " 'https://khabar.kz/ru/news/obshchestvo/item/138251-besporyadki-v-kazakhstane-utverzhden-mekhanizm-vozmeshcheniya-ushcherba-msb',\n",
       " 'https://khabar.kz/ru/news/obshchestvo/item/138402-v-almaty-nachaty-vyplaty-postradavshim-ot-besporyadkov-fizlitsam',\n",
       " 'https://khabar.kz/ru/news/kultura/item/138440-dokumentalnyj-film-o-sobytiyakh-tragicheskogo-yanvarya-prezentovali-v-nur-sultane',\n",
       " 'https://khabar.kz/ru/news/obshchestvo/item/138592-obshchaya-summa-ushcherba-ot-besporyadkov-prevysila-88-mlrd-tenge',\n",
       " 'https://khabar.kz/ru/news/obshchestvo/item/138615-arestovan-eks-zamestitel-glavy-knb-daulet-ergozhin',\n",
       " 'https://khabar.kz/ru/news/novosti-o-deyatelnosti/item/139083-premera-filma-tragicheskij-yanvar-besporyadki-na-telekanale-khabar',\n",
       " 'https://khabar.kz/ru/news/politika/item/145236-prezident-prinyal-uchastie-v-otkrytii-memoriala-tagzym',\n",
       " 'https://khabar.kz/ru/arkhiv-otdel-zhurnalistskikh-rassledovanij/item/138392-chernyj-yanvar-otdel-zhurnalistskikh-rassledovanij',\n",
       " 'https://khabar.kz/ru/news/obshchestvo/item/138784-almatinskaya-rezidentsiya-glavy-gosudarstva-budet-vosstanovlena-do-kontsa-goda',\n",
       " 'https://khabar.kz/ru/news/obshchestvo/item/138858-yanvarskaya-tragediya-glazami-politsejskogo',\n",
       " 'https://khabar.kz/ru/news/obshchestvo/item/138999-m-kajsarov-nagrazhden-ordenom-ajbyn-posmertno',\n",
       " 'https://khabar.kz/ru/news/obshchestvo/item/139051-bojtsy-natsionalnoj-gvardii-blagodarili-segodnya-almatintsev',\n",
       " 'https://khabar.kz/ru/news/politika/item/137779-kasym-zhomart-tokaev-prinyal-otstavku-pravitelstva',\n",
       " 'https://khabar.kz/ru/news/obshchestvo/item/138738-almatinskie-predprinimateli-vynuzhdeny-vosstanavlivat-svoj-biznes-samostoyatelno',\n",
       " 'https://khabar.kz/ru/news/obshchestvo/item/138947-mediki-almaty-vyderzhali-nedelnuyu-vakhtu-vo-vremya-yanvarskikh-sobytij',\n",
       " 'https://khabar.kz/ru/news/obshchestvo/item/137979-zhiteli-petropavlovska-sdayut-krov-dlya-postradavshikh-v-almaty',\n",
       " 'https://khabar.kz/ru/news/obshchestvo/item/138122-kak-i-kogda-budet-vozmeshchen-ushcherb-postradavshim-obektam-biznesa-v-almaty',\n",
       " 'https://www.nur.kz/politics/kazakhstan/1975403-uchastnikov-massovyh-besporyadkov-v-kazahstane-budut-ugolovno-nakazyvat-za-nepovinovenie-vlastyam/',\n",
       " 'https://www.nur.kz/politics/kazakhstan/1973812-po-3-mln-tenge-vyplatili-voennym-i-politseyskim-tyazhelo-ranenym-vo-vremya-yanvarskih-sobytiy/',\n",
       " 'https://www.nur.kz/politics/kazakhstan/1973200-ugroza-vsegda-est-glava-mvd-o-vozmozhnosti-povtoreniya-yanvarskih-sobytiy-v-kazahstane/',\n",
       " 'https://www.nur.kz/politics/kazakhstan/1973183-otvetstvennost-pervyh-rukovoditeley-pri-chp-uzhestochat-v-kazahstane/',\n",
       " 'https://www.nur.kz/politics/kazakhstan/1972590-tokaev-o-yanvarskih-sobytiyah-tsifru-v-20-tysyach-terroristov-dali-byvshie-rukovoditeli-organov/',\n",
       " 'https://www.nur.kz/politics/kazakhstan/1972585-tokaev-o-rassledovanii-yanvarskih-sobytiy-my-vse-delaem-otkryto/',\n",
       " 'https://www.nur.kz/politics/kazakhstan/1971584-nazarbaev-vyskazalsya-o-yanvarskih-sobytiyah-otvetstvennosti-rodstvennikov-i-svoem-buduschem/',\n",
       " 'https://www.nur.kz/politics/kazakhstan/1967397-tokaev-o-yanvarskih-sobytiyah-my-chut-ne-poteryali-svoyu-gosudarstvennost/',\n",
       " 'https://www.nur.kz/politics/kazakhstan-economy/1963999-31-mlrd-tenge-planiruyut-vydelit-na-ustranenie-posledstviy-yanvarskih-besporyadkov-v-kazahstane/',\n",
       " 'https://www.nur.kz/politics/kazakhstan/1963782-tokaev-prinyal-genprokurora-berika-asylova/',\n",
       " 'https://www.nur.kz/politics/kazakhstan/1961541-tokaev-prinyal-ministra-vnutrennih-del-marata-ahmetzhanova/',\n",
       " 'https://www.nur.kz/politics/kazakhstan/1960969-tokaev-o-pytkah-oni-ne-priemlemy-dlya-nas/',\n",
       " 'https://www.nur.kz/politics/kazakhstan/1960555-mvd-po-itogam-yanvarskoy-tragedii-rassleduetsya-89-ubiystv/',\n",
       " 'https://www.nur.kz/politics/kazakhstan/1957103-tokaev-prinyal-veritelnye-gramoty-u-poslov-ryada-gosudarstv/',\n",
       " 'https://www.nur.kz/politics/kazakhstan/1956690-tokaev-prokommentiroval-versiyu-o-tom-chto-ego-pytalis-izgnat-iz-strany/',\n",
       " 'https://www.nur.kz/politics/kazakhstan/1956670-tokaev-o-zayavleniyah-kazahstantsev-o-pytkah-eto-nedopustimo/',\n",
       " 'https://www.nur.kz/politics/kazakhstan/1956664-tokaev-o-besporyadkah-v-almaty-nelzya-nazyvat-terroristov-i-banditov-geroyami-i-batyrami/',\n",
       " 'https://www.nur.kz/politics/kazakhstan/1956663-preobrazovaniya-mogli-zatronut-ih-interesy-prichinu-vosstaniy-protiv-vlasti-nazval-tokaev/',\n",
       " 'https://www.nur.kz/politics/kazakhstan/1956662-tokaev-rasskazal-pochemu-ego-pervoe-intervyu-posle-yanvarskih-sobytiy-bylo-na-russkom-yazyke/',\n",
       " 'https://www.nur.kz/politics/kazakhstan/1956667-tokaev-otvetil-na-vopros-o-rassledovanii-yanvarskih-sobytiy/',\n",
       " 'https://www.nur.kz/politics/kazakhstan/1956638-tokaev-dal-turgumbaevu-poruchenie-po-rassledovaniyu-yanvarskih-sobytiy/',\n",
       " 'https://www.nur.kz/politics/kazakhstan/1956443-novoe-intervyu-tokaeva-pokazhut-v-pryamom-efire/',\n",
       " 'https://www.nur.kz/politics/kazakhstan/1955865-gosudarstvo-ne-ostavit-vas-naedine-s-bedoy-tokaev-obratilsya-k-semyam-pogibshih-v-yanvarskih-besporyadkah/',\n",
       " 'https://www.nur.kz/politics/universe/1955588-tokaev-provel-vstrechu-putinym/',\n",
       " 'https://www.nur.kz/politics/kazakhstan/1955122-tokaev-o-zabastovkah-v-magistau-esli-nuzhno-opyat-otpravit-v-oblast-spetskomissiyu/',\n",
       " 'https://www.nur.kz/politics/kazakhstan/1955061-tokaev-yanvarskie-sobytiya-v-korne-izmenili-nashu-zhizn/',\n",
       " 'https://www.nur.kz/politics/kazakhstan/1955006-besporyadki-v-kazahstane-arestovany-35-chlenov-zapreschennyh-ekstremistskih-dvizheniy/',\n",
       " 'https://www.nur.kz/politics/universe/1953652-tokaev-o-reaktsii-zapada-na-prikaz-strelyat-na-porazhenie-ya-diplomat-ya-znal-posledstviya/',\n",
       " 'https://www.nur.kz/politics/kazakhstan/1953537-tokaev-tragicheskiy-yanvar-stal-dlya-nas-samym-surovym-ispytaniem-za-vse-gody-nezavisimosti/',\n",
       " 'https://www.nur.kz/politics/kazakhstan/1953496-reaktsiya-zapada-na-sobytiya-v-kazahstane-vozmutila-genkonsula-rossii/',\n",
       " 'https://www.nur.kz/politics/kazakhstan/1952481-tokaev-poruchil-provesti-tschatelnoe-rassledovanie-po-kazhdomu-sluchayu-gibeli-lyudey/',\n",
       " 'https://www.nur.kz/politics/kazakhstan/1951935-glava-mid-kazahstana-pekin-byl-gotov-okazat-voennuyu-pomosch/',\n",
       " 'https://www.nur.kz/politics/kazakhstan/1951310-tokaev-provel-soveschanie-s-rukovodstvom-silovyh-struktur/',\n",
       " 'https://www.nur.kz/politics/kazakhstan/1951265-tokaev-dal-porucheniya-genprokurature-v-svyazi-s-sobytiyami-tragicheskogo-yanvarya/',\n",
       " 'https://www.nur.kz/politics/kazakhstan/1951273-press-sekretar-tokaeva-obyasnil-ego-poruchenie-genprokurature-o-smyagchenii-nakazaniya/',\n",
       " 'https://www.nur.kz/politics/kazakhstan/1951260-esche-v-dvuh-oblastyah-kazahstana-otmenili-rezhim-chp/',\n",
       " 'https://www.nur.kz/politics/kazakhstan/1951210-rezhim-chp-otmetili-v-shymkente/',\n",
       " 'https://www.nur.kz/politics/kazakhstan/1950950-memorial-pogibshim-v-besporyadkah-silovikam-ustanovyat-v-tsentre-almaty/',\n",
       " 'https://www.nur.kz/politics/kazakhstan/1950922-on-poluchaet-mnogo-soobscheniy-aliya-nazarbaeva-poblagodarila-kazahstantsev-za-podderzhku-elbasy/',\n",
       " 'https://www.nur.kz/politics/kazakhstan/1950557-protestuyuschie-zastavili-akima-napisat-zayavlenie-ob-uvolnenii-v-pavlodarskoy-oblasti/',\n",
       " 'https://www.nur.kz/politics/kazakhstan-economy/1950473-tokaev-tragicheskie-sobytiya-vyzvany-provalnoy-deyatelnostyu-vseh-gosorganov/',\n",
       " 'https://www.nur.kz/politics/kazakhstan/1950450-tokaev-my-mogli-polnostyu-utratit-kontrol-nad-almaty/',\n",
       " 'https://www.nur.kz/politics/kazakhstan/1950462-tokaev-zayavil-o-bezdeystvii-knb-kazahstana/',\n",
       " 'https://www.nur.kz/politics/kazakhstan/1950456-tokaev-popytka-gosperevorota-v-kazahstane-provalilas/',\n",
       " 'https://www.nur.kz/politics/kazakhstan-economy/1950422-uscherb-kazahstanskomu-biznesu-ot-besporyadkov-prevysil-95-mlrd-tenge/',\n",
       " 'https://www.nur.kz/politics/kazakhstan/1950357-tokaev-ozvuchil-ekonomicheskiy-uscherb-ot-besporyadkov-v-kazahstane/',\n",
       " 'https://www.nur.kz/politics/universe/1950309-putin-o-situatsii-v-kazahstane-my-nablyudaem-agressiyu-imenno-mezhdunarodnogo-terrorizma/',\n",
       " 'https://www.nur.kz/politics/universe/1950299-my-ne-prishli-po-svoemu-zhelaniyu-nas-priglasil-nash-drug-lukashenko-o-vvode-voysk-odkb/',\n",
       " 'https://www.nur.kz/politics/universe/1950303-putin-o-besporyadkah-v-kazahstane-primenyali-maydannye-tehnologii/',\n",
       " 'https://www.nur.kz/politics/universe/1950126-spetssluzhby-kyrgyzstana-vyskazalis-ob-uchastii-svoih-grazhdan-v-besporyadkah-v-kazahstane/',\n",
       " 'https://www.nur.kz/politics/kazakhstan/1950256-erlan-karin-v-kazahstane-byl-primenen-prakticheskiy-ves-arsenal-instrumentov-i-priemov-po-destabilizatsii-situatsii/',\n",
       " 'https://www.nur.kz/politics/kazakhstan/1950196-na-konu-stoyal-vopros-smozhem-li-my-sohranit-gosudarstvo-gossekretar-o-sobytiyah-v-kazahstane/',\n",
       " 'https://www.nur.kz/politics/kazakhstan/1950011-predatelstvo-ohvatilo-bolshoe-kolichestvo-vedomstv-politolog-o-besporyadkah-v-kazahstane/',\n",
       " 'https://www.nur.kz/politics/kazakhstan/1950012-etot-zagovor-imel-svoih-kuklovodov-sredi-vysshey-elity-silovyh-blokov-politolog-o-pogromah-v-kazahstane/',\n",
       " 'https://www.nur.kz/politics/kazakhstan/1949981-kakaya-glupost-tokaev-otvetil-na-prizyvy-zarubezhnyh-stran-k-mirnym-peregovoram-s-terroristami/',\n",
       " 'https://www.nur.kz/politics/kazakhstan/1949979-tokaev-prikazal-otkryvat-ogon-na-porazhenie-po-terroristam/',\n",
       " 'https://www.nur.kz/politics/universe/1949949-belyy-dom-sdelal-zayavlenie-iz-za-protestov-v-kazahstane/',\n",
       " 'https://www.nur.kz/politics/kazakhstan/1949943-rezhim-chp-vvoditsya-vo-vsem-kazahstane/',\n",
       " 'https://www.nur.kz/politics/kazakhstan/1949936-nameren-deystvovat-maksimalno-zhestko-tokaev-obratilsya-k-kazahstantsam/',\n",
       " 'https://www.nur.kz/politics/kazakhstan/1949858-nam-vsem-nuzhno-sohranyat-spokoystvie-deputat-o-situatsii-v-kazahstane/',\n",
       " 'https://www.nur.kz/politics/kazakhstan/1949857-otstavka-pravitelstva-iz-za-massovyh-aktsiy-protesta-mnenie-politologov/',\n",
       " 'https://www.nur.kz/politics/kazakhstan/1949840-ekspert-o-rezhime-chp-po-drugomu-vozmozhnosti-uderzhat-situatsiyu-pod-kontrolem-net/',\n",
       " 'https://www.nur.kz/politics/kazakhstan/1949815-tokaev-osobaya-vina-za-dopuschenie-protestnoy-situatsii-lezhit-na-pravitelstve-i-ministerstve-energetiki/',\n",
       " 'https://www.nur.kz/politics/kazakhstan/1949766-tokaev-podpisal-ukaz-o-vvedenii-chrezvychaynogo-polozheniya-v-almaty-i-mangistauskoy-oblasti/',\n",
       " 'https://www.nur.kz/politics/kazakhstan/1949742-prezident-tokaev-obratilsya-k-demonstrantam/',\n",
       " 'https://www.nur.kz/politics/kazakhstan/1949722-pravitelstvo-o-sobytiyah-v-mangistau-budet-prinyato-reshenie-udovletvoryayuschee-vse-storony/',\n",
       " 'https://www.nur.kz/politics/kazakhstan/1949725-pravitelstvennaya-komissiya-provodit-peregovory-s-gruppoy-aktivistov-v-mangistau/',\n",
       " 'https://www.nur.kz/politics/kazakhstan/1949706-tokaev-soobschil-o-nachale-raboty-komissii-v-mangistau/',\n",
       " 'https://www.nur.kz/politics/kazakhstan/1949685-ya-chuvstvuyu-svoyu-otvetstvennost-mirzagaliev-o-situatsii-v-mangistauskoy-oblasti/',\n",
       " 'https://www.nur.kz/politics/kazakhstan/1949639-tokaev-vyskazalsya-o-situatsii-v-zhanaozene/',\n",
       " 'https://www.nur.kz/politics/kazakhstan/2004238-tokaev-pochtil-pamyat-zhertv-yanvarskih-sobytiy-v-mecheti-foto/',\n",
       " 'https://www.nur.kz/politics/kazakhstan/1994514-senat-podderzhal-proekt-zakona-ob-amnistii-uchastnikov-yanvarskih-sobytiy-v-kazahstane/',\n",
       " 'https://www.nur.kz/politics/kazakhstan/1994421-o-rabote-nad-zakonoproektom-ob-amnistii-dlya-uchastnikov-yanvarskih-sobytiy-dolozhili-tokaevu/',\n",
       " 'https://www.nur.kz/politics/kazakhstan/1986627-turgumbaeva-doprosili-v-kachestve-svidetelya-gp-o-rassledovanii-yanvarskih-sobytiy/',\n",
       " 'https://www.nur.kz/politics/kazakhstan/1979488-v-almaty-99-subektov-msb-vosstanovili-svoyu-deyatelnost-posle-yanvarskih-sobytiy/',\n",
       " 'https://www.nur.kz/politics/kazakhstan/1975426-obrazets-patriotizma-i-muzhestva-tokaev-o-povedenii-politsii-vo-vremya-yanvarskih-sobytiy/',\n",
       " 'https://www.nur.kz/politics/kazakhstan/1974172-tokaevu-predlagali-pokinut-kazahstan-vo-vremya-yanvarskih-sobytiy/',\n",
       " 'https://www.nur.kz/society/1950278-administratora-pablika-arestovali-za-post-pro-mitingi-v-sko/',\n",
       " 'https://www.nur.kz/society/2004194-vystavku-iz-naydennogo-posle-yanvarskih-besporyadkov-oruzhiya-ustroili-v-mazhilise-foto/',\n",
       " 'https://www.nur.kz/society/1985967-nagrazhden-politseyskiy-ranennyy-pri-presechenii-yanvarskih-besporyadkov-video/',\n",
       " 'https://www.nur.kz/society/1965165-propavshego-posle-yanvarskih-besporyadkov-inostrantsa-ischut-v-kazahstane/',\n",
       " 'https://www.nur.kz/society/1954721-deputaty-vstretilis-s-rodnymi-zaderzhannyh-vo-vremya-besporyadkov-v-almaty/',\n",
       " 'https://www.nur.kz/society/1954441-postradavshih-ot-besporyadkov-predprinimateley-osvobodili-ot-arendnoy-platy-za-gosimuschestvo/',\n",
       " 'https://www.nur.kz/society/1959294-pochemu-reshili-snesti-zdanie-rezidentsii-prezidenta-v-almaty/',\n",
       " 'https://www.nur.kz/society/1963741-kogda-semi-pogibshih-v-hode-yanvarskih-sobytiy-silovikov-poluchat-kvartiry-rasskazal-tugzhanov/',\n",
       " 'https://www.nur.kz/society/1964875-semyam-sluchaynyh-zhertv-yanvarskih-sobytiy-vydelyayut-po-7-mln-tenge-iz-fonda-qazaqstan-halqyna/',\n",
       " 'https://www.nur.kz/society/1966358-po-7-mln-tenge-vyplatil-qazaqstan-halqyna-semyam-sluchaynyh-zhertv-yanvarskih-sobytiy/',\n",
       " 'https://www.nur.kz/society/1968299-s-detstva-mechtal-rabotat-v-politsii-o-pogibshih-v-yanvare-politseyskih-rasskazali-ih-rodnye/',\n",
       " 'https://www.nur.kz/society/1972587-tokaev-otvetil-opublikuyut-li-spisok-pogibshih-vo-vremya-yanvarskih-sobytiy/',\n",
       " 'https://www.nur.kz/society/1993512-kak-vosstanavlivayut-sgorevshie-v-yanvare-zdaniya-v-almaty-otvetil-dosaev/',\n",
       " 'https://www.nur.kz/society/1995580-amnistiruemym-uchastnikam-yanvarskih-sobytiy-ne-nuzhno-budet-priznavat-vinu/',\n",
       " 'https://www.nur.kz/society/2002748-pamyatnik-zhertvam-yanvarskih-sobytiy-otkryli-v-almaty/',\n",
       " 'https://www.nur.kz/society/2002758-put-ne-zavershen-kak-vyglyadit-pamyatnik-yanvarskim-sobytiyam-v-almaty-foto/',\n",
       " 'https://www.nur.kz/society/2003119-scheli-i-skoly-sostoyanie-memoriala-v-chest-yanvarskih-sobytiy-vozmutilo-kazahstantsev/',\n",
       " 'https://www.nur.kz/society/2004300-zagovor-protiv-nezavisimosti-koshanov-vyskazalsya-o-yanvarskih-sobytiyah/',\n",
       " 'https://www.akorda.kz/ru/vystuplenie-glavy-gosudarstva-kasym-zhomarta-kemelevicha-na-vneocherednoy-sessii-soveta-kollektivnoy-bezopasnosti-odkb-1002245',\n",
       " 'https://www.akorda.kz/ru/vystuplenie-glavy-gosudarstva-kk-tokaeva-na-zasedanii-mazhilisa-parlamenta-respubliki-kazahstan-1104414',\n",
       " 'https://www.akorda.kz/ru/vystuplenie-glavy-gosudarstva-na-soveshchanii-po-voprosam-protivodeystviya-korrupcii-11339',\n",
       " 'https://www.akorda.kz/ru/vystuplenie-glavy-gosudarstva-na-rasshirennom-zasedanii-pravitelstva-812257',\n",
       " 'https://www.akorda.kz/ru/obrashchenie-glavy-gosudarstva-k-tokaeva-na-ceremonii-posvyashchennoy-pamyati-zhertv-yanvarskih-sobytiy-v-mecheti-hazret-sultan-13139',\n",
       " 'https://www.akorda.kz/ru/vystuplenie-prezidenta-kasym-zhomarta-tokaeva-na-vneocherednom-hhii-sezde-partii-nur-otan-12144',\n",
       " 'https://www.akorda.kz/ru/videoobrashchenie-glavy-gosudarstva-kasym-zhomarta-tokaeva-54382',\n",
       " 'https://www.akorda.kz/ru/vystuplenie-glavy-gosudarstva-kasym-zhomarta-tokaevana-yubileynoy-sessii-nacionalnoy-akademii-nauk-15462',\n",
       " 'https://www.akorda.kz/ru/obrashchenie-glavy-gosudarstva-kasym-zhomarta-tokaeva-k-narodu-kazahstana-354324',\n",
       " 'https://www.akorda.kz/ru/obrashchenie-glavy-gosudarstva-kasym-zhomarta-tokaeva-k-narodu-kazahstana-6525',\n",
       " 'https://www.akorda.kz/ru/vystuplenie-glavy-gosudarstva-na-pervom-zasedanii-nacionalnogo-kurultaya-165936',\n",
       " 'https://www.akorda.kz/ru/vystuplenie-glavy-gosudarstva-na-torzhestvennom-meropriyatii-po-sluchayu-30-letiya-kazahstanskoy-policii-2352050',\n",
       " 'https://www.akorda.kz/ru/vystuplenie-glavy-gosudarstva-kasym-zhomarta-tokaeva-na-rasshirennom-zasedanii-pravitelstva-1463854',\n",
       " 'https://www.akorda.kz/ru/vystuplenie-na-iv-konsultativnoy-vstreche-glav-gosudarstv-centralnoy-azii-2163148',\n",
       " 'https://www.akorda.kz/ru/vystuplenie-glavy-gosudarstva-kk-tokaeva-na-otkrytii-vii-sezda-liderov-mirovyh-i-tradicionnyh-religiy-148152',\n",
       " 'https://www.akorda.kz/ru/vystuplenie-glavy-gosudarstva-kk-tokaeva-na-zakrytii-vii-sezda-liderov-mirovyh-i-tradicionnyh-religiy-1584147',\n",
       " 'https://www.akorda.kz/ru/vystuplenie-prezidenta-kazahstana-kasym-zhomarta-tokaeva-na-zasedanii-soveta-glav-gosudarstv-chlenov-shos-v-rasshirennom-formate-168294',\n",
       " 'https://www.akorda.kz/ru/vystuplenie-prezidenta-kk-tokaeva-na-obshchih-debatah-v-ramkah-77-y-sessii-generalnoy-assamblei-oon-208226',\n",
       " 'https://www.akorda.kz/ru/vystuplenie-prezidenta-kasym-zhomarta-tokaeva-na-torzhestvennoy-ceremonii-vrucheniya-gosudarstvennyh-nagrad-i-premiy-2293245',\n",
       " 'https://www.akorda.kz/ru/vystuplenie-glavy-gosudarstva-kktokaeva-na-ceremonii-inauguracii-2610566',\n",
       " 'https://www.akorda.kz/ru/vystuplenie-glavy-gosudarstva-kasym-zhomarta-tokaeva-na-otkrytii-pervoy-sessii-parlamenta-viii-sozyva-292110']"
      ]
     },
     "execution_count": 33,
     "metadata": {},
     "output_type": "execute_result"
    }
   ],
   "source": [
    "cluster1_url = media_link_dat.loc[media_link_dat.Source.isin(cluster1_agencies),\"Link\"].tolist()\n",
    "cluster1_url"
   ]
  },
  {
   "cell_type": "code",
   "execution_count": 34,
   "id": "771f1252",
   "metadata": {},
   "outputs": [
    {
     "data": {
      "text/plain": [
       "189"
      ]
     },
     "execution_count": 34,
     "metadata": {},
     "output_type": "execute_result"
    }
   ],
   "source": [
    "len(cluster1_url)"
   ]
  },
  {
   "cell_type": "code",
   "execution_count": 35,
   "id": "9b065556",
   "metadata": {},
   "outputs": [
    {
     "data": {
      "text/plain": [
       "['https://www.zakon.kz/6003471-deputaty-mazhilisa-vstretilis-s-protestuiushchimi-zhiteliami-aktau.html',\n",
       " 'https://www.zakon.kz/6003530-protestuiushchie-v-almaty-razoshlis.html',\n",
       " 'https://www.zakon.kz/6003583-mitinguiushchie-shturmuiut-akimat-almaty.html',\n",
       " 'https://www.zakon.kz/6003593-komendant-almaty-prizval-mitinguiushchikh-razoitis-i-izbegat-nasiliia.html',\n",
       " 'https://www.zakon.kz/6003545-osobaia-vina-za-dopushchenie-protestnoi-situatsii-lezhit-na-pravitelstve-tokaev.html',\n",
       " 'https://www.zakon.kz/6003569-nurlan-nogaev-prizval-protestuiushchikh-razoitis.html',\n",
       " 'https://www.zakon.kz/6003580-zarubezhnye-smi-podkliuchilis-k-osveshcheniiu-protestov-v-kazakhstane.html',\n",
       " 'https://www.zakon.kz/6003713-90-tysiach-tenge-predlozhili-inostrantsu-za-uchastie-v-mitinge-v-almaty.html',\n",
       " 'https://www.zakon.kz/6003749-okolo-500-zhitelei-pavlodarskoi-oblasti-nakazany-posle-mitingov-u-zdaniia-akimata.html',\n",
       " 'https://www.zakon.kz/6003766-veteran-spetssluzhb-u-mitinguiushchikh-est-trebovaniia-u-terroristov-net.html',\n",
       " 'https://www.zakon.kz/6003873-v-almatinskoi-oblasti-zaderzhany-675-podozrevaemykh-v-terrorizme.html',\n",
       " 'https://www.zakon.kz/6003764-mid-rk-kazakhstan-protivostoit-terroristam-a-ne-mirnym-protestuiushchim.html',\n",
       " 'https://www.zakon.kz/6003800-erlan-karin-protestnye-aktsii-posluzhili-dymovoi-zavesoi.html',\n",
       " 'https://www.zakon.kz/6003919-tokaev-protiv-nashei-strany-byla-razviazana-terroristicheskaia-voina.html',\n",
       " 'https://www.zakon.kz/6003635-redaktsiia-zakonkz-podverglas-napadeniiu-maroderov.html',\n",
       " 'https://www.zakon.kz/6004010-pozharnye-spasali-liudei-iz-podozhzhennogo-zdaniia-nesmotria-na-poboi-mitinguiushchikh.html',\n",
       " 'https://www.zakon.kz/6004137-v-14-regionakh-kazakhstana-otmenen-krasnyi-uroven-terroristicheskoi-opasnosti.html',\n",
       " 'https://www.zakon.kz/6004178-knb-opublikoval-rezultaty-rozyska-lits-prichastnykh-k-terroristicheskim-aktam.html',\n",
       " 'https://www.zakon.kz/6004208-v-nur-sultane-ustanovlen-vysokii-uroven-terroristicheskoi-opasnosti.html',\n",
       " 'https://www.zakon.kz/6004215-zheltyi-uroven-terroristicheskoi-opasnosti-ustanovlen-v-pavlodarskoi-oblasti.html',\n",
       " 'https://www.zakon.kz/6004325-uali-mitingi-i-sobraniia-teper-mozhno-provodit-v-tsentralnykh-raionakh-gorodov.html',\n",
       " 'https://www.zakon.kz/6004387-knb-v-regionakh-kazakhstana-prodolzhaetsia-antiterroristicheskaia-operatsiia.html',\n",
       " 'https://www.zakon.kz/6004388-genprokuratura-rk-4578-chelovek-postradali-vo-vremia-besporiadkov.html',\n",
       " 'https://www.zakon.kz/6004438-siloviki-dolgo-ne-primeniali-oruzhie-schitaia-proiskhodiashchee-mirnym-protestom-prokuror-almaty.html',\n",
       " 'https://www.zakon.kz/6004434-nachalnik-dp-almaty-rasskazal-kak-mitingi-pererosli-v-terroristicheskie-ataki.html',\n",
       " 'https://www.zakon.kz/6004437-prestupniki-pereodevalis-v-formu-byli-organizovany-nachalnik-dp-almaty.html',\n",
       " 'https://www.zakon.kz/6004440-149-chelovek-pogiblo-vo-vremia-besporiadkov-v-almaty.html',\n",
       " 'https://www.zakon.kz/6004530-terroristy-prikryvalis-mitinguiushchimi-eksperty-ob-almatinskoi-tragedii.html',\n",
       " 'https://www.zakon.kz/6004664-eti-sobytiia-dolzhny-rastsenivatsia-kak-akty-terrorizma-karin.html',\n",
       " 'https://www.zakon.kz/6005007-819-ugolovnykh-del-rassleduet-gp-po-ianvarskim-besporiadkam-v-kazakhstane.html',\n",
       " 'https://www.zakon.kz/6005295-v-odnom-iz-raionov-almaty-vveden-rezhim-antiterroristicheskoi-operatsii.html',\n",
       " 'https://www.zakon.kz/6005618-tokaev-o-reshenii-streliat-po-terroristam-ia-menshe-vsego-dumal-chto-skazhut-na-zapade.html',\n",
       " 'https://www.zakon.kz/6006634-tokaev-o-ianvarskikh-sobytiiakh-tshchatelno-podgotovlennaia-operatsiia-mezhdunarodnykh-terroristov.html',\n",
       " 'https://www.zakon.kz/6006646-tokaev-partnerov-po-odkb-za-podderzhku-v-otrazhenii-terroristicheskoi-ataki.html',\n",
       " 'https://www.zakon.kz/6006290-osnovnymi-uchastnikami-ianvarskikh-mitingov-v-pavlodarskoi-oblasti-byla-aulnaia-molodezh.html',\n",
       " 'https://www.zakon.kz/6007485-besporiadki-2022-18-letnego-bezoruzhnogo-soldata-sbrosili-s-mosta-uchastniki-mitingov.html',\n",
       " 'https://www.zakon.kz/6007191-kazakhstanu-nuzhna-novaia-programma-po-borbe-s-ekstremizmom-staraia-ne-rabotaet-deputat.html',\n",
       " 'https://www.zakon.kz/6007206-afm-vyiavil-fakty-finansirovaniia-terroristov-cherez-platezhnye-organizatsii.html',\n",
       " 'https://www.zakon.kz/6007237-tokaev-nelzia-nazyvat-terroristov-i-banditov-narodnymi-geroiami-i-batyrami.html',\n",
       " 'https://www.zakon.kz/6009226-eto-byla-splanirovannaia-terroristicheskaia-aktsiia-asylov-o-ianvarskikh-besporiadkakh.html',\n",
       " 'https://www.zakon.kz/6009223-asylov-mitingi-iznachalno-byli-mirnye.html',\n",
       " 'https://www.zakon.kz/6009242-sredi-mitinguiushchikh-bylo-mnogo-aziatov-ne-vladeiushchikh-ni-kazakhskim-ni-russkim-iazykami-umarova.html',\n",
       " 'https://ru.sputnik.kz/20220103/tokaev-dal-srochnoe-poruchenie-zhanaozen-19039188.html',\n",
       " 'https://ru.sputnik.kz/20220103/Chto-proiskhodit-v-Aktau-V-sotssetyakh-rasprostranyayutsya-video-s-ploschadi-Yntymak-19040330.html',\n",
       " 'https://ru.sputnik.kz/20220103/gaz-po-50-tenge-za-litr-chto-budet-19042068.html',\n",
       " 'https://ru.sputnik.kz/20220104/protesty-kazakhstan-povyshenie-tsen-na-gaz-19042903.html',\n",
       " 'https://ru.sputnik.kz/20220105/Tokaev-obratilsya-k-kazakhstantsam-19049049.html',\n",
       " 'https://ru.sputnik.kz/20220105/Miting-v-Almaty-chto-seychas-proiskhodit-19049091.html',\n",
       " 'https://ru.sputnik.kz/20220105/mobilnaya-svyaz-kazakhstan-otklyucheniya-19049181.html',\n",
       " 'https://ru.sputnik.kz/20220105/Tokaev-vvel-rezhim-ChP-v-Almaty-i-Mangistauskoy-oblasti-19049583.html',\n",
       " 'https://ru.sputnik.kz/20220105/V-Almaty-vveli-ogranicheniya-na-vezd-i-vyezd-iz-goroda-19049886.html',\n",
       " 'https://ru.sputnik.kz/20220105/Komendantskiy-chas-i-ogranichenie-na-vyezd-kak-budet-deystvovat-rezhim-ChP-v-Mangistau-19049951.html',\n",
       " 'https://ru.sputnik.kz/20220105/Gazovye-protesty-v-Kazakhstane-Tokaev-nazval-vinovnykh-19051664.html',\n",
       " 'https://ru.sputnik.kz/20220105/Tseny-na-produkty-komuslugi-zhile---kakie-porucheniya-dal-Tokaev-posle-protestov-19052118.html',\n",
       " 'https://ru.sputnik.kz/20220105/almaty-mitingi-posledstviya-chp-video-19054254.html',\n",
       " 'https://ru.sputnik.kz/20220105/Protesty-v-Almaty-v-reanimatsii-nakhodyatsya-7-postradavshikh-19057068.html',\n",
       " 'https://ru.sputnik.kz/20220105/Natspalata-Atameken-prizyvaet-vlasti-zaschitit-biznes-ot-maroderstva-19057388.html',\n",
       " 'https://ru.sputnik.kz/20220106/Vosem-politseyskikh-i-soldat-Natsgvardii-pogibli-v-Kazakhstane-v-khode-besporyadkov-19060771.html',\n",
       " 'https://ru.sputnik.kz/20220106/tokaev-protesty-terroristicheskie-bandy-19061741.html',\n",
       " 'https://ru.sputnik.kz/20220106/V-Almaty-nachata-antiterroristicheskaya-spetsoperatsiya-s-tselyu-ustanovleniya-poryadka-v-gorode-19061937.html',\n",
       " 'https://ru.sputnik.kz/20220106/V-politsii-oprovergli-informatsiyu-o-faktakh-maroderstva-v-zhilykh-domakh-Almaty-19063011.html',\n",
       " 'https://ru.sputnik.kz/20220106/odkb-bezopasnost-kazakhstan-19068646.html',\n",
       " 'https://ru.sputnik.kz/20220106/Situatsiya-v-Kazakhstane-posle-besporyadkov-v-Almaty-19069035.html',\n",
       " 'https://ru.sputnik.kz/20220106/Antiterroristicheskaya-operatsiya-v-Almaty-politsiya-prosit-zhiteley-ne-vyezzhat-v-tsentr-goroda-19069953.html',\n",
       " 'https://ru.sputnik.kz/20220106/Besporyadki-v-Almaty-protestuyuschie-polnostyu-razgrabili-7-krupnykh-supermarketov-19070394.html',\n",
       " 'https://ru.sputnik.kz/20220106/Svyshe-odnoy-tysyachi-chelovek-po-vsemu-Kazakhstanu-postradali-v-rezultate-besporyadkov-19071637.html',\n",
       " 'https://ru.sputnik.kz/20220106/V-Kazakhstan-perebrasyvayut-sily-ODKB---video-19073141.html',\n",
       " 'https://ru.sputnik.kz/20220107/besporyadki-kazakhstan-genprokuratura--ugolovnye-dela-19083987.html',\n",
       " 'https://ru.sputnik.kz/20220107/Razbitye-avto-vystrely-dezhurstvo-voennykh-chto-proiskhodit-v-Almaty-19084351.html',\n",
       " 'https://ru.sputnik.kz/20220107/V-rezultate-besporyadkov-v-Kazakhstane-unichtozheno-26-vooruzhennykh-prestupnikov-19084556.html',\n",
       " 'https://ru.sputnik.kz/20220107/Tokaev-provel-zasedanie-kontrterroristicheskogo-shtaba-19084859.html',\n",
       " 'https://ru.sputnik.kz/20220107/Opustevshiy-gorod-i-sledy-pogroma-zhurnalist-Sputnik-o-situatsii-v-Almaty-7-yanvarya-19085852.html',\n",
       " 'https://ru.sputnik.kz/20220107/almaty-besporiadki-abaev-19086619.html',\n",
       " 'https://ru.sputnik.kz/20220109/V-Almaty-oprovergli-soobscheniya-o-vzryve-v-zdanii-politsii-19095083.html',\n",
       " 'https://ru.sputnik.kz/20220110/Besporyadki-v-Kazakhstane-chto-v-eti-dni-proiskhodilo-v-Taraze---videokhronika-sobytiy-19105946.html',\n",
       " 'https://ru.sputnik.kz/20220111/revolyutsiya-orkov-19118856.html',\n",
       " 'https://ru.sputnik.kz/20220112/almaty-sagintaev-akimat-pogrom-19130180.html',\n",
       " 'https://ru.sputnik.kz/20220112/tsentr-operativnogo-upravleniya-almaty-tokaev-19130601.html',\n",
       " 'https://ru.sputnik.kz/20220115/Gosudarstvennyy-perevorot-ili-stikhiynye-mitingi-chto-sluchilos-v-Kazakhstane-19149194.html',\n",
       " 'https://ru.sputnik.kz/20220309/rassledovanie-yanvarskikh-sobytiy-pravookhraniteley-vyzovut-v-parlament-23392627.html',\n",
       " 'https://ru.sputnik.kz/20220105/Dym-grokhot-stychki-s-politsiey-chto-proiskhodilo-na-mitinge-v-Almaty---video-s-mesta-ChP-19049737.html',\n",
       " 'https://ru.sputnik.kz/20220105/Situatsiya-v-Almaty-vzyata-pod-kontrol-vlastey---Sagintaev-19051231.html',\n",
       " 'https://ru.sputnik.kz/20220105/Vlasti-zayavili-o-pogromakh-v-Taraze-19052533.html',\n",
       " 'https://ru.sputnik.kz/20220105/protesty-Kazakhstan-ceny-gaz-defitsit-19055698.html',\n",
       " 'https://ru.sputnik.kz/20220105/komendatura-Almaty-zayavlenie-19056079.html',\n",
       " 'https://ru.sputnik.kz/20220105/V-Almaty-nachalsya-shturm-akimata-19057441.html',\n",
       " 'https://ru.sputnik.kz/20220105/Protestuyuschie-vorvalis-v-zdanie-akimata-Almaty-19057732.html',\n",
       " 'https://ru.sputnik.kz/20220105/Akim-Pavlodarskoy-oblasti-vyshel-k-protestuyuschim-na-tsentralnoy-ploschadi-19058908.html',\n",
       " 'https://ru.sputnik.kz/20220105/Kostry-goryaschie-avtomobili-razgromlennye-ulitsy-kak-vyglyadit-Almaty-seychas---fotofakty-19059519.html',\n",
       " 'https://ru.sputnik.kz/20220105/Shturm-akimata-Almaty-sotrudnikov-uspeli-evakuirovat-19060069.html',\n",
       " 'https://ru.sputnik.kz/20220105/Gorod-podvergsya-atakam-radikalov-izbity-bolee-500-grazhdanskikh-lits---komendatura-Almaty-19060647.html',\n",
       " 'https://ru.sputnik.kz/20220106/Voennye-na-BTR-i-bronemashinakh-vzyali-v-koltso-pogromschikov-v-tsentre-Almaty-19067506.html',\n",
       " 'https://ru.sputnik.kz/20220106/narodnye-druzhiny-almaty-19067892.html',\n",
       " 'https://ru.sputnik.kz/20220106/Lukashenko-prizval-mitinguyuschikh-v-Kazakhstane-k-peregovoram-s-Tokaevym-19074854.html',\n",
       " 'https://ru.sputnik.kz/20220106/Protestuyuschie-perekryli-dorogu-k-dvum-bolnitsam-v-Almaty-19075028.html',\n",
       " 'https://ru.sputnik.kz/20220106/Na-ploschadi-Respubliki-v-Almaty-ostayutsya-250-300-protestuyuschikh-19076244.html',\n",
       " 'https://ru.sputnik.kz/20220106/Posledstviya-besporyadkov-v-Kazakhstane-foto-kotorye-zastavyat-sodrognutsya--19076276.html',\n",
       " 'https://ru.sputnik.kz/20220107/Tokaev-vystupil-s-tretim-obrascheniem-k-kazakhstantsam-s-nachala-besporyadkov-19088154.html',\n",
       " 'https://ru.sputnik.kz/20220108/Tokaev-zayavil-Putinu-chto-v-Kazakhstane-prodolzhat-borbu-s-ochagami-terroristicheskikh-atak-19093608.html',\n",
       " 'https://ru.sputnik.kz/20220109/Glava-MVD-20-tysyach-chelovek-pribylo-5-yanvarya-v-Almaty---19095671.html',\n",
       " 'https://ru.sputnik.kz/20220109/19096252.html',\n",
       " 'https://ru.sputnik.kz/20220109/Pochti-2-300-chelovek-obratilis-za-medpomoschyu-iz-za-besporyadkov-v-Kazakhstane-19098743.html',\n",
       " 'https://ru.sputnik.kz/20220109/V-Kazakhstane-za-vremya-massovykh-besporyadkov-pogibli-164-cheloveka-19098907.html',\n",
       " 'https://ru.sputnik.kz/20220109/Operatsiya-protiv-terroristov-v-Kazakhstane-prodolzhitsya-do-ikh-polnogo-unichtozheniya-19099008.html',\n",
       " 'https://ru.sputnik.kz/20220109/Shturm-na-departament-politsii-Almaty-byl-chetko-splanirovan---opershtab-19099889.html',\n",
       " 'https://ru.sputnik.kz/20220213/miting-v-pamyat-o-pogibshikh-v-yanvarskikh-besporyadkakh-prokhodit-v-almaty---22746575.html',\n",
       " 'https://ru.sputnik.kz/20220221/yanvarskie-besporyadki-prestupniki-perekryli-vosem-poezdov-22959430.html',\n",
       " 'https://ru.sputnik.kz/20220224/akim-almatinskoy-oblasti-rasskazal-gde-byl-i-chto-delal-v-dni-besporyadkov-23058156.html',\n",
       " 'https://ru.sputnik.kz/20220225/ne-dumali-chto-budut-izbivat-politseyskiy-rasskazal-o-sobytiyakh-tragicheskogo-yanvarya-23079228.html',\n",
       " 'https://ru.sputnik.kz/20220106/V-Almaty-idut-boi-s-pogromschikami-terroristami-19063605.html',\n",
       " 'https://ru.sputnik.kz/20220314/pytki-posle-massovye-besporyadkov-zaderzhany-8-sotrudnikov-knb-i-1-politseyskiy-23492785.html',\n",
       " 'https://ru.sputnik.kz/20220314/eto-byla-mest-prezidentu-ot-knb-obschestvennik-umarova-o-sobytiyakh-yanvarya-23495447.html',\n",
       " 'https://ru.sputnik.kz/20220314/yanvarskie-sobytiya-bolee-4-tysyach-chelovek-poluchili-raneniya-i-uvechya--ombudsmen-23495708.html',\n",
       " 'https://ru.sputnik.kz/20220314/uchastvovavshie-v-yanvarskikh-besporyadkakh-podrostki-ne-nakhodyatsya-pod-strazhey-23497060.html',\n",
       " 'https://ru.sputnik.kz/20220314/19-inostrantsev-podozrevayut-v-uchastii-v-yanvarskikh-sobytiyakh-v-kazakhstane-23498303.html',\n",
       " 'https://ru.sputnik.kz/20220302/pochemu-tak-dolgo-idet-rassledovanie-yanvarskikh-besporyadkov--otvet-spikera-mazhilisa-23227820.html',\n",
       " 'https://ru.sputnik.kz/20220303/razdavali-armaturu-geroi-rezonansnogo-video-rasskazali-ob-uchastii-v-besporyadkakh-23279137.html',\n",
       " 'https://ru.sputnik.kz/20220314/svyshe-50-tys-kazakhstantsev-uchastvovali-v-yanvarskikh-besporyadkakh--genprokuratura-23492111.html',\n",
       " 'https://ru.sputnik.kz/20220314/kogda-vosstanovyat-sozhzhennyy-v-khode-besporyadkov-almatinskiy-akimat-23498594.html',\n",
       " 'https://ru.sputnik.kz/20220404/podozhgli-telo-chtoby-skryt-uliki-genprokuratura-o-zverskom-ubiystve-silovikov-23942366.html',\n",
       " 'https://ru.sputnik.kz/20220409/besporyadki-almaty-rozysk-poterpevshie-24094470.html',\n",
       " 'https://ru.sputnik.kz/20220413/qazaqstan-khalqyna-vyplatit-po-7-mln-tenge-semyam-sluchaynykh-pogibshikh-v-yanvarskikh-sobytiyakh-24185537.html',\n",
       " 'https://ru.sputnik.kz/20220507/uroki-tragicheskogo-yanvarya-zaschitniki-otechestva-ne-sdayut-pozitsii-24695052.html',\n",
       " 'https://ru.sputnik.kz/20220601/v-genprokurature-nazvali-prichiny-zatyanuvshegosya-rassledovaniya-yanvarskoy-tragedii-25222839.html',\n",
       " 'https://ru.sputnik.kz/20220601/za-lozhnuyu-informatsiyu-ob-yanvarskikh-sobytiyakh-na-kazakhstantsev-zavedeno-19-ugolovnykh-del---mvd-25223615.html',\n",
       " 'https://ru.sputnik.kz/20220615/tokaev-vo-vremya-yanvarskikh-sobytiy-mne-sovetovali-pokinut-stranu-25535572.html',\n",
       " 'https://ru.sputnik.kz/20220615/tokaev-organizatory-yanvarskikh-besporyadkov-smogli-zamesti-sledy-25544980.html',\n",
       " 'https://ru.sputnik.kz/20220629/devyat-silovikov-pytki-yanvar-genprokuratura-25828263.html',\n",
       " 'https://ru.sputnik.kz/20220718/posle-yanvarskikh-sobytiy-chislo-del-po-faktam-terrorizma-vyroslo-v-4-raza-26189695.html',\n",
       " 'https://ru.sputnik.kz/20220801/mvd-priznalo-poterpevshimi-v-yanvarskikh-sobytiyakh-svyshe-1700-kazakhstantsev-26460298.html',\n",
       " 'https://ru.sputnik.kz/20220816/genprokuratura-kazakhstana-opublikovala-spisok-lits-pogibshikh-vo-vremya-yanvarskikh-sobytiy-26761482.html',\n",
       " 'https://ru.sputnik.kz/20220821/taraz-prigovor-uchastniki-yanvarskie-besporyadki-26895852.html',\n",
       " 'https://ru.sputnik.kz/20220923/genprokuratura-vynesla-na-obsuzhdenie-zakonoproekt-ob-amnistii-uchastnikov-yanvarskikh-sobytiy-27827879.html',\n",
       " 'https://ru.sputnik.kz/20221023/tokaev-ne-pokidal-akordu-v-techenie-10-dney---koshanov-o-yanvarskikh-sobytiyakh-28723635.html',\n",
       " 'https://ru.sputnik.kz/20221102/tokaev-podpisal-zakon-ob-amnistii-uchastnikov-yanvarskikh-sobytiy-28988991.html',\n",
       " 'https://ru.sputnik.kz/20221110/kak-idet-amnistiya-uchastnikov-yanvarskoy-tragedii-rasskazali-tokaevu-29207965.html',\n",
       " 'https://ru.sputnik.kz/20221228/almatinskim-biznesmenam-vozmestili-uscherb-nanesennyy-vo-vremya-yanvarskikh-besporyadkov-30693678.html',\n",
       " 'https://ru.sputnik.kz/20230105/khronologiya-yanvarskikh-sobytiy-polnostyu-vosstanovlena---genprokuror-30863149.html',\n",
       " 'https://ru.sputnik.kz/20230105/podgotovka-k-yanvarskim-sobytiyam-provodilas-esche-v-2021-godu---genprokuror-30865633.html',\n",
       " 'https://ru.sputnik.kz/20230105/sredi-podozrevaemykh-po-yanvarskim-besporyadkam-est-inostrannye-grazhdane---genprokuror-30869511.html',\n",
       " 'https://ru.sputnik.kz/20230106/grazhdane-tadzhikistana-ne-uchastvovali-v-popytke-gosperevorota-v-kazakhstane-30910188.html',\n",
       " 'https://ru.sputnik.kz/20230515/11-sotrudnikov-knb-kazakhstana-predadut-sudu-v-svyazi-s-yanvarskimi-besporyadkami-34886793.html',\n",
       " 'https://www.zakon.kz/6016229-my-nastaivaem-chto-eto-byla-terroristicheskaia-ataka-tokaev-pro-ianvarskie-sobytiia.html',\n",
       " 'https://www.zakon.kz/6018453-ianvarskie-sobytiia-8-del-rassleduiut-po-aktam-terrorizma.html',\n",
       " 'https://www.zakon.kz/6380777-berik-asylov-vyskazalsya-o-20-tysyachakh-terroristov.html',\n",
       " 'https://www.zakon.kz/6380757-do-sikh-por-ne-naydeny-te-kto-v-voennoy-forme-upravlyal-uchastnikami-mitinga-genprokuror.html',\n",
       " 'https://www.zakon.kz/6380750-khronologiya-sobytiy-yanvar-2022-goda-v-regionakh-kazakhstana.html',\n",
       " 'https://www.zakon.kz/6380782-tragicheskiy-yanvar-bolee-16-mlrd-tenge-poluchili-postradavshie-biznesmeny-almaty.html',\n",
       " 'https://www.zakon.kz/6380846-kantar-ostavil-neizgladimuyu-ranu-v-dushe-kazhdogo-kazakhstantsa.html',\n",
       " 'https://www.zakon.kz/6377642-khronologiya-protestov-tsel-banditov-telekanal-almaty-snyal-film-o-yanvarskikh-sobytiyakh.html',\n",
       " 'https://www.zakon.kz/6005006-besporiadki-2022-genprokuratura-rassleduet-819-ugolovnykh-del.html',\n",
       " 'https://www.zakon.kz/6005009-besporiadki-2022-iz-pod-aresta-osvobozhdeny-1083-cheloveka.html',\n",
       " 'https://www.zakon.kz/6005143-besporiadki-2022-muzhchina-rasskazal-kak-zavladel-svetoshumovymi-granatami.html',\n",
       " 'https://www.zakon.kz/6005149-besporiadki-2022-1481-ugolovnoe-delo-rassleduet-politsiia-almaty.html',\n",
       " 'https://www.zakon.kz/6005219-my-gotovy-okazat-pomoshch-si-tszinpin-vyskazalsia-pro-besporiadki-v-kazakhstane.html',\n",
       " 'https://www.zakon.kz/6005232-besporiadki-2022-v-kazakhstane-sozdali-komissiiu-po-obshchestvennomu-rassledovaniiu.html',\n",
       " 'https://www.zakon.kz/6005255-besporiadki-2022-chast-del-po-gibeli-sredi-grazhdanskikh-perekvalifitsirovali.html',\n",
       " 'https://www.zakon.kz/6006331-besporiadki-2022-467-chelovek-nakhodiatsia-pod-strazhei.html',\n",
       " 'https://www.zakon.kz/6006400-akim-almaty-rasskazal-kogda-postradavshie-ot-besporiadkov-biznesmeny-poluchat-kompensatsiiu.html',\n",
       " 'https://www.zakon.kz/6006590-bolee-130-del-po-faktam-smerti-podozrevaemykh-i-pytok-rassleduiut-v-genprokurature.html',\n",
       " 'https://www.zakon.kz/6006598-besporiadki-2022-kakie-narusheniia-vyiavili-pravozashchitniki-pri-poseshchenii-sizo.html',\n",
       " 'https://www.zakon.kz/6006790-besporiadki-v-almaty-medik-i-pozharnyi-rasskazali-o-napadeniiakh.html',\n",
       " 'https://www.zakon.kz/6007484-besporiadki-2022-osuzhdeny-52-cheloveka.html',\n",
       " 'https://www.zakon.kz/6007497-mvd-sdavshie-dobrovolno-oruzhie-ne-budut-privlekatsia-k-ugolovnoi-otvetstvennosti.html',\n",
       " 'https://www.zakon.kz/6008340-besporiadki-2022-pokhishchennoe-imushchestvo-na-summu-288-mln-tenge-iziato-politsiei.html',\n",
       " 'https://www.zakon.kz/6008473-besporiadki-2022-bolee-37-mlrd-tenge-vydelili-predprinimateli-almaty.html',\n",
       " 'https://www.zakon.kz/6008949-besporiadki-v-almaty-rassmotreny-vse-zaiavki-biznesmenov.html',\n",
       " 'https://www.zakon.kz/6009592-ianvarskie-besporiadki-zaderzhali-trekh-chelovek-obokravshikh-magaziny-v-aeroportu-almaty.html',\n",
       " 'https://www.zakon.kz/6010631-ianvarskie-besporiadki-zaderzhan-odin-iz-napadavshikh-na-zdanie-dp-almaty.html',\n",
       " 'https://www.zakon.kz/6019010-besporiadki-2020-kogda-biznesu-kompensiruiut-ushcherb-rasskazal-dosaev.html',\n",
       " 'https://www.zakon.kz/6019902-bolshinstvo-uchastnikov-besporiadkov-v-ianvare-sovershali-krazhi-i-pokhishchali-oruzhie-mvd.html',\n",
       " 'https://www.zakon.kz/6021112-ianvarskie-besporiadki-pod-strazhei-ostaiutsia-286-podozrevaemykh.html',\n",
       " 'https://www.zakon.kz/6021114-ianvarskie-besporiadki-ushcherb-na-bolee-343-mln-tenge-vozmestili-kazakhstantsam.html',\n",
       " 'https://www.zakon.kz/6022378-svyshe-12-tys-oruzhiia-bylo-pokhishcheno-vo-vremia-napadenii-na-zdaniia-organov-pravoporiadka.html',\n",
       " 'https://www.zakon.kz/6378912-yanvarskie-besporyadki-637-mln-tenge-vyplatili-semyam-pogibshikh.html',\n",
       " 'https://www.zakon.kz/6379636-yanvarskie-besporyadki-160-chelovek-poluchili-tyuremnye-sroki.html',\n",
       " 'https://www.zakon.kz/6380155-yanvarskie-besporyadki-deputat-priglasil-genprokurora-v-mazhilis.html',\n",
       " 'https://www.zakon.kz/6380744-besporyadki2022-eksministr-oborony-bektanov-otdaval-nezakonnye-prikazy.html',\n",
       " 'https://www.zakon.kz/6381964-yanvarskie-besporyadki-udarivshego-politseyskogo-zhitelya-atyrauskoy-oblasti-osudili.html',\n",
       " 'https://tengrinews.kz/kazakhstan_news/saparbaev-rasskazal-sojjennyih-avto-postradavshih-zdaniyah-458244/',\n",
       " 'https://tengrinews.kz/kazakhstan_news/poyavilis-dannyie-po-postradavshim-v-almatyi-458269/',\n",
       " 'https://tengrinews.kz/kazakhstan_news/mitingi-v-kazahstane-chto-proishodit-v-regionah-458275/',\n",
       " 'https://tengrinews.kz/kazakhstan_news/protestuyuschie-shturmuyut-akimat-almatyi-zdanie-zagorelos-458277/',\n",
       " 'https://tengrinews.kz/kazakhstan_news/uchastniki-besporyadkov-prepyatstvuyut-rabote-skoroy-gromyat-458280/',\n",
       " 'https://tengrinews.kz/kazakhstan_news/produktovyie-magazinyi-almatyi-podverglis-maroderstvu-458282/',\n",
       " 'https://tengrinews.kz/kazakhstan_news/besporyadki-kazahstane-pogibli-8-politseyskih-458292/',\n",
       " 'https://tengrinews.kz/crime/vskryityie-bankomatyi-razgrablennyie-magazinyi-ponesshie-458306/',\n",
       " 'https://tengrinews.kz/kazakhstan_news/mid-sdelal-zayavlenie-iz-za-besporyadkov-v-kazahstane-458319/',\n",
       " 'https://tengrinews.kz/kazakhstan_news/besporyadki-almatyi-politsiyu-dostavili-okolo-2-tyisyach-458342/',\n",
       " 'https://tengrinews.kz/kazakhstan_news/mvd-pogibli-18-sotrudnikov-silovyih-struktur-458346/',\n",
       " 'https://docs.google.com/spreadsheets/d/1hkhAI-JJInHha2VeSl6FhCU46ACMmTWGsrAhauZYTFw/edit?pli=1#gid=0',\n",
       " 'https://tengrinews.kz/kazakhstan_news/kak-vyiglyadela-glavnaya-ploschad-almatyi-posle-pogromov-458403/',\n",
       " 'https://tengrinews.kz/kazakhstan_news/trts-asia-park-gorel-v-almatyi-458426/',\n",
       " 'https://tengrinews.kz/kazakhstan_news/sredi-zaderjannyih-za-besporyadki-est-inostrantsyi-mvd-458439/',\n",
       " 'https://tengrinews.kz/tv/novosti/proisshestviya/9021/',\n",
       " 'https://tengrinews.kz/kazakhstan_news/nazarbaev-sam-peredal-post-glavyi-sovbeza-tokaevu-sovetnik-458536/',\n",
       " 'https://tengrinews.kz/kazakhstan_news/besporyadki-v-kazahstane-nazvano-chislo-pogibshih-458569/',\n",
       " 'https://tengrinews.kz/kazakhstan_news/besporyadki-v-jambyilskoy-oblasti-zaderjanyi-11-chelovek-458585/',\n",
       " 'https://tengrinews.kz/kazakhstan_news/departament-politsii-almatyi-derjal-oboronu-5-utra-458625/',\n",
       " 'https://tengrinews.kz/kazakhstan_news/tokaev-podgotovka-k-besporyadkam-shla-prodoljitelnoe-vremya-458678/',\n",
       " 'https://tengrinews.kz/kazakhstan_news/poyavilsya-polnyiy-tekst-vyistupleniya-tokaeva-onlayn-458700/',\n",
       " 'https://tengrinews.kz/kazakhstan_news/besporyadki-kazahstane-prezident-tokaev-otsenil-458732/',\n",
       " 'https://tengrinews.kz/kazakhstan_news/v-kyizyilorde-zaderjali-podozrevaemogo-v-ubiystve-soldata-458774/',\n",
       " 'https://tengrinews.kz/kazakhstan_news/prezident-tokaev-vyistupaet-zasedanii-majilisa-458776/',\n",
       " 'https://tengrinews.kz/kazakhstan_news/prezident-tokaev-raskritikoval-knb-458779/',\n",
       " 'https://tengrinews.kz/kazakhstan_news/mirotvortsyi-odkb-budut-vyivedenyi-v-techenie-10-dney-tokaev-458769/',\n",
       " 'https://tengrinews.kz/kazakhstan_news/myi-mogli-poteryat-stranu-prezident-tokaev-458783/',\n",
       " 'https://tengrinews.kz/kazakhstan_news/tokaev-gosudarstvo-prospalo-nalichie-spyaschih-yacheek-458797/',\n",
       " 'https://tengrinews.kz/kazakhstan_news/tokaev-glavah-departamentov-knb-pokidali-zdaniya-ne-vstupaya-458770/',\n",
       " 'https://tengrinews.kz/kazakhstan_news/bank-razvitiya-kazahstana-prevratilsya-lichnyiy-bank-458777/',\n",
       " 'https://tengrinews.kz/kazakhstan_news/podnyat-zarplatu-sotrudnikam-silovyih-spetspodrazdeleniy-458813/',\n",
       " 'https://tengrinews.kz/kazakhstan_news/druzyam-vse-ostalnyim-zakonu-tokaev-raskritikoval-meryi-458827/',\n",
       " 'https://tengrinews.kz/kazakhstan_news/besporyadki-kostanaekidali-kokteyl-molotova-pyitalis-458704/',\n",
       " 'https://tengrinews.kz/kazakhstan_news/utilsbor-lrt-fond-pomoschi-kazahstantsam-polnaya-rech-458818/',\n",
       " 'https://tengrinews.kz/kazakhstan_news/besporyadki-almatyi-pojarnyie-spasali-lyudey-podvergayas-458888/',\n",
       " 'https://tengrinews.kz/kazakhstan_news/almatinets-pokazal-posledstviya-besporyadkov-vyisotyi-458788/',\n",
       " 'https://tengrinews.kz/kazakhstan_news/li-rasschityivat-strahovku-massovyih-besporyadkov-458885/',\n",
       " 'https://tengrinews.kz/article/boyalis-vklyuchat-svet-v-almatinskom-roddome-vremya-1722/',\n",
       " 'https://tengrinews.kz/kazakhstan_news/besporyadki-kazahstane-uscherb-biznesu-prevyisil-100-458948/',\n",
       " 'https://tengrinews.kz/kazakhstan_news/sotrudniki-gosmuzeya-almatyi-spasli-ranenyih-kursantov-458944/',\n",
       " 'https://tengrinews.kz/kazakhstan_news/byilo-predprinyato-27-atak-saltanat-azirbek-rasskazala-458833/',\n",
       " 'https://tengrinews.kz/kazakhstan_news/organizatorov-massovyih-besporyadkov-arestovali-v-kostanae-458994/',\n",
       " 'https://tengrinews.kz/kazakhstan_news/napadavshih-almatinskie-magazinyi-maroderov-zaderjali-459028/',\n",
       " 'https://tengrinews.kz/kazakhstan_news/ne-boyatsya-straha-jit-besporyadkov-rasskazal-psiholog-458721/',\n",
       " 'https://tengrinews.kz/kazakhstan_news/knb-obyyavil-otmene-krasnogo-urovnya-terroristicheskoy-459046/',\n",
       " 'https://tengrinews.kz/kazakhstan_news/kakie-rayonyi-almatyi-zachistili-ot-terroristov-13-yanvarya-459048/',\n",
       " 'https://tengrinews.kz/article/bandityi-hoteli-sjech-210-voennyih-selchane-svoy-okrug-1726/',\n",
       " 'https://tengrinews.kz/kazakhstan_news/genprokuratura-zapustila-sayt-anonimnyih-soobscheniy-459056/',\n",
       " 'https://tengrinews.kz/kazakhstan_news/vyiglyadela-almatinskaya-tragediya-epitsentra-sobyitiy-458954/',\n",
       " 'https://tengrinews.kz/kazakhstan_news/za-1-den-zagadili-predprinimateli-pokazali-ruinyi-svoego-459097/',\n",
       " 'https://tengrinews.kz/tv/novosti/obschestvo/9027/',\n",
       " 'https://tengrinews.kz/crime/besporyadki-v-kazahstane-nazvano-kolichestvo-arestovannyih-459123/',\n",
       " 'https://tengrinews.kz/crime/situatsiya-v-almatinskoy-oblastinormalizovalas-dp-regiona-459190/',\n",
       " 'https://tengrinews.kz/kazakhstan_news/chetko-splochenno-napadavshih-zdanie-dp-almatyi-svyishe-1000-459188/',\n",
       " 'https://tengrinews.kz/kazakhstan_news/izbityie-ranenyie-soldatyi-natsgvardii-vozvraschalis-459192/',\n",
       " 'https://tengrinews.kz/crime/rossiyanka-pogibla-vo-vremya-besporyadkov-v-taraze-459218/',\n",
       " 'https://tengrinews.kz/kazakhstan_news/spetsnaz-natsgvardii-pokazal-foto-postradavshey-besporyadkah-459231/',\n",
       " 'https://tengrinews.kz/kazakhstan_news/besporyadki-almatyi-obstrele-bronemashin-arlan-rasskazali-459236/',\n",
       " 'https://tengrinews.kz/kazakhstan_news/tokaev-poruchil-razobratsya-stepenyu-vinyi-zaderjannyih-459241/',\n",
       " 'https://tengrinews.kz/crime/opublikovano-video-poslednih-chasov-jizni-rossiyanki-459249/',\n",
       " 'https://tengrinews.kz/crime/podrobnosti-smerti-rossiyanki-v-taraze-ozvuchili-v-politsii-459261/',\n",
       " 'https://tengrinews.kz/kazakhstan_news/nazvano-chislo-pogibshih-hode-massovyih-besporyadkov-459294/',\n",
       " 'https://tengrinews.kz/kazakhstan_news/100-zaderjannyih-vremya-besporyadkov-otpustili-proverki-459300/',\n",
       " 'https://tengrinews.kz/kazakhstan_news/nekotoryie-postradavshie-ne-ponimali-kazahskiy-russkiy-459301/',\n",
       " 'https://tengrinews.kz/kazakhstan_news/postupali-molodyie-rebyata-vrachi-besporyadkah-almatyi-459319/',\n",
       " 'https://tengrinews.kz/kazakhstan_news/17-jalob-sotrudnikov-politsii-postupilo-telefon-doveriya-mvd-459332/',\n",
       " 'https://tengrinews.kz/kazakhstan_news/41-telo-pohischeno-glava-politsii-almatyi-rasskazal-459349/',\n",
       " 'https://tengrinews.kz/kazakhstan_news/nazvano-chislo-pogibshih-v-almatyi-459346/',\n",
       " 'https://tengrinews.kz/kazakhstan_news/besporyadki-almatyi-405-ugolovnyih-del-rassleduet-politsiya-459350/',\n",
       " 'https://tengrinews.kz/news/besporyadki-kazahstane-mvd-obratilos-ochevidtsam-459430/',\n",
       " 'https://tengrinews.kz/kazakhstan_news/puli-smesyu-almatinets-pokazal-kvartiru-besporyadkov-459413/',\n",
       " 'https://tengrinews.kz/kazakhstan_news/besporyadki-kazahstane-genprokuratura-obnovila-dannyie-459497/',\n",
       " 'https://tengrinews.kz/crime/podozrevaemogo-napadenii-gosorgan-zaderjali-taldyikorgane-459540/',\n",
       " 'https://tengrinews.kz/kazakhstan_news/chlenyi-ekstremistskih-organizatsiy-uchastvovali-pogromah-459558/',\n",
       " 'https://tengrinews.kz/kazakhstan_news/armaturoy-bili-vyijivshie-besporyadkah-voennyie-rasskazali-459559/',\n",
       " 'https://tengrinews.kz/kazakhstan_news/besporyadki-almatyi-kakuyu-pomosch-poluchat-postradavshie-459708/',\n",
       " 'https://tengrinews.kz/kazakhstan_news/uchastnikov-besporyadkov-chasche-vyidayut-mirnyih-459702/',\n",
       " 'https://tengrinews.kz/kazakhstan_news/poryadok-vozmescheniya-uscherba-besporyadkov-utverdili-459768/',\n",
       " 'https://tengrinews.kz/kazakhstan_news/besporyadki-v-kazahstane-vozbujdeno-1822-ugolovnyih-dela-459909/',\n",
       " 'https://tengrinews.kz/accidents/kak-filme-zombi-operativnik-rasskazal-oboronyali-459921/',\n",
       " 'https://tengrinews.kz/kazakhstan_news/zaderjanyi-troe-podozrevaemyih-maroderstve-jiteley-460065/',\n",
       " 'https://tengrinews.kz/kazakhstan_news/1500-zdaniy-soorujeniy-postradali-besporyadkah-kazahstanu-460167/',\n",
       " 'https://tengrinews.kz/kazakhstan_news/pulemetyi-avtomatyi-granatyi-skolko-pohischennogo-orujiya-460172/',\n",
       " 'https://tengrinews.kz/kazakhstan_news/kidali-kamni-lezli-vorota-dvuh-mnogodetnyih-materey-460188/',\n",
       " 'https://tengrinews.kz/kazakhstan_news/uscherb-besporyadkov-kyizyilordinskoy-oblasti-prevyisil-460271/',\n",
       " 'https://tengrinews.kz/crime/razdavali-armaturyi-vremya-besporyadkov-zaderjanyi-6-jiteley-460635/',\n",
       " 'https://tengrinews.kz/kazakhstan_news/yanvarskie-besporyadki-72-ugolovnyih-dela-rassleduet-460963/',\n",
       " 'https://tengrinews.kz/crime/besporyadki-taraze-zaderjan-podozrevaemyiy-podjoge-461093/',\n",
       " 'https://tengrinews.kz/crime/yanvarskie-besporyadki-izyyato-747-edinits-orujiya-svyishe-461109/',\n",
       " 'https://tengrinews.kz/accidents/tragicheskiy-yanvar-poyavilis-video-s-maroderami-v-almatyi-461137/',\n",
       " 'https://tengrinews.kz/kazakhstan_news/telekanal-pokazal-ne-publikovavshiesya-kadryi-massovyih-461163/',\n",
       " 'https://tengrinews.kz/kazakhstan_news/videla-etot-ujas-glava-komissii-rassledovaniyu-yanvarskih-460859/',\n",
       " 'https://tengrinews.kz/kazakhstan_news/besporyadki-kazahstane-arestovanyi-35-chlenov-zapreschennyih-461290/',\n",
       " 'https://tengrinews.kz/kazakhstan_news/besporyadki-v-kazahstane-zaderjanyi-lideryi-i-uchastniki-opg-461552/',\n",
       " 'https://tengrinews.kz/kazakhstan_news/besporyadkah-almatyi-postradali-130-kursantov-minoboronyi-461644/',\n",
       " 'https://tengrinews.kz/kazakhstan_news/besporyadki-shyimkente-opublikovana-videohronologiya-461667/',\n",
       " 'https://tengrinews.kz/kazakhstan_news/tokaev-provel-operativnoe-soveschanie-soveta-bezopasnosti-461756/',\n",
       " 'https://tengrinews.kz/kazakhstan_news/knb-rassmatrivaet-15-del-gosizmene-popyitke-zahvata-vlasti-461909/',\n",
       " 'https://tengrinews.kz/kazakhstan_news/besporyadki-almatyi-milliard-tenge-kompensirovali-462009/',\n",
       " 'https://tengrinews.kz/kazakhstan_news/besporyadki-almatyi-portret-arestovannyih-sostavili-462117/',\n",
       " 'https://tengrinews.kz/news/vseh-protestah-te-pyitaetsya-vospolzovatsya-situatsiey-462192/',\n",
       " 'https://tengrinews.kz/kazakhstan_news/byil-gosudarstvennyiy-perevorot-tokaev-yanvarskih-sobyitiyah-462218/',\n",
       " 'https://tengrinews.kz/kazakhstan_news/yanvarskie-besporyadki-v-almatyi-nachali-sudit-maroderov-462464/',\n",
       " 'https://tengrinews.kz/kazakhstan_news/besporyadki-almatyi-video-razgrableniya-aeroporta-lyudmi-462606/',\n",
       " 'https://tengrinews.kz/kazakhstan_news/sledovatel-iz-almatyi-nashey-tselyu-byilo-sohranit-gorod-462996/',\n",
       " 'https://tengrinews.kz/kazakhstan_news/rassledovanii-yanvarskoy-tragedii-rasskazali-genprokurature-463137/',\n",
       " 'https://tengrinews.kz/kazakhstan_news/yanvarskie-besporyadki-zaderjan-napadavshiy-zdaniya-politsii-465345/',\n",
       " 'https://tengrinews.kz/kazakhstan_news/v-yanvarskih-besporyadkah-uchastvovali-12-opg-genprokuratura-466178/',\n",
       " 'https://tengrinews.kz/kazakhstan_news/yanvarskie-besporyadki-zavershatsya-vyiplatyi-postradavshemu-466767/',\n",
       " 'https://tengrinews.kz/kazakhstan_news/yanvarskie-besporyadki-chislo-podozrevaemyih-uchastnikov-467829/',\n",
       " 'https://tengrinews.kz/kazakhstan_news/yanvarskie-besporyadki-445-chelovek-osujdenyi-v-kazahstane-472145/',\n",
       " 'https://tengrinews.kz/kazakhstan_news/yanvarskie-sobyitiya-kgd-vnes-popravki-pravila-kompensatsii-474617/',\n",
       " 'https://tengrinews.kz/kazakhstan_news/vidim-popyitki-opravdat-prestupnyie-deyaniya-tokaev-483235/',\n",
       " 'https://tengrinews.kz/kazakhstan_news/spetsoperatsiya-knb-massovyie-besporyadki-planirovali-20-483407/',\n",
       " 'https://tengrinews.kz/kazakhstan_news/ya-sih-por-ne-mogu-skazat-bol-pritupilas-vdova-pogibshego-486388/',\n",
       " 'https://tengrinews.kz/kazakhstan_news/yanvarskie-sobyitiya-obstoyatelstvah-gibeli-238-vyiskazalis-486768/',\n",
       " 'https://tengrinews.kz/kazakhstan_news/doljnyi-izvlech-uroki-etoy-tragedii-tokaev-otkryitii-486813/',\n",
       " 'https://tengrinews.kz/kazakhstan_news/oni-spokoyno-najimali-kurok-zatyanuvsheesya-dejurstvo-486586/',\n",
       " 'https://tengrinews.kz/kazakhstan_news/god-peremen-izmenilsya-kazahstan-yanvarskih-sobyitiy-487309/',\n",
       " 'https://tengrinews.kz/kazakhstan_news/kto-to-napadavshih-skazal-on-umer-izbivali-politseyskih-463249/',\n",
       " 'https://tengrinews.kz/kazakhstan_news/gorod-otdali-rasterzanie-yanvarskie-sobyitiya-glazami-486611/',\n",
       " 'https://tengrinews.kz/kazakhstan_news/zachem-vzyal-kreslo-istoriya-amnistirovannogo-yanvarskim-487435/',\n",
       " 'https://tengrinews.kz/kazakhstan_news/genprokuror-ogon-napadavshim-otkryit-vyistupleniya-487761/',\n",
       " 'https://tengrinews.kz/kazakhstan_news/dikogo-armana-koordiniroval-kurator-iz-knb-genprokuror-487760/',\n",
       " 'https://tengrinews.kz/kazakhstan_news/erlan-karin-myi-smogli-izbejat-natsionalnoy-katastrofyi-487805/',\n",
       " 'https://tengrinews.kz/kazakhstan_news/myi-lejali-detmi-koridore-dalekom-okon-meste-ochen-strashno-486641/']"
      ]
     },
     "execution_count": 35,
     "metadata": {},
     "output_type": "execute_result"
    }
   ],
   "source": [
    "cluster2_url = media_link_dat.loc[media_link_dat.Source.isin(cluster2_agencies),\"Link\"].tolist()\n",
    "cluster2_url"
   ]
  },
  {
   "cell_type": "code",
   "execution_count": 36,
   "id": "a5dc6605",
   "metadata": {},
   "outputs": [
    {
     "data": {
      "text/plain": [
       "306"
      ]
     },
     "execution_count": 36,
     "metadata": {},
     "output_type": "execute_result"
    }
   ],
   "source": [
    "len(cluster2_url)"
   ]
  },
  {
   "cell_type": "code",
   "execution_count": 37,
   "id": "52adf4b2",
   "metadata": {},
   "outputs": [
    {
     "data": {
      "text/plain": [
       "(495, 3)"
      ]
     },
     "execution_count": 37,
     "metadata": {},
     "output_type": "execute_result"
    }
   ],
   "source": [
    "media_link_dat.shape"
   ]
  },
  {
   "cell_type": "code",
   "execution_count": 38,
   "id": "0824fffb",
   "metadata": {},
   "outputs": [
    {
     "data": {
      "text/plain": [
       "495"
      ]
     },
     "execution_count": 38,
     "metadata": {},
     "output_type": "execute_result"
    }
   ],
   "source": [
    "len(cluster1_url) + len(cluster2_url)"
   ]
  },
  {
   "cell_type": "markdown",
   "id": "35864f91",
   "metadata": {},
   "source": [
    "# analysis path"
   ]
  },
  {
   "cell_type": "code",
   "execution_count": 39,
   "id": "9d394c81",
   "metadata": {},
   "outputs": [],
   "source": [
    "analysis_path = \"../analysis/\""
   ]
  },
  {
   "cell_type": "code",
   "execution_count": 40,
   "id": "2ee44bae",
   "metadata": {},
   "outputs": [],
   "source": [
    "keywords1_filename = \"keywords_cluster1.xlsx\"\n",
    "keywords2_filename = \"keywords_cluster2.xlsx\""
   ]
  },
  {
   "cell_type": "code",
   "execution_count": 41,
   "id": "71e3aacd",
   "metadata": {},
   "outputs": [],
   "source": [
    "keywords1_df = pd.read_excel(analysis_path+keywords1_filename)\n",
    "keywords2_df = pd.read_excel(analysis_path+keywords2_filename)"
   ]
  },
  {
   "cell_type": "code",
   "execution_count": 42,
   "id": "6a210ea1",
   "metadata": {},
   "outputs": [
    {
     "data": {
      "text/plain": [
       "['Государство',\n",
       " 'Закон',\n",
       " 'Депутат',\n",
       " 'Народ',\n",
       " 'Интерес',\n",
       " 'Реформа',\n",
       " 'Инициатива',\n",
       " 'Население']"
      ]
     },
     "execution_count": 42,
     "metadata": {},
     "output_type": "execute_result"
    }
   ],
   "source": [
    "keywords1 = keywords1_df.Russian.tolist()\n",
    "keywords1"
   ]
  },
  {
   "cell_type": "code",
   "execution_count": 43,
   "id": "ae23c2ed",
   "metadata": {},
   "outputs": [
    {
     "data": {
      "text/plain": [
       "['Митинг', 'Толпа', 'Беспорядок', 'Военный']"
      ]
     },
     "execution_count": 43,
     "metadata": {},
     "output_type": "execute_result"
    }
   ],
   "source": [
    "keywords2 = keywords2_df.Russian.tolist()\n",
    "keywords2"
   ]
  },
  {
   "cell_type": "markdown",
   "id": "a7e6b9b8",
   "metadata": {},
   "source": [
    "# step 0. define function to analyze articles by cluster"
   ]
  },
  {
   "cell_type": "code",
   "execution_count": 44,
   "id": "cdd74462",
   "metadata": {},
   "outputs": [],
   "source": [
    "# scan articles for Cluster 1 & Cluster 2 keywords\n",
    "\n",
    "def analyze_keywords_by_cluster(cluster,url_cluster,keywords_cluster1,keywords_cluster2):\n",
    "    \n",
    "    cluster_df = pd.DataFrame(data={\"cluster\":[],\"keyword1_count\":[],\"keyword2_count\":[],\"url\":[]})\n",
    "    \n",
    "    print(cluster_df)\n",
    "\n",
    "    for url in url_cluster:\n",
    "        response = requests.get(url)\n",
    "\n",
    "        # analyze Cluster 1 keywords\n",
    "        kcount1_total = 0\n",
    "        for k in keywords_cluster1:\n",
    "            kcount = response.text.count(k)\n",
    "            kcount1_total += kcount\n",
    "            # print(k,kcount)\n",
    "            \n",
    "        # analyze Cluster 2 keywords\n",
    "        kcount2_total = 0\n",
    "        for k in keywords_cluster2:\n",
    "            kcount = response.text.count(k)\n",
    "            kcount2_total += kcount\n",
    "            # print(k,kcount)\n",
    "\n",
    "        print(response,cluster,kcount1_total,kcount2_total)\n",
    "\n",
    "        # Row(s) to append\n",
    "        new_rows = pd.DataFrame({'cluster':[cluster],'keyword1_count':[kcount1_total],'keyword2_count':[kcount2_total],'url':[url]})\n",
    "        # print(new_rows)\n",
    "        \n",
    "        cluster_df = pd.concat([cluster_df,new_rows])\n",
    "        \n",
    "    return cluster_df"
   ]
  },
  {
   "cell_type": "markdown",
   "id": "82fca342",
   "metadata": {},
   "source": [
    "# step 1. analyze Cluster 1 articles"
   ]
  },
  {
   "cell_type": "code",
   "execution_count": 45,
   "id": "4352eebb",
   "metadata": {},
   "outputs": [
    {
     "data": {
      "text/plain": [
       "['https://khabar.kz/ru/news/obshchestvo/item/137781-khronologiya-protestov-v-mangistauskoj-oblasti',\n",
       " 'https://khabar.kz/ru/news/politika/item/137784-rezhim-chp-v-mangistauskoj-oblasti-i-almaty-prodlitsya-do-19-yanvarya',\n",
       " 'https://khabar.kz/ru/news/politika/item/137785-prezident-kazakhstana-nazval-vinovnykh-v-dopushchenii-protestnoj-situatsii',\n",
       " 'https://khabar.kz/ru/news/politika/item/137786-k-tokaev-odna-iz-glavnejshikh-zadach-ispolnitelnoj-vlasti-ostalas-nevypolnennoj',\n",
       " 'https://khabar.kz/ru/news/obshchestvo/item/137792-kakoj-ushcherb-nanesli-uchastniki-mitingov']"
      ]
     },
     "execution_count": 45,
     "metadata": {},
     "output_type": "execute_result"
    }
   ],
   "source": [
    "cluster1_url[0:5]"
   ]
  },
  {
   "cell_type": "code",
   "execution_count": 46,
   "id": "8b267e3a",
   "metadata": {},
   "outputs": [
    {
     "name": "stdout",
     "output_type": "stream",
     "text": [
      "Empty DataFrame\n",
      "Columns: [cluster, keyword1_count, keyword2_count, url]\n",
      "Index: []\n",
      "<Response [200]> 1 2 2\n",
      "<Response [200]> 1 6 0\n",
      "<Response [200]> 1 2 0\n",
      "<Response [200]> 1 4 4\n",
      "<Response [200]> 1 2 0\n",
      "<Response [200]> 1 2 0\n",
      "<Response [200]> 1 11 0\n",
      "<Response [200]> 1 2 0\n",
      "<Response [200]> 1 2 0\n",
      "<Response [200]> 1 2 0\n",
      "<Response [200]> 1 2 0\n",
      "<Response [200]> 1 2 0\n",
      "<Response [200]> 1 2 0\n",
      "<Response [200]> 1 2 0\n",
      "<Response [200]> 1 2 0\n",
      "<Response [200]> 1 2 0\n",
      "<Response [200]> 1 2 0\n",
      "<Response [200]> 1 2 0\n",
      "<Response [200]> 1 2 0\n",
      "<Response [200]> 1 2 0\n",
      "<Response [200]> 1 2 0\n",
      "<Response [200]> 1 2 0\n",
      "<Response [200]> 1 2 0\n",
      "<Response [200]> 1 2 0\n",
      "<Response [200]> 1 2 0\n",
      "<Response [200]> 1 2 0\n",
      "<Response [200]> 1 2 0\n",
      "<Response [200]> 1 2 0\n",
      "<Response [200]> 1 2 0\n",
      "<Response [200]> 1 2 0\n",
      "<Response [200]> 1 2 0\n",
      "<Response [200]> 1 2 0\n",
      "<Response [200]> 1 10 0\n",
      "<Response [200]> 1 2 0\n",
      "<Response [200]> 1 2 0\n",
      "<Response [200]> 1 2 0\n",
      "<Response [200]> 1 2 0\n",
      "<Response [200]> 1 2 0\n",
      "<Response [200]> 1 2 0\n",
      "<Response [200]> 1 2 0\n",
      "<Response [200]> 1 2 0\n",
      "<Response [200]> 1 2 0\n",
      "<Response [200]> 1 2 0\n",
      "<Response [200]> 1 2 0\n",
      "<Response [200]> 1 4 0\n",
      "<Response [200]> 1 2 0\n",
      "<Response [200]> 1 2 0\n",
      "<Response [200]> 1 2 0\n",
      "<Response [200]> 1 20 0\n"
     ]
    },
    {
     "ename": "ReadTimeout",
     "evalue": "HTTPSConnectionPool(host='khabar.kz', port=443): Read timed out. (read timeout=None)",
     "output_type": "error",
     "traceback": [
      "\u001b[1;31m---------------------------------------------------------------------------\u001b[0m",
      "\u001b[1;31mTimeoutError\u001b[0m                              Traceback (most recent call last)",
      "File \u001b[1;32m~\\anaconda3\\Lib\\site-packages\\urllib3\\connectionpool.py:403\u001b[0m, in \u001b[0;36mHTTPConnectionPool._make_request\u001b[1;34m(self, conn, method, url, timeout, chunked, **httplib_request_kw)\u001b[0m\n\u001b[0;32m    402\u001b[0m \u001b[38;5;28;01mtry\u001b[39;00m:\n\u001b[1;32m--> 403\u001b[0m     \u001b[38;5;28mself\u001b[39m\u001b[38;5;241m.\u001b[39m_validate_conn(conn)\n\u001b[0;32m    404\u001b[0m \u001b[38;5;28;01mexcept\u001b[39;00m (SocketTimeout, BaseSSLError) \u001b[38;5;28;01mas\u001b[39;00m e:\n\u001b[0;32m    405\u001b[0m     \u001b[38;5;66;03m# Py2 raises this as a BaseSSLError, Py3 raises it as socket timeout.\u001b[39;00m\n",
      "File \u001b[1;32m~\\anaconda3\\Lib\\site-packages\\urllib3\\connectionpool.py:1053\u001b[0m, in \u001b[0;36mHTTPSConnectionPool._validate_conn\u001b[1;34m(self, conn)\u001b[0m\n\u001b[0;32m   1052\u001b[0m \u001b[38;5;28;01mif\u001b[39;00m \u001b[38;5;129;01mnot\u001b[39;00m \u001b[38;5;28mgetattr\u001b[39m(conn, \u001b[38;5;124m\"\u001b[39m\u001b[38;5;124msock\u001b[39m\u001b[38;5;124m\"\u001b[39m, \u001b[38;5;28;01mNone\u001b[39;00m):  \u001b[38;5;66;03m# AppEngine might not have  `.sock`\u001b[39;00m\n\u001b[1;32m-> 1053\u001b[0m     conn\u001b[38;5;241m.\u001b[39mconnect()\n\u001b[0;32m   1055\u001b[0m \u001b[38;5;28;01mif\u001b[39;00m \u001b[38;5;129;01mnot\u001b[39;00m conn\u001b[38;5;241m.\u001b[39mis_verified:\n",
      "File \u001b[1;32m~\\anaconda3\\Lib\\site-packages\\urllib3\\connection.py:419\u001b[0m, in \u001b[0;36mHTTPSConnection.connect\u001b[1;34m(self)\u001b[0m\n\u001b[0;32m    417\u001b[0m     context\u001b[38;5;241m.\u001b[39mload_default_certs()\n\u001b[1;32m--> 419\u001b[0m \u001b[38;5;28mself\u001b[39m\u001b[38;5;241m.\u001b[39msock \u001b[38;5;241m=\u001b[39m ssl_wrap_socket(\n\u001b[0;32m    420\u001b[0m     sock\u001b[38;5;241m=\u001b[39mconn,\n\u001b[0;32m    421\u001b[0m     keyfile\u001b[38;5;241m=\u001b[39m\u001b[38;5;28mself\u001b[39m\u001b[38;5;241m.\u001b[39mkey_file,\n\u001b[0;32m    422\u001b[0m     certfile\u001b[38;5;241m=\u001b[39m\u001b[38;5;28mself\u001b[39m\u001b[38;5;241m.\u001b[39mcert_file,\n\u001b[0;32m    423\u001b[0m     key_password\u001b[38;5;241m=\u001b[39m\u001b[38;5;28mself\u001b[39m\u001b[38;5;241m.\u001b[39mkey_password,\n\u001b[0;32m    424\u001b[0m     ca_certs\u001b[38;5;241m=\u001b[39m\u001b[38;5;28mself\u001b[39m\u001b[38;5;241m.\u001b[39mca_certs,\n\u001b[0;32m    425\u001b[0m     ca_cert_dir\u001b[38;5;241m=\u001b[39m\u001b[38;5;28mself\u001b[39m\u001b[38;5;241m.\u001b[39mca_cert_dir,\n\u001b[0;32m    426\u001b[0m     ca_cert_data\u001b[38;5;241m=\u001b[39m\u001b[38;5;28mself\u001b[39m\u001b[38;5;241m.\u001b[39mca_cert_data,\n\u001b[0;32m    427\u001b[0m     server_hostname\u001b[38;5;241m=\u001b[39mserver_hostname,\n\u001b[0;32m    428\u001b[0m     ssl_context\u001b[38;5;241m=\u001b[39mcontext,\n\u001b[0;32m    429\u001b[0m     tls_in_tls\u001b[38;5;241m=\u001b[39mtls_in_tls,\n\u001b[0;32m    430\u001b[0m )\n\u001b[0;32m    432\u001b[0m \u001b[38;5;66;03m# If we're using all defaults and the connection\u001b[39;00m\n\u001b[0;32m    433\u001b[0m \u001b[38;5;66;03m# is TLSv1 or TLSv1.1 we throw a DeprecationWarning\u001b[39;00m\n\u001b[0;32m    434\u001b[0m \u001b[38;5;66;03m# for the host.\u001b[39;00m\n",
      "File \u001b[1;32m~\\anaconda3\\Lib\\site-packages\\urllib3\\util\\ssl_.py:449\u001b[0m, in \u001b[0;36mssl_wrap_socket\u001b[1;34m(sock, keyfile, certfile, cert_reqs, ca_certs, server_hostname, ssl_version, ciphers, ssl_context, ca_cert_dir, key_password, ca_cert_data, tls_in_tls)\u001b[0m\n\u001b[0;32m    448\u001b[0m \u001b[38;5;28;01mif\u001b[39;00m send_sni:\n\u001b[1;32m--> 449\u001b[0m     ssl_sock \u001b[38;5;241m=\u001b[39m _ssl_wrap_socket_impl(\n\u001b[0;32m    450\u001b[0m         sock, context, tls_in_tls, server_hostname\u001b[38;5;241m=\u001b[39mserver_hostname\n\u001b[0;32m    451\u001b[0m     )\n\u001b[0;32m    452\u001b[0m \u001b[38;5;28;01melse\u001b[39;00m:\n",
      "File \u001b[1;32m~\\anaconda3\\Lib\\site-packages\\urllib3\\util\\ssl_.py:493\u001b[0m, in \u001b[0;36m_ssl_wrap_socket_impl\u001b[1;34m(sock, ssl_context, tls_in_tls, server_hostname)\u001b[0m\n\u001b[0;32m    492\u001b[0m \u001b[38;5;28;01mif\u001b[39;00m server_hostname:\n\u001b[1;32m--> 493\u001b[0m     \u001b[38;5;28;01mreturn\u001b[39;00m ssl_context\u001b[38;5;241m.\u001b[39mwrap_socket(sock, server_hostname\u001b[38;5;241m=\u001b[39mserver_hostname)\n\u001b[0;32m    494\u001b[0m \u001b[38;5;28;01melse\u001b[39;00m:\n",
      "File \u001b[1;32m~\\anaconda3\\Lib\\ssl.py:517\u001b[0m, in \u001b[0;36mSSLContext.wrap_socket\u001b[1;34m(self, sock, server_side, do_handshake_on_connect, suppress_ragged_eofs, server_hostname, session)\u001b[0m\n\u001b[0;32m    511\u001b[0m \u001b[38;5;28;01mdef\u001b[39;00m \u001b[38;5;21mwrap_socket\u001b[39m(\u001b[38;5;28mself\u001b[39m, sock, server_side\u001b[38;5;241m=\u001b[39m\u001b[38;5;28;01mFalse\u001b[39;00m,\n\u001b[0;32m    512\u001b[0m                 do_handshake_on_connect\u001b[38;5;241m=\u001b[39m\u001b[38;5;28;01mTrue\u001b[39;00m,\n\u001b[0;32m    513\u001b[0m                 suppress_ragged_eofs\u001b[38;5;241m=\u001b[39m\u001b[38;5;28;01mTrue\u001b[39;00m,\n\u001b[0;32m    514\u001b[0m                 server_hostname\u001b[38;5;241m=\u001b[39m\u001b[38;5;28;01mNone\u001b[39;00m, session\u001b[38;5;241m=\u001b[39m\u001b[38;5;28;01mNone\u001b[39;00m):\n\u001b[0;32m    515\u001b[0m     \u001b[38;5;66;03m# SSLSocket class handles server_hostname encoding before it calls\u001b[39;00m\n\u001b[0;32m    516\u001b[0m     \u001b[38;5;66;03m# ctx._wrap_socket()\u001b[39;00m\n\u001b[1;32m--> 517\u001b[0m     \u001b[38;5;28;01mreturn\u001b[39;00m \u001b[38;5;28mself\u001b[39m\u001b[38;5;241m.\u001b[39msslsocket_class\u001b[38;5;241m.\u001b[39m_create(\n\u001b[0;32m    518\u001b[0m         sock\u001b[38;5;241m=\u001b[39msock,\n\u001b[0;32m    519\u001b[0m         server_side\u001b[38;5;241m=\u001b[39mserver_side,\n\u001b[0;32m    520\u001b[0m         do_handshake_on_connect\u001b[38;5;241m=\u001b[39mdo_handshake_on_connect,\n\u001b[0;32m    521\u001b[0m         suppress_ragged_eofs\u001b[38;5;241m=\u001b[39msuppress_ragged_eofs,\n\u001b[0;32m    522\u001b[0m         server_hostname\u001b[38;5;241m=\u001b[39mserver_hostname,\n\u001b[0;32m    523\u001b[0m         context\u001b[38;5;241m=\u001b[39m\u001b[38;5;28mself\u001b[39m,\n\u001b[0;32m    524\u001b[0m         session\u001b[38;5;241m=\u001b[39msession\n\u001b[0;32m    525\u001b[0m     )\n",
      "File \u001b[1;32m~\\anaconda3\\Lib\\ssl.py:1108\u001b[0m, in \u001b[0;36mSSLSocket._create\u001b[1;34m(cls, sock, server_side, do_handshake_on_connect, suppress_ragged_eofs, server_hostname, context, session)\u001b[0m\n\u001b[0;32m   1107\u001b[0m             \u001b[38;5;28;01mraise\u001b[39;00m \u001b[38;5;167;01mValueError\u001b[39;00m(\u001b[38;5;124m\"\u001b[39m\u001b[38;5;124mdo_handshake_on_connect should not be specified for non-blocking sockets\u001b[39m\u001b[38;5;124m\"\u001b[39m)\n\u001b[1;32m-> 1108\u001b[0m         \u001b[38;5;28mself\u001b[39m\u001b[38;5;241m.\u001b[39mdo_handshake()\n\u001b[0;32m   1109\u001b[0m \u001b[38;5;28;01mexcept\u001b[39;00m (\u001b[38;5;167;01mOSError\u001b[39;00m, \u001b[38;5;167;01mValueError\u001b[39;00m):\n",
      "File \u001b[1;32m~\\anaconda3\\Lib\\ssl.py:1379\u001b[0m, in \u001b[0;36mSSLSocket.do_handshake\u001b[1;34m(self, block)\u001b[0m\n\u001b[0;32m   1378\u001b[0m         \u001b[38;5;28mself\u001b[39m\u001b[38;5;241m.\u001b[39msettimeout(\u001b[38;5;28;01mNone\u001b[39;00m)\n\u001b[1;32m-> 1379\u001b[0m     \u001b[38;5;28mself\u001b[39m\u001b[38;5;241m.\u001b[39m_sslobj\u001b[38;5;241m.\u001b[39mdo_handshake()\n\u001b[0;32m   1380\u001b[0m \u001b[38;5;28;01mfinally\u001b[39;00m:\n",
      "\u001b[1;31mTimeoutError\u001b[0m: [WinError 10060] A connection attempt failed because the connected party did not properly respond after a period of time, or established connection failed because connected host has failed to respond",
      "\nDuring handling of the above exception, another exception occurred:\n",
      "\u001b[1;31mReadTimeoutError\u001b[0m                          Traceback (most recent call last)",
      "File \u001b[1;32m~\\anaconda3\\Lib\\site-packages\\requests\\adapters.py:486\u001b[0m, in \u001b[0;36mHTTPAdapter.send\u001b[1;34m(self, request, stream, timeout, verify, cert, proxies)\u001b[0m\n\u001b[0;32m    485\u001b[0m \u001b[38;5;28;01mtry\u001b[39;00m:\n\u001b[1;32m--> 486\u001b[0m     resp \u001b[38;5;241m=\u001b[39m conn\u001b[38;5;241m.\u001b[39murlopen(\n\u001b[0;32m    487\u001b[0m         method\u001b[38;5;241m=\u001b[39mrequest\u001b[38;5;241m.\u001b[39mmethod,\n\u001b[0;32m    488\u001b[0m         url\u001b[38;5;241m=\u001b[39murl,\n\u001b[0;32m    489\u001b[0m         body\u001b[38;5;241m=\u001b[39mrequest\u001b[38;5;241m.\u001b[39mbody,\n\u001b[0;32m    490\u001b[0m         headers\u001b[38;5;241m=\u001b[39mrequest\u001b[38;5;241m.\u001b[39mheaders,\n\u001b[0;32m    491\u001b[0m         redirect\u001b[38;5;241m=\u001b[39m\u001b[38;5;28;01mFalse\u001b[39;00m,\n\u001b[0;32m    492\u001b[0m         assert_same_host\u001b[38;5;241m=\u001b[39m\u001b[38;5;28;01mFalse\u001b[39;00m,\n\u001b[0;32m    493\u001b[0m         preload_content\u001b[38;5;241m=\u001b[39m\u001b[38;5;28;01mFalse\u001b[39;00m,\n\u001b[0;32m    494\u001b[0m         decode_content\u001b[38;5;241m=\u001b[39m\u001b[38;5;28;01mFalse\u001b[39;00m,\n\u001b[0;32m    495\u001b[0m         retries\u001b[38;5;241m=\u001b[39m\u001b[38;5;28mself\u001b[39m\u001b[38;5;241m.\u001b[39mmax_retries,\n\u001b[0;32m    496\u001b[0m         timeout\u001b[38;5;241m=\u001b[39mtimeout,\n\u001b[0;32m    497\u001b[0m         chunked\u001b[38;5;241m=\u001b[39mchunked,\n\u001b[0;32m    498\u001b[0m     )\n\u001b[0;32m    500\u001b[0m \u001b[38;5;28;01mexcept\u001b[39;00m (ProtocolError, \u001b[38;5;167;01mOSError\u001b[39;00m) \u001b[38;5;28;01mas\u001b[39;00m err:\n",
      "File \u001b[1;32m~\\anaconda3\\Lib\\site-packages\\urllib3\\connectionpool.py:798\u001b[0m, in \u001b[0;36mHTTPConnectionPool.urlopen\u001b[1;34m(self, method, url, body, headers, retries, redirect, assert_same_host, timeout, pool_timeout, release_conn, chunked, body_pos, **response_kw)\u001b[0m\n\u001b[0;32m    796\u001b[0m     e \u001b[38;5;241m=\u001b[39m ProtocolError(\u001b[38;5;124m\"\u001b[39m\u001b[38;5;124mConnection aborted.\u001b[39m\u001b[38;5;124m\"\u001b[39m, e)\n\u001b[1;32m--> 798\u001b[0m retries \u001b[38;5;241m=\u001b[39m retries\u001b[38;5;241m.\u001b[39mincrement(\n\u001b[0;32m    799\u001b[0m     method, url, error\u001b[38;5;241m=\u001b[39me, _pool\u001b[38;5;241m=\u001b[39m\u001b[38;5;28mself\u001b[39m, _stacktrace\u001b[38;5;241m=\u001b[39msys\u001b[38;5;241m.\u001b[39mexc_info()[\u001b[38;5;241m2\u001b[39m]\n\u001b[0;32m    800\u001b[0m )\n\u001b[0;32m    801\u001b[0m retries\u001b[38;5;241m.\u001b[39msleep()\n",
      "File \u001b[1;32m~\\anaconda3\\Lib\\site-packages\\urllib3\\util\\retry.py:550\u001b[0m, in \u001b[0;36mRetry.increment\u001b[1;34m(self, method, url, response, error, _pool, _stacktrace)\u001b[0m\n\u001b[0;32m    549\u001b[0m \u001b[38;5;28;01mif\u001b[39;00m read \u001b[38;5;129;01mis\u001b[39;00m \u001b[38;5;28;01mFalse\u001b[39;00m \u001b[38;5;129;01mor\u001b[39;00m \u001b[38;5;129;01mnot\u001b[39;00m \u001b[38;5;28mself\u001b[39m\u001b[38;5;241m.\u001b[39m_is_method_retryable(method):\n\u001b[1;32m--> 550\u001b[0m     \u001b[38;5;28;01mraise\u001b[39;00m six\u001b[38;5;241m.\u001b[39mreraise(\u001b[38;5;28mtype\u001b[39m(error), error, _stacktrace)\n\u001b[0;32m    551\u001b[0m \u001b[38;5;28;01melif\u001b[39;00m read \u001b[38;5;129;01mis\u001b[39;00m \u001b[38;5;129;01mnot\u001b[39;00m \u001b[38;5;28;01mNone\u001b[39;00m:\n",
      "File \u001b[1;32m~\\anaconda3\\Lib\\site-packages\\urllib3\\packages\\six.py:770\u001b[0m, in \u001b[0;36mreraise\u001b[1;34m(tp, value, tb)\u001b[0m\n\u001b[0;32m    769\u001b[0m         \u001b[38;5;28;01mraise\u001b[39;00m value\u001b[38;5;241m.\u001b[39mwith_traceback(tb)\n\u001b[1;32m--> 770\u001b[0m     \u001b[38;5;28;01mraise\u001b[39;00m value\n\u001b[0;32m    771\u001b[0m \u001b[38;5;28;01mfinally\u001b[39;00m:\n",
      "File \u001b[1;32m~\\anaconda3\\Lib\\site-packages\\urllib3\\connectionpool.py:714\u001b[0m, in \u001b[0;36mHTTPConnectionPool.urlopen\u001b[1;34m(self, method, url, body, headers, retries, redirect, assert_same_host, timeout, pool_timeout, release_conn, chunked, body_pos, **response_kw)\u001b[0m\n\u001b[0;32m    713\u001b[0m \u001b[38;5;66;03m# Make the request on the httplib connection object.\u001b[39;00m\n\u001b[1;32m--> 714\u001b[0m httplib_response \u001b[38;5;241m=\u001b[39m \u001b[38;5;28mself\u001b[39m\u001b[38;5;241m.\u001b[39m_make_request(\n\u001b[0;32m    715\u001b[0m     conn,\n\u001b[0;32m    716\u001b[0m     method,\n\u001b[0;32m    717\u001b[0m     url,\n\u001b[0;32m    718\u001b[0m     timeout\u001b[38;5;241m=\u001b[39mtimeout_obj,\n\u001b[0;32m    719\u001b[0m     body\u001b[38;5;241m=\u001b[39mbody,\n\u001b[0;32m    720\u001b[0m     headers\u001b[38;5;241m=\u001b[39mheaders,\n\u001b[0;32m    721\u001b[0m     chunked\u001b[38;5;241m=\u001b[39mchunked,\n\u001b[0;32m    722\u001b[0m )\n\u001b[0;32m    724\u001b[0m \u001b[38;5;66;03m# If we're going to release the connection in ``finally:``, then\u001b[39;00m\n\u001b[0;32m    725\u001b[0m \u001b[38;5;66;03m# the response doesn't need to know about the connection. Otherwise\u001b[39;00m\n\u001b[0;32m    726\u001b[0m \u001b[38;5;66;03m# it will also try to release it and we'll have a double-release\u001b[39;00m\n\u001b[0;32m    727\u001b[0m \u001b[38;5;66;03m# mess.\u001b[39;00m\n",
      "File \u001b[1;32m~\\anaconda3\\Lib\\site-packages\\urllib3\\connectionpool.py:406\u001b[0m, in \u001b[0;36mHTTPConnectionPool._make_request\u001b[1;34m(self, conn, method, url, timeout, chunked, **httplib_request_kw)\u001b[0m\n\u001b[0;32m    404\u001b[0m \u001b[38;5;28;01mexcept\u001b[39;00m (SocketTimeout, BaseSSLError) \u001b[38;5;28;01mas\u001b[39;00m e:\n\u001b[0;32m    405\u001b[0m     \u001b[38;5;66;03m# Py2 raises this as a BaseSSLError, Py3 raises it as socket timeout.\u001b[39;00m\n\u001b[1;32m--> 406\u001b[0m     \u001b[38;5;28mself\u001b[39m\u001b[38;5;241m.\u001b[39m_raise_timeout(err\u001b[38;5;241m=\u001b[39me, url\u001b[38;5;241m=\u001b[39murl, timeout_value\u001b[38;5;241m=\u001b[39mconn\u001b[38;5;241m.\u001b[39mtimeout)\n\u001b[0;32m    407\u001b[0m     \u001b[38;5;28;01mraise\u001b[39;00m\n",
      "File \u001b[1;32m~\\anaconda3\\Lib\\site-packages\\urllib3\\connectionpool.py:357\u001b[0m, in \u001b[0;36mHTTPConnectionPool._raise_timeout\u001b[1;34m(self, err, url, timeout_value)\u001b[0m\n\u001b[0;32m    356\u001b[0m \u001b[38;5;28;01mif\u001b[39;00m \u001b[38;5;28misinstance\u001b[39m(err, SocketTimeout):\n\u001b[1;32m--> 357\u001b[0m     \u001b[38;5;28;01mraise\u001b[39;00m ReadTimeoutError(\n\u001b[0;32m    358\u001b[0m         \u001b[38;5;28mself\u001b[39m, url, \u001b[38;5;124m\"\u001b[39m\u001b[38;5;124mRead timed out. (read timeout=\u001b[39m\u001b[38;5;132;01m%s\u001b[39;00m\u001b[38;5;124m)\u001b[39m\u001b[38;5;124m\"\u001b[39m \u001b[38;5;241m%\u001b[39m timeout_value\n\u001b[0;32m    359\u001b[0m     )\n\u001b[0;32m    361\u001b[0m \u001b[38;5;66;03m# See the above comment about EAGAIN in Python 3. In Python 2 we have\u001b[39;00m\n\u001b[0;32m    362\u001b[0m \u001b[38;5;66;03m# to specifically catch it and throw the timeout error\u001b[39;00m\n",
      "\u001b[1;31mReadTimeoutError\u001b[0m: HTTPSConnectionPool(host='khabar.kz', port=443): Read timed out. (read timeout=None)",
      "\nDuring handling of the above exception, another exception occurred:\n",
      "\u001b[1;31mReadTimeout\u001b[0m                               Traceback (most recent call last)",
      "Cell \u001b[1;32mIn[46], line 2\u001b[0m\n\u001b[0;32m      1\u001b[0m \u001b[38;5;66;03m# analyze Cluster 1 articles\u001b[39;00m\n\u001b[1;32m----> 2\u001b[0m cluster1_df \u001b[38;5;241m=\u001b[39m analyze_keywords_by_cluster(\u001b[38;5;241m1\u001b[39m,cluster1_url,keywords1,keywords2)\n",
      "Cell \u001b[1;32mIn[44], line 10\u001b[0m, in \u001b[0;36manalyze_keywords_by_cluster\u001b[1;34m(cluster, url_cluster, keywords_cluster1, keywords_cluster2)\u001b[0m\n\u001b[0;32m      7\u001b[0m \u001b[38;5;28mprint\u001b[39m(cluster_df)\n\u001b[0;32m      9\u001b[0m \u001b[38;5;28;01mfor\u001b[39;00m url \u001b[38;5;129;01min\u001b[39;00m url_cluster:\n\u001b[1;32m---> 10\u001b[0m     response \u001b[38;5;241m=\u001b[39m requests\u001b[38;5;241m.\u001b[39mget(url)\n\u001b[0;32m     12\u001b[0m     \u001b[38;5;66;03m# analyze Cluster 1 keywords\u001b[39;00m\n\u001b[0;32m     13\u001b[0m     kcount1_total \u001b[38;5;241m=\u001b[39m \u001b[38;5;241m0\u001b[39m\n",
      "File \u001b[1;32m~\\anaconda3\\Lib\\site-packages\\requests\\api.py:73\u001b[0m, in \u001b[0;36mget\u001b[1;34m(url, params, **kwargs)\u001b[0m\n\u001b[0;32m     62\u001b[0m \u001b[38;5;28;01mdef\u001b[39;00m \u001b[38;5;21mget\u001b[39m(url, params\u001b[38;5;241m=\u001b[39m\u001b[38;5;28;01mNone\u001b[39;00m, \u001b[38;5;241m*\u001b[39m\u001b[38;5;241m*\u001b[39mkwargs):\n\u001b[0;32m     63\u001b[0m \u001b[38;5;250m    \u001b[39m\u001b[38;5;124mr\u001b[39m\u001b[38;5;124;03m\"\"\"Sends a GET request.\u001b[39;00m\n\u001b[0;32m     64\u001b[0m \n\u001b[0;32m     65\u001b[0m \u001b[38;5;124;03m    :param url: URL for the new :class:`Request` object.\u001b[39;00m\n\u001b[1;32m   (...)\u001b[0m\n\u001b[0;32m     70\u001b[0m \u001b[38;5;124;03m    :rtype: requests.Response\u001b[39;00m\n\u001b[0;32m     71\u001b[0m \u001b[38;5;124;03m    \"\"\"\u001b[39;00m\n\u001b[1;32m---> 73\u001b[0m     \u001b[38;5;28;01mreturn\u001b[39;00m request(\u001b[38;5;124m\"\u001b[39m\u001b[38;5;124mget\u001b[39m\u001b[38;5;124m\"\u001b[39m, url, params\u001b[38;5;241m=\u001b[39mparams, \u001b[38;5;241m*\u001b[39m\u001b[38;5;241m*\u001b[39mkwargs)\n",
      "File \u001b[1;32m~\\anaconda3\\Lib\\site-packages\\requests\\api.py:59\u001b[0m, in \u001b[0;36mrequest\u001b[1;34m(method, url, **kwargs)\u001b[0m\n\u001b[0;32m     55\u001b[0m \u001b[38;5;66;03m# By using the 'with' statement we are sure the session is closed, thus we\u001b[39;00m\n\u001b[0;32m     56\u001b[0m \u001b[38;5;66;03m# avoid leaving sockets open which can trigger a ResourceWarning in some\u001b[39;00m\n\u001b[0;32m     57\u001b[0m \u001b[38;5;66;03m# cases, and look like a memory leak in others.\u001b[39;00m\n\u001b[0;32m     58\u001b[0m \u001b[38;5;28;01mwith\u001b[39;00m sessions\u001b[38;5;241m.\u001b[39mSession() \u001b[38;5;28;01mas\u001b[39;00m session:\n\u001b[1;32m---> 59\u001b[0m     \u001b[38;5;28;01mreturn\u001b[39;00m session\u001b[38;5;241m.\u001b[39mrequest(method\u001b[38;5;241m=\u001b[39mmethod, url\u001b[38;5;241m=\u001b[39murl, \u001b[38;5;241m*\u001b[39m\u001b[38;5;241m*\u001b[39mkwargs)\n",
      "File \u001b[1;32m~\\anaconda3\\Lib\\site-packages\\requests\\sessions.py:589\u001b[0m, in \u001b[0;36mSession.request\u001b[1;34m(self, method, url, params, data, headers, cookies, files, auth, timeout, allow_redirects, proxies, hooks, stream, verify, cert, json)\u001b[0m\n\u001b[0;32m    584\u001b[0m send_kwargs \u001b[38;5;241m=\u001b[39m {\n\u001b[0;32m    585\u001b[0m     \u001b[38;5;124m\"\u001b[39m\u001b[38;5;124mtimeout\u001b[39m\u001b[38;5;124m\"\u001b[39m: timeout,\n\u001b[0;32m    586\u001b[0m     \u001b[38;5;124m\"\u001b[39m\u001b[38;5;124mallow_redirects\u001b[39m\u001b[38;5;124m\"\u001b[39m: allow_redirects,\n\u001b[0;32m    587\u001b[0m }\n\u001b[0;32m    588\u001b[0m send_kwargs\u001b[38;5;241m.\u001b[39mupdate(settings)\n\u001b[1;32m--> 589\u001b[0m resp \u001b[38;5;241m=\u001b[39m \u001b[38;5;28mself\u001b[39m\u001b[38;5;241m.\u001b[39msend(prep, \u001b[38;5;241m*\u001b[39m\u001b[38;5;241m*\u001b[39msend_kwargs)\n\u001b[0;32m    591\u001b[0m \u001b[38;5;28;01mreturn\u001b[39;00m resp\n",
      "File \u001b[1;32m~\\anaconda3\\Lib\\site-packages\\requests\\sessions.py:703\u001b[0m, in \u001b[0;36mSession.send\u001b[1;34m(self, request, **kwargs)\u001b[0m\n\u001b[0;32m    700\u001b[0m start \u001b[38;5;241m=\u001b[39m preferred_clock()\n\u001b[0;32m    702\u001b[0m \u001b[38;5;66;03m# Send the request\u001b[39;00m\n\u001b[1;32m--> 703\u001b[0m r \u001b[38;5;241m=\u001b[39m adapter\u001b[38;5;241m.\u001b[39msend(request, \u001b[38;5;241m*\u001b[39m\u001b[38;5;241m*\u001b[39mkwargs)\n\u001b[0;32m    705\u001b[0m \u001b[38;5;66;03m# Total elapsed time of the request (approximately)\u001b[39;00m\n\u001b[0;32m    706\u001b[0m elapsed \u001b[38;5;241m=\u001b[39m preferred_clock() \u001b[38;5;241m-\u001b[39m start\n",
      "File \u001b[1;32m~\\anaconda3\\Lib\\site-packages\\requests\\adapters.py:532\u001b[0m, in \u001b[0;36mHTTPAdapter.send\u001b[1;34m(self, request, stream, timeout, verify, cert, proxies)\u001b[0m\n\u001b[0;32m    530\u001b[0m     \u001b[38;5;28;01mraise\u001b[39;00m SSLError(e, request\u001b[38;5;241m=\u001b[39mrequest)\n\u001b[0;32m    531\u001b[0m \u001b[38;5;28;01melif\u001b[39;00m \u001b[38;5;28misinstance\u001b[39m(e, ReadTimeoutError):\n\u001b[1;32m--> 532\u001b[0m     \u001b[38;5;28;01mraise\u001b[39;00m ReadTimeout(e, request\u001b[38;5;241m=\u001b[39mrequest)\n\u001b[0;32m    533\u001b[0m \u001b[38;5;28;01melif\u001b[39;00m \u001b[38;5;28misinstance\u001b[39m(e, _InvalidHeader):\n\u001b[0;32m    534\u001b[0m     \u001b[38;5;28;01mraise\u001b[39;00m InvalidHeader(e, request\u001b[38;5;241m=\u001b[39mrequest)\n",
      "\u001b[1;31mReadTimeout\u001b[0m: HTTPSConnectionPool(host='khabar.kz', port=443): Read timed out. (read timeout=None)"
     ]
    }
   ],
   "source": [
    "# analyze Cluster 1 articles\n",
    "cluster1_df = analyze_keywords_by_cluster(1,cluster1_url,keywords1,keywords2)"
   ]
  },
  {
   "cell_type": "code",
   "execution_count": 23,
   "id": "4998ec68",
   "metadata": {},
   "outputs": [
    {
     "ename": "NameError",
     "evalue": "name 'cluster1_df' is not defined",
     "output_type": "error",
     "traceback": [
      "\u001b[1;31m---------------------------------------------------------------------------\u001b[0m",
      "\u001b[1;31mNameError\u001b[0m                                 Traceback (most recent call last)",
      "Cell \u001b[1;32mIn[23], line 1\u001b[0m\n\u001b[1;32m----> 1\u001b[0m cluster1_df\n",
      "\u001b[1;31mNameError\u001b[0m: name 'cluster1_df' is not defined"
     ]
    }
   ],
   "source": [
    "cluster1_df"
   ]
  },
  {
   "cell_type": "markdown",
   "id": "453f213f",
   "metadata": {},
   "source": [
    "# step 2. analyze Cluster 2 articles"
   ]
  },
  {
   "cell_type": "code",
   "execution_count": null,
   "id": "e0f20a36",
   "metadata": {},
   "outputs": [],
   "source": [
    "# analyze Cluster 2 articles\n",
    "cluster2_df = analyze_keywords_by_cluster(2,cluster2_url,keywords1,keywords2)"
   ]
  },
  {
   "cell_type": "code",
   "execution_count": null,
   "id": "3055a665",
   "metadata": {},
   "outputs": [],
   "source": [
    "cluster2_df"
   ]
  },
  {
   "cell_type": "markdown",
   "id": "cceb19ac",
   "metadata": {},
   "source": [
    "# export files"
   ]
  },
  {
   "cell_type": "code",
   "execution_count": null,
   "id": "a3f2188f",
   "metadata": {},
   "outputs": [],
   "source": [
    "cluster_df = pd.concat([cluster1_df,cluster2_df])\n",
    "cluster_df.shape"
   ]
  },
  {
   "cell_type": "code",
   "execution_count": null,
   "id": "eda9095a",
   "metadata": {},
   "outputs": [],
   "source": [
    "# article_kcounts_cluster1_filename = \"article_kcounts_cluster1.xlsx\"\n",
    "# cluster1_df.to_excel(analysis_path+article_kcounts_cluster1_filename,index=False)"
   ]
  },
  {
   "cell_type": "code",
   "execution_count": null,
   "id": "e6ce25e0",
   "metadata": {},
   "outputs": [],
   "source": [
    "# article_kcounts_cluster2_filename = \"article_kcounts_cluster2.xlsx\"\n",
    "# cluster2_df.to_excel(analysis_path+article_kcounts_cluster2_filename,index=False)"
   ]
  },
  {
   "cell_type": "code",
   "execution_count": null,
   "id": "7d2066a5",
   "metadata": {},
   "outputs": [],
   "source": [
    "article_kcounts_cluster_filename = \"article_kcounts_cluster.xlsx\"\n",
    "cluster_df.to_excel(analysis_path+article_kcounts_cluster_filename,index=False)"
   ]
  },
  {
   "cell_type": "markdown",
   "id": "b52427df",
   "metadata": {},
   "source": [
    "# import file, remove duplicates, and export again"
   ]
  },
  {
   "cell_type": "code",
   "execution_count": 49,
   "id": "678c724a",
   "metadata": {},
   "outputs": [],
   "source": [
    "exported_filename = \"article_kcounts_merged.xlsx\"\n",
    "df = pd.read_excel(analysis_path + exported_filename)"
   ]
  },
  {
   "cell_type": "code",
   "execution_count": 50,
   "id": "7e4ec6ef",
   "metadata": {},
   "outputs": [
    {
     "data": {
      "text/plain": [
       "(544, 10)"
      ]
     },
     "execution_count": 50,
     "metadata": {},
     "output_type": "execute_result"
    }
   ],
   "source": [
    "df.shape"
   ]
  },
  {
   "cell_type": "code",
   "execution_count": 52,
   "id": "dfaa4b44",
   "metadata": {},
   "outputs": [
    {
     "data": {
      "text/plain": [
       "(495, 10)"
      ]
     },
     "execution_count": 52,
     "metadata": {},
     "output_type": "execute_result"
    }
   ],
   "source": [
    "df = df.drop_duplicates()\n",
    "df.shape"
   ]
  },
  {
   "cell_type": "code",
   "execution_count": 53,
   "id": "1644a6ec",
   "metadata": {},
   "outputs": [],
   "source": [
    "article_kcounts_cluster_filename = \"article_kcounts_cluster.xlsx\"\n",
    "df.to_excel(analysis_path+article_kcounts_cluster_filename,index=False)"
   ]
  },
  {
   "cell_type": "code",
   "execution_count": null,
   "id": "844d867f",
   "metadata": {},
   "outputs": [],
   "source": []
  }
 ],
 "metadata": {
  "kernelspec": {
   "display_name": "Python 3 (ipykernel)",
   "language": "python",
   "name": "python3"
  },
  "language_info": {
   "codemirror_mode": {
    "name": "ipython",
    "version": 3
   },
   "file_extension": ".py",
   "mimetype": "text/x-python",
   "name": "python",
   "nbconvert_exporter": "python",
   "pygments_lexer": "ipython3",
   "version": "3.11.5"
  }
 },
 "nbformat": 4,
 "nbformat_minor": 5
}
